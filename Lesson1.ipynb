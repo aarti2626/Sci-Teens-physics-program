{
 "cells": [
  {
   "cell_type": "markdown",
   "id": "9b1930da-1595-4d11-9559-b74e0d632ce0",
   "metadata": {},
   "source": [
    "Hi everyone! Welcome to SciTeens SOLID Physics Camp. \n",
    "Today you'll complete your first assignment. Please work through the problems below as best as you can. Feel free to message us if you have any difficulties. "
   ]
  },
  {
   "cell_type": "code",
   "execution_count": 1,
   "id": "d5d4a229-2b38-483a-ae1f-7e5747690b76",
   "metadata": {},
   "outputs": [],
   "source": [
    "import otter\n",
    "grader = otter.Notebook()"
   ]
  },
  {
   "cell_type": "markdown",
   "id": "70fcd2ba-a357-4108-9c79-02b3975892a9",
   "metadata": {},
   "source": [
    "```\n",
    "BEGIN ASSIGNMENT\n",
    "init_cell: false\n",
    "export_cell: true\n",
    "...\n",
    "```"
   ]
  },
  {
   "cell_type": "markdown",
   "id": "bc97f62e-3898-4fcb-8f8a-0f7ea8fa8c41",
   "metadata": {},
   "source": [
    "Let's start off with a simple function here. Do you remember this equation from class? See what happens when you call the function."
   ]
  },
  {
   "cell_type": "code",
   "execution_count": null,
   "id": "2c9beb42-c6c3-4ed5-bc7d-61a81ef9156c",
   "metadata": {},
   "outputs": [],
   "source": [
    "def kinematic(a, b, c, t):\n",
    "  return(a*(t*t) + b*t + c)"
   ]
  },
  {
   "cell_type": "code",
   "execution_count": null,
   "id": "58ebbb22-a7ca-4380-8ccb-23c4863c6e23",
   "metadata": {},
   "outputs": [],
   "source": [
    "print(kinematic(1, 1, 1, 1))"
   ]
  },
  {
   "cell_type": "markdown",
   "id": "a41fe3ac-4edc-4173-b888-33ccbfa92eb7",
   "metadata": {},
   "source": [
    "Try calling the function using your own input:"
   ]
  },
  {
   "cell_type": "code",
   "execution_count": null,
   "id": "5be78795-8363-47fb-8ca4-7ab904abb78e",
   "metadata": {},
   "outputs": [],
   "source": [
    "# your input"
   ]
  },
  {
   "cell_type": "markdown",
   "id": "aeca3eac-67d6-41d9-a24b-7a3ad0592371",
   "metadata": {},
   "source": [
    "Here's another equation from class."
   ]
  },
  {
   "cell_type": "code",
   "execution_count": null,
   "id": "800c67a8-302b-46bc-bc26-200c3d62ccb2",
   "metadata": {},
   "outputs": [],
   "source": [
    "def kinematic2(v0, a, t):\n",
    "  return(v0 + a*t)"
   ]
  },
  {
   "cell_type": "code",
   "execution_count": null,
   "id": "dce82799-838a-4561-bfdd-df46454a1279",
   "metadata": {},
   "outputs": [],
   "source": [
    "# Try calling it again. What does your result represent?"
   ]
  },
  {
   "cell_type": "markdown",
   "id": "041f0fcd-660e-474a-8af7-cf08a7893eef",
   "metadata": {},
   "source": [
    "**Question 1:** Write the function 'kinematic3' for our third equation from class below.\n",
    "\n",
    "```\n",
    "BEGIN QUESTION\n",
    "name: q1\n",
    "```"
   ]
  },
  {
   "cell_type": "code",
   "execution_count": null,
   "id": "b9de2f13-a5c1-43db-9bb3-0b33b2b1e088",
   "metadata": {},
   "outputs": [],
   "source": [
    "def kinematic3(v0, a, deltaX):\n",
    "  # replace with code"
   ]
  },
  {
   "cell_type": "markdown",
   "id": "3126e06c-8b67-4c15-99a8-63d41e0f4acd",
   "metadata": {},
   "source": [
    "The following cell will test if your function works as it should. If it does, the cell will output True. If it doesn't, the test will output False. "
   ]
  },
  {
   "cell_type": "code",
   "execution_count": null,
   "id": "0827ef2c-fea7-4292-8b2b-9422445a6fe8",
   "metadata": {},
   "outputs": [],
   "source": [
    "# TEST\n",
    "kinematic3(2, 1, 2) == 8"
   ]
  }
 ],
 "metadata": {
  "kernelspec": {
   "display_name": "Python 3",
   "language": "python",
   "name": "python3"
  },
  "language_info": {
   "codemirror_mode": {
    "name": "ipython",
    "version": 3
   },
   "file_extension": ".py",
   "mimetype": "text/x-python",
   "name": "python",
   "nbconvert_exporter": "python",
   "pygments_lexer": "ipython3",
   "version": "3.7.0"
  }
 },
 "nbformat": 4,
 "nbformat_minor": 5
}
