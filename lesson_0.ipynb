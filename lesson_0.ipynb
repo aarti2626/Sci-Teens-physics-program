{
 "cells": [
  {
   "cell_type": "markdown",
   "metadata": {},
   "source": [
    "## Jupyter Notebooks Tutorial\n",
    "\n",
    "In this four-part course, we will constantly use Jupyter Notebooks, so it's important to be comfortable with how they work. \n",
    "\n",
    "This tutorial is meant for you to practice how to run code in this file to help you throughout the course. Also, don't worry about understanding the code as we will learn about what it means on day one. \n",
    "\n",
    "### What is a Jupyter Notebook?\n",
    "\n",
    "Jupyter Notebooks are, at their core, environments that allow us to write and **interpret** our code in real time. There are many programming languages that can be used in these notebooks including Python, R, Julia, and Matlab. However, in this course, we will be concentrating on Python.\n",
    "\n",
    "### How To Run Python Code \n",
    "\n",
    "In our Jupyter Notebooks, this is how our code will look like: \n"
   ]
  },
  {
   "cell_type": "code",
   "execution_count": 6,
   "metadata": {},
   "outputs": [
    {
     "data": {
      "text/plain": [
       "2"
      ]
     },
     "execution_count": 6,
     "metadata": {},
     "output_type": "execute_result"
    }
   ],
   "source": [
    "1 + 1"
   ]
  },
  {
   "cell_type": "markdown",
   "metadata": {},
   "source": [
    "\n",
    "To see the result of the code also known as the **output**, we must run it. You have two options:\n",
    "\n",
    "1. You can either click the play button to the left of the block to run the code in Google Colab.\n",
    "2. You can click on the block and press the keys `shift + enter`.\n",
    "\n",
    "As practice, try running the Python code above. The output of the code above should be a **2**. \n",
    "\n",
    "### Additional Practice "
   ]
  },
  {
   "cell_type": "markdown",
   "metadata": {},
   "source": [
    "This Python code should output 50: "
   ]
  },
  {
   "cell_type": "code",
   "execution_count": 10,
   "metadata": {},
   "outputs": [
    {
     "data": {
      "text/plain": [
       "50"
      ]
     },
     "execution_count": 10,
     "metadata": {},
     "output_type": "execute_result"
    }
   ],
   "source": [
    "5 * 10 "
   ]
  },
  {
   "cell_type": "markdown",
   "metadata": {},
   "source": [
    "This Python code should output 3:"
   ]
  },
  {
   "cell_type": "code",
   "execution_count": 9,
   "metadata": {},
   "outputs": [
    {
     "data": {
      "text/plain": [
       "5.0"
      ]
     },
     "execution_count": 9,
     "metadata": {},
     "output_type": "execute_result"
    }
   ],
   "source": [
    "15 / 3"
   ]
  },
  {
   "cell_type": "markdown",
   "metadata": {},
   "source": [
    "This Python code should output 90:"
   ]
  },
  {
   "cell_type": "code",
   "execution_count": 8,
   "metadata": {},
   "outputs": [
    {
     "data": {
      "text/plain": [
       "90"
      ]
     },
     "execution_count": 8,
     "metadata": {},
     "output_type": "execute_result"
    }
   ],
   "source": [
    "100 - 10"
   ]
  }
 ],
 "metadata": {
  "kernelspec": {
   "display_name": "Python 3",
   "language": "python",
   "name": "python3"
  },
  "language_info": {
   "codemirror_mode": {
    "name": "ipython",
    "version": 3
   },
   "file_extension": ".py",
   "mimetype": "text/x-python",
   "name": "python",
   "nbconvert_exporter": "python",
   "pygments_lexer": "ipython3",
   "version": "3.8.3"
  }
 },
 "nbformat": 4,
 "nbformat_minor": 2
}
