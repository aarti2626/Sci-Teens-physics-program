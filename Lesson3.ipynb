{
 "cells": [
  {
   "cell_type": "markdown",
   "id": "df2baf4c-a8a5-4fe0-9ab9-bbcd1d345e66",
   "metadata": {},
   "source": [
    "# Lesson 3: Introduction to DataFrames\n",
    "Hi everyone! Hope you had a good first assignment.\n",
    "Today we'll start working with data tables using Python's pandas library.\n",
    "As per usual, let us know if you have any questions."
   ]
  },
  {
   "cell_type": "markdown",
   "id": "95534e9a-c30e-489b-b9bc-177ffd97fa5b",
   "metadata": {},
   "source": [
    "## Section One: Importing Pandas\n",
    "Before we can get started with writing our notebook and diving into some data, we have to import a **package**. Packages are pre-built bundles of code that allow us to achieve common tasks that we wouldn't be able to achieve in plain Python.\n",
    "\n",
    "Pandas is a package that comes with many built in tools for examining and manipulating data. We'll use this package a lot throughout this course to help us read in and access our data."
   ]
  },
  {
   "cell_type": "markdown",
   "id": "57d3fc48-1902-4b3b-86cb-1fa8ff2fa833",
   "metadata": {},
   "source": [
    "<center>\n",
    "<img src=\"https://camo.githubusercontent.com/4625c5e344a46d938ff6316a49831ee304e7cf7c/68747470733a2f2f6d656469612e67697068792e636f6d2f6d656469612f456174774a5a525549763431472f67697068792e676966\" alt=\"pandas be like\">\n",
    "</center>"
   ]
  },
  {
   "cell_type": "code",
   "execution_count": 13,
   "id": "461c098e-7976-40b4-b0e5-0ae6a3a2c4e8",
   "metadata": {},
   "outputs": [],
   "source": [
    "import pandas as pd"
   ]
  },
  {
   "cell_type": "markdown",
   "id": "e2e7f05b-04ef-4636-8967-8db889c58159",
   "metadata": {},
   "source": [
    "## Section Two: Using Lists"
   ]
  },
  {
   "cell_type": "markdown",
   "id": "d3394b5f-45f3-49c9-b351-4279a4cbd73d",
   "metadata": {},
   "source": [
    "Today we'll be learning about a data structure called a DataFrame. A DataFrame is a two-dimensional data structure, meaning that it has tables and columns. "
   ]
  },
  {
   "cell_type": "markdown",
   "id": "8170829a-b6c9-492e-a1aa-9ae3b2faec00",
   "metadata": {},
   "source": [
    "Though you can initialize a DataFrame with many different types of data, we will be looking specifically at lists. How can we pass in lists to a DataFrame?"
   ]
  },
  {
   "cell_type": "markdown",
   "id": "68114408-095e-4f44-87b1-5805561fffd9",
   "metadata": {},
   "source": [
    "Let's say I have the following array of x-values."
   ]
  },
  {
   "cell_type": "code",
   "execution_count": 4,
   "id": "26cf613d-42ee-498b-b409-ee23adf864e3",
   "metadata": {},
   "outputs": [],
   "source": [
    "x_values = [0, 1, 2, 3, 4]"
   ]
  },
  {
   "cell_type": "markdown",
   "id": "2ace7f8e-8ff9-47c1-897f-fbc2a4a6f92a",
   "metadata": {},
   "source": [
    "Pretty easy, right? Well, what if I wanted an array of y-values based on the x-values? Let's say that I wanted every y-value to be the corresponding x-value times 2. \n",
    "\n",
    "This would mean that the y-value array would be [0, 2, 4, 6 8].\n",
    "\n",
    "I could write the following loop to do this:"
   ]
  },
  {
   "cell_type": "code",
   "execution_count": 7,
   "id": "42e7241c-311f-4d36-98c3-6a8a32e6c16c",
   "metadata": {},
   "outputs": [],
   "source": [
    "y_values = [0, 0, 0, 0, 0]\n",
    "for i in range(len(x_values)):\n",
    "    y_values[i] = x_values[i] * 2"
   ]
  },
  {
   "cell_type": "markdown",
   "id": "bfeaf0cf-8fd7-48c8-b36c-1fab4d94c557",
   "metadata": {},
   "source": [
    "Let's print the values to make sure we got what we wanted."
   ]
  },
  {
   "cell_type": "code",
   "execution_count": 8,
   "id": "16fc9295-a96e-4745-84a2-5f432f8d046e",
   "metadata": {},
   "outputs": [
    {
     "name": "stdout",
     "output_type": "stream",
     "text": [
      "[0, 2, 4, 6, 8]\n"
     ]
    }
   ],
   "source": [
    "print(y_values)"
   ]
  },
  {
   "cell_type": "markdown",
   "id": "394e28ef-8364-4ce6-b2d0-29b8c53f8d1f",
   "metadata": {},
   "source": [
    "Though we got the correct output, there's actually a much easier way to initialize this list in Python. We can actually do it in a single line."
   ]
  },
  {
   "cell_type": "markdown",
   "id": "ffde7f62-5197-42c5-8a80-25ce4f16d804",
   "metadata": {},
   "source": [
    "Look at the following cell and try to absorb the syntax. It is the same for-loop we've been seeing, but it's just in one line. It's saying that **for each value in x-values, add double that value to y-values**. "
   ]
  },
  {
   "cell_type": "code",
   "execution_count": 10,
   "id": "068f5f95-e72e-4808-90f9-6570f8a2f8a6",
   "metadata": {},
   "outputs": [],
   "source": [
    "y_values = [i*2 for i in x_values] # results in [0, 2, 4, 6, 8]"
   ]
  },
  {
   "cell_type": "markdown",
   "id": "a4541446-914d-4d2e-ae1c-bce1893795d2",
   "metadata": {},
   "source": [
    "When you print this list, you should see the same result you saw previously. Keep in mind, you don't have to use this syntax if you don't want to -- the first way will always work as well. It's just a cool Python trick you're welcome to use."
   ]
  },
  {
   "cell_type": "code",
   "execution_count": 11,
   "id": "509125f4-fc20-4c1a-8ef5-8c42a6f183bd",
   "metadata": {},
   "outputs": [
    {
     "name": "stdout",
     "output_type": "stream",
     "text": [
      "[0, 2, 4, 6, 8]\n"
     ]
    }
   ],
   "source": [
    "print(y_values)"
   ]
  },
  {
   "cell_type": "markdown",
   "id": "4fabbd69-3805-4b45-8154-013033b34e3b",
   "metadata": {},
   "source": [
    "## Section Three: Combining Lists Into a DataFrame"
   ]
  },
  {
   "cell_type": "markdown",
   "id": "d59fdb2d-0612-4cb6-a0c2-442b0dc18687",
   "metadata": {},
   "source": [
    "Now that we have two lists, we can combine them in a DataFrame like this:"
   ]
  },
  {
   "cell_type": "code",
   "execution_count": 14,
   "id": "35becdc2-3ca0-409b-945c-0004c5cd3493",
   "metadata": {},
   "outputs": [],
   "source": [
    "df = pd.DataFrame(x_values, y_values)"
   ]
  },
  {
   "cell_type": "markdown",
   "id": "c4f51b73-48f7-42bf-8a28-20816dd54b4a",
   "metadata": {},
   "source": [
    "The syntax here is important to note. We constructed a DataFrame by calling pd.DataFrame(), giving it two list parameters. The **pd** refers to the imported package. In this case, we imported the package Pandas as pd. After the dot is **DataFrame()**, which is a **method** of the imported package."
   ]
  },
  {
   "cell_type": "markdown",
   "id": "12051413-c287-48c9-be85-08832aa19b38",
   "metadata": {},
   "source": [
    "A package comes with a whole bunch of different **methods**. You can think of these methods as essentially functions that come “bundled” in when you import the software."
   ]
  },
  {
   "cell_type": "markdown",
   "id": "4bc35154-81e3-4789-98e2-e3826c64c502",
   "metadata": {},
   "source": [
    "We'll look at methods that are specific to DataFrames later, but for now, let's print the DataFrame we just made."
   ]
  },
  {
   "cell_type": "code",
   "execution_count": 15,
   "id": "ca60895e-42ae-43d5-94a0-379ef1ab6fba",
   "metadata": {},
   "outputs": [
    {
     "name": "stdout",
     "output_type": "stream",
     "text": [
      "   0\n",
      "0  0\n",
      "2  1\n",
      "4  2\n",
      "6  3\n",
      "8  4\n"
     ]
    }
   ],
   "source": [
    "print(df)"
   ]
  },
  {
   "cell_type": "markdown",
   "id": "af22d43d-a7af-4ad3-810d-507a2e111cfa",
   "metadata": {},
   "source": [
    "<div class=\"alert alert-block alert-info\">\n",
    "<b>Practice Question 1</b>\n",
    "</div>"
   ]
  },
  {
   "cell_type": "markdown",
   "id": "5c9714f4-7cdf-452d-8d41-4b6e5e2164c3",
   "metadata": {},
   "source": [
    "Notice that the x-values are the first column and the y-values are the second. This is because, according to the constructor, we passed in the y-values as the \"index\". Can you set the x-values as the index instead? Hint: just switch the order of the parameters."
   ]
  },
  {
   "cell_type": "code",
   "execution_count": 16,
   "id": "7bb69adf-c465-4124-ba6f-835840f8c27f",
   "metadata": {},
   "outputs": [],
   "source": [
    "# set x-values as index\n",
    "# df = pd.DataFrame()\n",
    "# print(df)"
   ]
  },
  {
   "cell_type": "markdown",
   "id": "ce675956-0123-4a59-8f4a-dfd6bbbe373f",
   "metadata": {},
   "source": [
    "Let's say the x-values are position data and the y-values are velocity. The following code should label that."
   ]
  },
  {
   "cell_type": "code",
   "execution_count": 18,
   "id": "4e0193fa-fad9-4f5a-ab16-51a210cdfa36",
   "metadata": {},
   "outputs": [
    {
     "name": "stdout",
     "output_type": "stream",
     "text": [
      "   position  velocity\n",
      "0         0         0\n",
      "1         1         2\n",
      "2         2         4\n",
      "3         3         6\n",
      "4         4         8\n"
     ]
    }
   ],
   "source": [
    "df = pd.DataFrame({'position': x_values, 'velocity': y_values})\n",
    "print(df)"
   ]
  },
  {
   "cell_type": "markdown",
   "id": "d39b1266-4d3a-4710-aa59-f7d8b4583635",
   "metadata": {},
   "source": [
    "Basically, we just restructured the DataFrame. Instead of x_values being the index, they are now part of the dataset. Wrapping the argument in curly brackets {} told Pandas that both lists were columns. Neither was an index value. As you can see, another column was added on the left -- the default index. If you do not provide a value for the index parameter, Pandas will create a default one for you. "
   ]
  },
  {
   "cell_type": "markdown",
   "id": "1c5c5bf2-25fc-4bb6-bff6-aae82de47c07",
   "metadata": {},
   "source": [
    "## Section Four: Adding To a DataFrame"
   ]
  },
  {
   "cell_type": "markdown",
   "id": "9e113479-0cda-492b-a317-f94d1166529e",
   "metadata": {},
   "source": [
    "Well, now that you have a position-velocity dataset, what's another column you could add? Time! Remember, if you divide position by velocity, you get time. "
   ]
  },
  {
   "cell_type": "code",
   "execution_count": 20,
   "id": "757b3126-470e-4628-884d-f83fc45b062f",
   "metadata": {},
   "outputs": [],
   "source": [
    "# Let's first create a list for time\n",
    "time = [0, 0, 0, 0, 0]"
   ]
  },
  {
   "cell_type": "markdown",
   "id": "e17d3461-0e32-4504-80e7-80302a7110a1",
   "metadata": {},
   "source": [
    "Using a for-loop, let's fill values in time with respect to the position and velocity arrays. We'll start the loop at 1 and not 0 to avoid getting a division by 0 error."
   ]
  },
  {
   "cell_type": "code",
   "execution_count": 21,
   "id": "9147fabe-25aa-46a5-916e-9e60d28bcfb8",
   "metadata": {},
   "outputs": [
    {
     "name": "stdout",
     "output_type": "stream",
     "text": [
      "[0, 0.5, 1.0, 1.5, 2.0]\n"
     ]
    }
   ],
   "source": [
    "for i in range(1, len(x_values)):\n",
    "    time[i] = x_values[i] / y_values[i]\n",
    "    time[i] += time[i-1]\n",
    "print(time)"
   ]
  },
  {
   "cell_type": "markdown",
   "id": "53645070-db04-4c6a-aa11-5ed1b1c4ca91",
   "metadata": {},
   "source": [
    "Let's add our new array to the existing DataFrame."
   ]
  },
  {
   "cell_type": "code",
   "execution_count": 22,
   "id": "b51897bd-d136-40ff-bf58-efb4398e70dd",
   "metadata": {},
   "outputs": [],
   "source": [
    "df['time'] = time\n",
    "#print(df)"
   ]
  },
  {
   "cell_type": "markdown",
   "id": "ef01aa1b-267a-40c2-b645-b155df9214ae",
   "metadata": {},
   "source": [
    "Now that we have velocity and time, we can totally calculate acceleration. "
   ]
  },
  {
   "cell_type": "code",
   "execution_count": 54,
   "id": "9fb08fb3-ffeb-4fa6-822c-c5e041aa894e",
   "metadata": {},
   "outputs": [
    {
     "name": "stdout",
     "output_type": "stream",
     "text": [
      "[0, 4.0, 4.0, 4.0, 4.0]\n"
     ]
    }
   ],
   "source": [
    "acceleration = [0, 0, 0, 0, 0]"
   ]
  },
  {
   "cell_type": "markdown",
   "id": "bed1bf08-23f8-4bb3-851b-269623d1e6be",
   "metadata": {},
   "source": [
    "<div class=\"alert alert-block alert-info\">\n",
    "<b>Practice Question 2</b>\n",
    "</div>"
   ]
  },
  {
   "cell_type": "markdown",
   "id": "905d546f-d1eb-4a8b-a335-edfa945b5271",
   "metadata": {},
   "source": [
    "Write a for-loop to give values to the acceleration list. Again, start with index 1 to avoid getting a division-by-0 error."
   ]
  },
  {
   "cell_type": "code",
   "execution_count": 56,
   "id": "9787c392-dab1-4143-b4e1-b33be3021f1f",
   "metadata": {},
   "outputs": [],
   "source": [
    "# for i in range(1, len(time)):\n",
    "    # acceleration[i] = \n",
    "#print(acceleration)"
   ]
  },
  {
   "cell_type": "markdown",
   "id": "ee1470aa-dec7-4a89-adde-e4d351f6f606",
   "metadata": {},
   "source": [
    "<div class=\"alert alert-block alert-info\">\n",
    "<b>Practice Question 3</b>\n",
    "</div>"
   ]
  },
  {
   "cell_type": "markdown",
   "id": "9748856c-ee33-44a7-a2a3-259e28d55a5d",
   "metadata": {},
   "source": [
    "Add your acceleration list to the existing DataFrame."
   ]
  },
  {
   "cell_type": "code",
   "execution_count": 57,
   "id": "d3860a39-2b79-4f58-a34c-8d0d36c07fcb",
   "metadata": {},
   "outputs": [],
   "source": [
    "# add acceleration\n",
    "# print(df)"
   ]
  },
  {
   "cell_type": "markdown",
   "id": "9cd0e048-38b7-4808-a7f6-18b7732ea82c",
   "metadata": {},
   "source": [
    "Notice that the acceleration is constant when velocity is increasing at a steady rate. "
   ]
  },
  {
   "cell_type": "markdown",
   "id": "823264e0-e5f9-41d0-9c6c-0380a198ae39",
   "metadata": {},
   "source": [
    "## Section Five: Accessing Your Data"
   ]
  },
  {
   "cell_type": "markdown",
   "id": "2826a960-aa0d-4ffd-bde8-82e808749774",
   "metadata": {},
   "source": [
    "Now that you've kind of gotten the basics of DataFrames, let's run through some additional methods."
   ]
  },
  {
   "cell_type": "markdown",
   "id": "d3df330d-e830-420a-91d6-2c094f592870",
   "metadata": {},
   "source": [
    "The iloc() method helps you fetch a specific row of data."
   ]
  },
  {
   "cell_type": "code",
   "execution_count": 58,
   "id": "2060ecf0-818f-4abd-b4c1-a80baaf15f57",
   "metadata": {},
   "outputs": [
    {
     "data": {
      "text/plain": [
       "position        0.0\n",
       "velocity        0.0\n",
       "time            0.0\n",
       "acceleration    0.0\n",
       "Name: 0, dtype: float64"
      ]
     },
     "execution_count": 58,
     "metadata": {},
     "output_type": "execute_result"
    }
   ],
   "source": [
    "# This will return the first row (index 0) of your data\n",
    "df.iloc[0]"
   ]
  },
  {
   "cell_type": "markdown",
   "id": "32bbaf99-f754-47f0-8e84-6a84dfacc62c",
   "metadata": {},
   "source": [
    "Another important tool at your disposal in Python, and Pandas, is **slicing** the data. This allows us to select multiple rows at once. For example, if we wanted to select the first two rows of the data, we would use the code block below. Remember that since Python is zero-indexed, the first two rows are indices 0 and 1."
   ]
  },
  {
   "cell_type": "code",
   "execution_count": 23,
   "id": "fbf63f2e-aa57-4946-a465-1629e4f0692a",
   "metadata": {},
   "outputs": [
    {
     "data": {
      "text/html": [
       "<div>\n",
       "<style scoped>\n",
       "    .dataframe tbody tr th:only-of-type {\n",
       "        vertical-align: middle;\n",
       "    }\n",
       "\n",
       "    .dataframe tbody tr th {\n",
       "        vertical-align: top;\n",
       "    }\n",
       "\n",
       "    .dataframe thead th {\n",
       "        text-align: right;\n",
       "    }\n",
       "</style>\n",
       "<table border=\"1\" class=\"dataframe\">\n",
       "  <thead>\n",
       "    <tr style=\"text-align: right;\">\n",
       "      <th></th>\n",
       "      <th>position</th>\n",
       "      <th>velocity</th>\n",
       "      <th>time</th>\n",
       "    </tr>\n",
       "  </thead>\n",
       "  <tbody>\n",
       "    <tr>\n",
       "      <th>0</th>\n",
       "      <td>0</td>\n",
       "      <td>0</td>\n",
       "      <td>0.0</td>\n",
       "    </tr>\n",
       "    <tr>\n",
       "      <th>1</th>\n",
       "      <td>1</td>\n",
       "      <td>2</td>\n",
       "      <td>0.5</td>\n",
       "    </tr>\n",
       "  </tbody>\n",
       "</table>\n",
       "</div>"
      ],
      "text/plain": [
       "   position  velocity  time\n",
       "0         0         0   0.0\n",
       "1         1         2   0.5"
      ]
     },
     "execution_count": 23,
     "metadata": {},
     "output_type": "execute_result"
    }
   ],
   "source": [
    "df.iloc[0:2]\n",
    "# This fetches the first TWO rows of data (indexes 0 and 1). "
   ]
  },
  {
   "cell_type": "markdown",
   "id": "87b974c6-7190-4712-b206-32bd50129d31",
   "metadata": {},
   "source": [
    "You may have noticed that although the slice starts at 0, we tell it to end at 2. Slicing works by including the first number specified, but excluding the last number specified. You're absolutely justified in being confused by this at first, but don't worry; with practice, this will become much easier to understand."
   ]
  },
  {
   "cell_type": "markdown",
   "id": "0420c152-c912-4243-87b4-f2a91c87b610",
   "metadata": {},
   "source": [
    "Though in our example, we used two numbers for our slicing technique -- a first and last index -- , you can also use just one. For example, if you wanted to slice every row after the first one, you'd do it like this:"
   ]
  },
  {
   "cell_type": "code",
   "execution_count": 25,
   "id": "e271a1b3-1f94-477f-8839-4aa8c7ba6612",
   "metadata": {},
   "outputs": [
    {
     "data": {
      "text/html": [
       "<div>\n",
       "<style scoped>\n",
       "    .dataframe tbody tr th:only-of-type {\n",
       "        vertical-align: middle;\n",
       "    }\n",
       "\n",
       "    .dataframe tbody tr th {\n",
       "        vertical-align: top;\n",
       "    }\n",
       "\n",
       "    .dataframe thead th {\n",
       "        text-align: right;\n",
       "    }\n",
       "</style>\n",
       "<table border=\"1\" class=\"dataframe\">\n",
       "  <thead>\n",
       "    <tr style=\"text-align: right;\">\n",
       "      <th></th>\n",
       "      <th>position</th>\n",
       "      <th>velocity</th>\n",
       "      <th>time</th>\n",
       "    </tr>\n",
       "  </thead>\n",
       "  <tbody>\n",
       "    <tr>\n",
       "      <th>1</th>\n",
       "      <td>1</td>\n",
       "      <td>2</td>\n",
       "      <td>0.5</td>\n",
       "    </tr>\n",
       "    <tr>\n",
       "      <th>2</th>\n",
       "      <td>2</td>\n",
       "      <td>4</td>\n",
       "      <td>1.0</td>\n",
       "    </tr>\n",
       "    <tr>\n",
       "      <th>3</th>\n",
       "      <td>3</td>\n",
       "      <td>6</td>\n",
       "      <td>1.5</td>\n",
       "    </tr>\n",
       "    <tr>\n",
       "      <th>4</th>\n",
       "      <td>4</td>\n",
       "      <td>8</td>\n",
       "      <td>2.0</td>\n",
       "    </tr>\n",
       "  </tbody>\n",
       "</table>\n",
       "</div>"
      ],
      "text/plain": [
       "   position  velocity  time\n",
       "1         1         2   0.5\n",
       "2         2         4   1.0\n",
       "3         3         6   1.5\n",
       "4         4         8   2.0"
      ]
     },
     "execution_count": 25,
     "metadata": {},
     "output_type": "execute_result"
    }
   ],
   "source": [
    "df.iloc[1:]"
   ]
  },
  {
   "cell_type": "markdown",
   "id": "507f056a-0a61-45a5-b370-b1c9000e2c98",
   "metadata": {},
   "source": [
    "We fetched all the rows, except for the first one. So, when you don't specify a last index, it defaults to the very last row (and includes it)."
   ]
  },
  {
   "cell_type": "markdown",
   "id": "57cebc5e-8632-44ee-bb22-f0f9d845488a",
   "metadata": {},
   "source": [
    "Similarly, if we wanted to fetch every row of data UNTIL a certain index, we could do that. The following code should fetch every row of data, until the third row."
   ]
  },
  {
   "cell_type": "code",
   "execution_count": 27,
   "id": "b88a5900-830e-487a-95cb-e836ed978972",
   "metadata": {},
   "outputs": [
    {
     "data": {
      "text/html": [
       "<div>\n",
       "<style scoped>\n",
       "    .dataframe tbody tr th:only-of-type {\n",
       "        vertical-align: middle;\n",
       "    }\n",
       "\n",
       "    .dataframe tbody tr th {\n",
       "        vertical-align: top;\n",
       "    }\n",
       "\n",
       "    .dataframe thead th {\n",
       "        text-align: right;\n",
       "    }\n",
       "</style>\n",
       "<table border=\"1\" class=\"dataframe\">\n",
       "  <thead>\n",
       "    <tr style=\"text-align: right;\">\n",
       "      <th></th>\n",
       "      <th>position</th>\n",
       "      <th>velocity</th>\n",
       "      <th>time</th>\n",
       "    </tr>\n",
       "  </thead>\n",
       "  <tbody>\n",
       "    <tr>\n",
       "      <th>0</th>\n",
       "      <td>0</td>\n",
       "      <td>0</td>\n",
       "      <td>0.0</td>\n",
       "    </tr>\n",
       "    <tr>\n",
       "      <th>1</th>\n",
       "      <td>1</td>\n",
       "      <td>2</td>\n",
       "      <td>0.5</td>\n",
       "    </tr>\n",
       "    <tr>\n",
       "      <th>2</th>\n",
       "      <td>2</td>\n",
       "      <td>4</td>\n",
       "      <td>1.0</td>\n",
       "    </tr>\n",
       "  </tbody>\n",
       "</table>\n",
       "</div>"
      ],
      "text/plain": [
       "   position  velocity  time\n",
       "0         0         0   0.0\n",
       "1         1         2   0.5\n",
       "2         2         4   1.0"
      ]
     },
     "execution_count": 27,
     "metadata": {},
     "output_type": "execute_result"
    }
   ],
   "source": [
    "df.iloc[:3]"
   ]
  },
  {
   "cell_type": "markdown",
   "id": "64ad9311-1991-4727-b719-b6cb35387a59",
   "metadata": {},
   "source": [
    "Try out some more slicing techniques below."
   ]
  },
  {
   "cell_type": "markdown",
   "id": "f07062e1-b104-4e00-8bd1-a3ef766fb169",
   "metadata": {},
   "source": [
    "<div class=\"alert alert-block alert-info\">\n",
    "<b>Practice Question 4</b>\n",
    "</div>"
   ]
  },
  {
   "cell_type": "markdown",
   "id": "cc86f702-a592-417f-ae7e-f7e090e72faa",
   "metadata": {},
   "source": [
    "Print out rows 2-4 of your data, inclusive."
   ]
  },
  {
   "cell_type": "code",
   "execution_count": null,
   "id": "538360a9-9c93-4af8-bc2d-03ea1f987a8f",
   "metadata": {},
   "outputs": [],
   "source": []
  },
  {
   "cell_type": "markdown",
   "id": "410f9a0d-8524-46b1-b870-1b3a37159334",
   "metadata": {},
   "source": [
    "<div class=\"alert alert-block alert-info\">\n",
    "<b>Practice Question 5</b>\n",
    "</div>"
   ]
  },
  {
   "cell_type": "markdown",
   "id": "a475a27d-b6af-407c-875f-58eb34ee5ec6",
   "metadata": {},
   "source": [
    "Print out rows 1, 2, and 3 of your data."
   ]
  },
  {
   "cell_type": "code",
   "execution_count": null,
   "id": "5af8151e-d07f-49ee-a888-6705d3eafd15",
   "metadata": {},
   "outputs": [],
   "source": []
  },
  {
   "cell_type": "markdown",
   "id": "bada7a68-198f-4ce0-8af0-d3e3fb521b1b",
   "metadata": {},
   "source": [
    "<div class=\"alert alert-block alert-info\">\n",
    "<b>Practice Question 6</b>\n",
    "</div>"
   ]
  },
  {
   "cell_type": "markdown",
   "id": "452fc938-fbcb-4564-a9cc-2726a20c7335",
   "metadata": {},
   "source": [
    "Print out every row AFTER the second row."
   ]
  },
  {
   "cell_type": "code",
   "execution_count": null,
   "id": "952e29c0-f7d0-4af0-b9b0-0ef4fa5ac56a",
   "metadata": {},
   "outputs": [],
   "source": []
  },
  {
   "cell_type": "markdown",
   "id": "ba9248c0-594d-4667-abd2-395dcd771a93",
   "metadata": {},
   "source": [
    "<div class=\"alert alert-block alert-info\">\n",
    "<b>Practice Question 7</b>\n",
    "</div>"
   ]
  },
  {
   "cell_type": "markdown",
   "id": "d7ca2c1e-8cd6-46bd-b7de-dbd3dea6a2d7",
   "metadata": {},
   "source": [
    "Print out every row before the last row."
   ]
  },
  {
   "cell_type": "code",
   "execution_count": null,
   "id": "a537dcf7-7491-4d2c-b998-f067ad6a7995",
   "metadata": {},
   "outputs": [],
   "source": []
  },
  {
   "cell_type": "markdown",
   "id": "bd2acfdf-3de5-416f-ac27-f0acd1071541",
   "metadata": {},
   "source": [
    "<div class=\"alert alert-block alert-info\">\n",
    "<b>Practice Question 8</b>\n",
    "</div>"
   ]
  },
  {
   "cell_type": "markdown",
   "id": "50dc71c3-b5b7-4957-ab33-1ae9b4e82bbf",
   "metadata": {},
   "source": [
    "Print out just row 3 of your data. Careful: do you need to slice for this?"
   ]
  },
  {
   "cell_type": "code",
   "execution_count": null,
   "id": "36625165-dae2-46aa-a78d-b62daf986a4e",
   "metadata": {},
   "outputs": [],
   "source": []
  },
  {
   "cell_type": "markdown",
   "id": "4d9692d3-a10d-42f3-9cc9-fe39b9ef99ca",
   "metadata": {},
   "source": [
    "Of course, you can do the same things with columns."
   ]
  },
  {
   "cell_type": "code",
   "execution_count": 60,
   "id": "07e50a35-76cf-4468-94a3-d742921c65ae",
   "metadata": {},
   "outputs": [
    {
     "data": {
      "text/plain": [
       "0    0\n",
       "1    1\n",
       "2    2\n",
       "3    3\n",
       "4    4\n",
       "Name: position, dtype: int64"
      ]
     },
     "execution_count": 60,
     "metadata": {},
     "output_type": "execute_result"
    }
   ],
   "source": [
    "df['position'] #this returns only the position column"
   ]
  },
  {
   "cell_type": "markdown",
   "id": "43a6f02f-2e20-4fd6-8519-275f1f62e97f",
   "metadata": {},
   "source": [
    "Accessing columns is pretty easy, right? Try the following problems."
   ]
  },
  {
   "cell_type": "markdown",
   "id": "4f6e09ed-bb62-4ae2-ae96-cc81016aa75f",
   "metadata": {},
   "source": [
    "<div class=\"alert alert-block alert-info\">\n",
    "<b>Practice Question 9</b>\n",
    "</div>"
   ]
  },
  {
   "cell_type": "markdown",
   "id": "ac0905c0-502a-4880-8a1b-2ba2ff79d7c8",
   "metadata": {},
   "source": [
    "Fetch just the velocity data."
   ]
  },
  {
   "cell_type": "code",
   "execution_count": null,
   "id": "f941e5b0-3b53-4624-a943-f628d0865cd6",
   "metadata": {},
   "outputs": [],
   "source": []
  },
  {
   "cell_type": "markdown",
   "id": "d0ad2ddc-55d8-47c8-92dc-6700a23beb43",
   "metadata": {},
   "source": [
    "<div class=\"alert alert-block alert-info\">\n",
    "<b>Practice Question 10</b>\n",
    "</div>"
   ]
  },
  {
   "cell_type": "markdown",
   "id": "3ebde4ad-b8ba-4243-adba-6b7572d9d170",
   "metadata": {},
   "source": [
    "Fetch just the acceleration data."
   ]
  },
  {
   "cell_type": "code",
   "execution_count": null,
   "id": "dea4cc85-6306-4f9d-932c-9a13224d70c5",
   "metadata": {},
   "outputs": [],
   "source": []
  },
  {
   "cell_type": "markdown",
   "id": "78af7566-32c7-439f-be1c-e13fff16dff6",
   "metadata": {},
   "source": [
    "<div class=\"alert alert-block alert-info\">\n",
    "<b>Practice Question 11</b>\n",
    "</div>"
   ]
  },
  {
   "cell_type": "markdown",
   "id": "c239b1c8-00a7-4337-8f1f-350e56434819",
   "metadata": {},
   "source": [
    "Fetch the last two rows of position data."
   ]
  },
  {
   "cell_type": "code",
   "execution_count": null,
   "id": "caad2f2d-13cd-43de-958a-ab9befa17b10",
   "metadata": {},
   "outputs": [],
   "source": []
  },
  {
   "cell_type": "markdown",
   "id": "f3d00138-9446-4591-9e78-b8e4e7f08295",
   "metadata": {},
   "source": [
    "## Section Five: Statistical Methods"
   ]
  },
  {
   "cell_type": "markdown",
   "id": "192e2e81-fbfc-4e74-a566-fecc15a07b18",
   "metadata": {},
   "source": [
    "You can also calculate the mean and median of your data using built-in methods. These are pretty easy to use."
   ]
  },
  {
   "cell_type": "code",
   "execution_count": 35,
   "id": "510dd93d-4a78-48ed-8ed8-98660c2c124b",
   "metadata": {},
   "outputs": [
    {
     "data": {
      "text/plain": [
       "4.0"
      ]
     },
     "execution_count": 35,
     "metadata": {},
     "output_type": "execute_result"
    }
   ],
   "source": [
    "df['velocity'].mean()\n",
    "# this returns the mean, or average, of all the velocity values"
   ]
  },
  {
   "cell_type": "code",
   "execution_count": 36,
   "id": "76e49c5b-6f3a-44f5-b367-2c10f01aaa7d",
   "metadata": {},
   "outputs": [
    {
     "data": {
      "text/plain": [
       "2.0"
      ]
     },
     "execution_count": 36,
     "metadata": {},
     "output_type": "execute_result"
    }
   ],
   "source": [
    "df['position'].median()\n",
    "# this returns the median of the position values"
   ]
  },
  {
   "cell_type": "markdown",
   "id": "f7acfe5f-ac8d-425a-8971-efc6085321cb",
   "metadata": {},
   "source": [
    "<div class=\"alert alert-block alert-info\">\n",
    "<b>Practice Question 12</b>\n",
    "</div>"
   ]
  },
  {
   "cell_type": "markdown",
   "id": "97690d96-2ace-480e-8bd2-41d4833cbc03",
   "metadata": {},
   "source": [
    "Find the mean and median of the time column."
   ]
  },
  {
   "cell_type": "code",
   "execution_count": 37,
   "id": "6f4e481e-fdbd-4a6d-8aef-cde88135a850",
   "metadata": {},
   "outputs": [],
   "source": [
    "# time mean"
   ]
  },
  {
   "cell_type": "code",
   "execution_count": 38,
   "id": "3a9cd3bf-60a7-474f-9d9d-d9eb2c2b35ec",
   "metadata": {},
   "outputs": [],
   "source": [
    "# time median"
   ]
  },
  {
   "cell_type": "markdown",
   "id": "700c695e-bb1e-43f7-a187-c70c8a33aa68",
   "metadata": {},
   "source": [
    "You've learned so much about DataFrames by now! Try this challenge problem."
   ]
  },
  {
   "cell_type": "markdown",
   "id": "e4e87b4e-e596-4668-86c5-52da23bd7a08",
   "metadata": {},
   "source": [
    "<div class=\"alert alert-block alert-success\"\">\n",
    "<b>Challenge Question</b>\n",
    "</div>"
   ]
  },
  {
   "cell_type": "markdown",
   "id": "1a4172ff-6ce9-4dc6-ab2e-05c482432a12",
   "metadata": {},
   "source": [
    "Add a column of values of your choice (these can just be numbers you make up, since we've already calculated everything). You can use a list and then assign it to the DataFrame, or just create a new column and assign values to that. Label the new column (again, this can be anything) and print it out by itself. Print the first three values of the new column, the last three values, and then just the third value. Lastly, find the median and average of the column you added."
   ]
  },
  {
   "cell_type": "code",
   "execution_count": 63,
   "id": "de26ff6f-21d4-47f9-bf21-81c3fdc3364e",
   "metadata": {},
   "outputs": [],
   "source": [
    "# make a list and assign it to the DataFrame"
   ]
  },
  {
   "cell_type": "code",
   "execution_count": 29,
   "id": "f0754193-a6d8-4560-96a7-a1337cb5d636",
   "metadata": {},
   "outputs": [],
   "source": [
    "# print JUST the new column from the DataFrame"
   ]
  },
  {
   "cell_type": "code",
   "execution_count": 30,
   "id": "696e29f5-4a50-44d2-b70f-67fdd9364b98",
   "metadata": {},
   "outputs": [],
   "source": [
    "# print the first three values"
   ]
  },
  {
   "cell_type": "code",
   "execution_count": 31,
   "id": "3810b232-85d1-4066-b8bd-b7416eed1dfe",
   "metadata": {},
   "outputs": [],
   "source": [
    "# print the last three values"
   ]
  },
  {
   "cell_type": "code",
   "execution_count": 32,
   "id": "a4293a11-19fb-4efc-8de0-8bb322afae39",
   "metadata": {},
   "outputs": [],
   "source": [
    "# print just the third"
   ]
  },
  {
   "cell_type": "code",
   "execution_count": 33,
   "id": "74f294c0-985d-4c2f-ad4e-793d249808b7",
   "metadata": {},
   "outputs": [],
   "source": [
    "# print the mean"
   ]
  },
  {
   "cell_type": "code",
   "execution_count": 34,
   "id": "bc81f5c7-cce9-4764-a609-3ffdeb3963f5",
   "metadata": {},
   "outputs": [],
   "source": [
    "# print the median"
   ]
  },
  {
   "cell_type": "markdown",
   "id": "27adf0a6-1a83-47d5-b536-3b882c973988",
   "metadata": {},
   "source": [
    "<div class=\"alert alert-block alert-warning\">\n",
    "<b>EXTRA PANDAS HELP: </b> In case you're desperately craving more Pandas knowledge, here's a cheat sheet to check out.\n",
    "</div>"
   ]
  },
  {
   "cell_type": "markdown",
   "id": "c804d16a-a90b-492e-a349-f05b9ccf3d3f",
   "metadata": {},
   "source": [
    "We didn't cover absolutely everything there is to cover about Pandas, but that's good news for you! There's tons more exploring you can do on your own time, and this document is a great place to start. As always, if you have any questions, don't hesitate to reach out."
   ]
  },
  {
   "cell_type": "code",
   "execution_count": 40,
   "id": "4e16cc41-382c-4578-92c3-9133b414710f",
   "metadata": {},
   "outputs": [
    {
     "data": {
      "text/html": [
       "<iframe id=\"fred\" style=\"border:1px solid #666CCC\" title=\"PDF in an i-Frame\" src=\"https://pandas.pydata.org/Pandas_Cheat_Sheet.pdf\" frameborder=\"1\" scrolling=\"auto\" height=\"1100\" width=\"850\" ></iframe>\n"
      ],
      "text/plain": [
       "<IPython.core.display.HTML object>"
      ]
     },
     "metadata": {},
     "output_type": "display_data"
    }
   ],
   "source": [
    "%%html\n",
    "<iframe id=\"fred\" style=\"border:1px solid #666CCC\" title=\"PDF in an i-Frame\" src=\"https://pandas.pydata.org/Pandas_Cheat_Sheet.pdf\" frameborder=\"1\" scrolling=\"auto\" height=\"1100\" width=\"850\" ></iframe>"
   ]
  }
 ],
 "metadata": {
  "kernelspec": {
   "display_name": "Python 3",
   "language": "python",
   "name": "python3"
  },
  "language_info": {
   "codemirror_mode": {
    "name": "ipython",
    "version": 3
   },
   "file_extension": ".py",
   "mimetype": "text/x-python",
   "name": "python",
   "nbconvert_exporter": "python",
   "pygments_lexer": "ipython3",
   "version": "3.7.0"
  }
 },
 "nbformat": 4,
 "nbformat_minor": 5
}
