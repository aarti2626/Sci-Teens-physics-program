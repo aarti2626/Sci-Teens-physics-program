{
 "cells": [
  {
   "cell_type": "code",
   "execution_count": null,
   "metadata": {
    "deletable": false,
    "editable": false
   },
   "outputs": [],
   "source": [
    "# Initialize Otter\n",
    "import otter\n",
    "grader = otter.Notebook(\"lesson_1.ipynb\")"
   ]
  },
  {
   "cell_type": "markdown",
   "metadata": {},
   "source": [
    "# Lesson One: Introduction to Data Science\n",
    "\n",
    "Welcome, and thanks for joining us! In this four-part course, you will learn the basic concepts of one of the world's most popular coding languages (i.e. Python) and dive into the field of Data Science. \n",
    "\n",
    "As we teach, please make sure to ask plenty of questions on anything you're confused about and never hesitate to let us know if we're moving too quickly!\n",
    "\n",
    "To get started, \n",
    "- If you've never used a Jupyter Notebook (i.e. the file you are currently on), make sure to try this 5-minute tutorial. \n",
    "- We _highly_ encourage you to experiment with the code and datasets in these files.  If you break anything, close the tab and open the activity again to start over.\n",
    "\n",
    "By the end of this course, you will have two main things. The first is a toolkit that is essential in _any_ field (e.g. science, business, robotics, etc.) you choose to explore. The second is a jumping off point in any research you do decide to do. \n",
    "\n",
    "Let's get started by learning about Data Science!\n",
    "\n",
    "![Data](https://media.giphy.com/media/hOzfvZynn9AK4/giphy.gif)\n",
    "\n",
    "### What is Data Science? \n",
    "\n",
    "To understand Data science, we must know these two definitions: \n",
    "- **Data**: pieces of information \n",
    "- **Dataset**: allows you to store data in an organized way \n",
    "\n",
    "Let's say we were to give you this piece of data:\n",
    "<p align=\"center\">AK,2015,Olivia,56 </p>\n",
    "\n",
    "For it to be useful, we must label it. Therefore, let's label \"AK\" as a state, \"2015\" as a year, \"Olivia\" as a name, and \"56\" as number of babies. Given the data with labels, we can deduce that in 2015 there were 56 babies called Olivia in Arkansas. If we modify any label, it makes a drastic difference in our interpretation of the data. For example, by changing \"56\" to be the number of dogs instead of babies, we conclude that in 2015 there were 56 dogs named Olivia in Arkansas which is different from our original conclusion above. \n",
    "\n",
    "With a large amount of data, we can start to find meaningful patterns called **trends**. These simply describes the general direction of the data. Some examples include: \n",
    " \n",
    "- X is increasing.\n",
    "- Y is moving upward.\n",
    "- Z is the same. \n",
    "- R is changing at a faster rate than Y.\n",
    "    \n",
    "A more relevent example is given a dataset containing the names of people diagnosed with COVID-19 in the USA and the month they were, we can find if the number of cases in the USA is increasing, decreasing, or the same. \n",
    "  \n",
    "The people who find these trends are those who study Data Science. It's defined as: \n",
    "\n",
    "\n",
    "**The application of data centric, computational,and inferential thinking to:**\n",
    "\n",
    "1. Understand the world (science)\n",
    "<br>\n",
    "2. Solve problems (engineering)\n",
    "\n",
    "In simple terms, it is the study of data with the goal of extracting useful information about it. \n",
    "\n",
    "To achieve this goal, data scientists combine aspects of statistics, computer science, and mathematics. However, we'll soon see that just because Data Science has these fields at its core it doesn't mean that it's limited to them. In reality, Data Science has a role in virtually any STEM (i.e. Science Technology Engineering Mathematics) field you can imagine. In this course, we'll be applying data science to the field of Ecology.\n"
   ]
  },
  {
   "cell_type": "markdown",
   "metadata": {},
   "source": [
    "\n",
    "## Section One: Python\n",
    "\n",
    "Just like in this world we have different languages like Spanish, English, Italian, and so forth, computers have many languages as well. There are over 500 hundred computer languages. Some of these languages are called Java, C#, Python, and so forth. \n",
    "\n",
    "In this class, we will be using Python to analyze data. By using this language, your computer can understand it the code you write.\n",
    "\n",
    "When you write a piece of code, you are writing what's known as an **algorithm**. This is a step-by-step set of instructions which tell the computer what to do. It is important to know that the computer will _only_ do what you tell it to and will not infer any step even if it's obvious to you. Therefore, you must be specific at every step. If you aren't, your program will not work. By writing an algorithm in a language your computer understands (e.g. Python), you can build anything!\n",
    "\n",
    "### Primitive Types\n",
    "\n",
    "But, before we start learning a language, we must know the basic building blocks of it. In a computer language, such as Python, these blocks are called **primitive types**. These primitive types are the basis of computer languages just like letters are to English.\n",
    "\n",
    "In Python, these are the primitive types: \n",
    "\n",
    "- integers : 1, 2, 3, 4, 5 ...\n",
    "- float / double : : 1.2, 1.453, 0.33333333 ... \n",
    "- string: \"data\", \"science\", \"Python\" ...\n",
    "- boolean: True, False\n",
    "\n",
    "\n",
    "### Operators\n",
    "\n",
    "To analyze data, we might do some sort of math computation. In a computer language, the multiplication, division, addition, and subtraction symbols are known as **operators**.\n",
    "\n",
    "In Python, these are the operators: \n",
    "\n",
    "- \\+ : add\n",
    "- \\- : subtract\n",
    "- \\* : multiply\n",
    "- / : divide\n",
    "\n",
    "You can see how to use them below!\n",
    "\n",
    "Note: In order to run our code, we have two options. You can either click the play button to the left of the block to run the code in Google Colab, or you can click on the block and press the keys shift + enter.\n"
   ]
  },
  {
   "cell_type": "code",
   "execution_count": 1,
   "metadata": {},
   "outputs": [
    {
     "data": {
      "text/plain": [
       "15"
      ]
     },
     "execution_count": 1,
     "metadata": {},
     "output_type": "execute_result"
    }
   ],
   "source": [
    "3 * 5"
   ]
  },
  {
   "cell_type": "code",
   "execution_count": 2,
   "metadata": {},
   "outputs": [
    {
     "data": {
      "text/plain": [
       "4.0"
      ]
     },
     "execution_count": 2,
     "metadata": {},
     "output_type": "execute_result"
    }
   ],
   "source": [
    "20 / 5"
   ]
  },
  {
   "cell_type": "markdown",
   "metadata": {},
   "source": [
    "Now, try this on your own!\n",
    "\n",
    "See the `#` symbol below? This isn't us using hashtags within our code, but instead, it's used for **commenting**. Comments allow us to leave messages in our code, which won't be run when we run the rest of the code. Essentially, Python / Jupyter will ignore any line of code that has a `#` before it. "
   ]
  },
  {
   "cell_type": "code",
   "execution_count": 3,
   "metadata": {},
   "outputs": [],
   "source": [
    "# TODO: Add six and seven\n"
   ]
  },
  {
   "cell_type": "code",
   "execution_count": 4,
   "metadata": {},
   "outputs": [],
   "source": [
    "# TODO: Multiply two by twenty-four\n"
   ]
  },
  {
   "cell_type": "code",
   "execution_count": 5,
   "metadata": {},
   "outputs": [],
   "source": [
    "# TODO: Divide six by four \n"
   ]
  },
  {
   "cell_type": "code",
   "execution_count": 6,
   "metadata": {},
   "outputs": [],
   "source": [
    "# TODO: Subtract twenty from seventeen\n"
   ]
  },
  {
   "cell_type": "markdown",
   "metadata": {},
   "source": [
    "The last two types of operators in Python that we'll learn are. They are super useful for dealing with situations in which we want to compare values: \n",
    "\n",
    "- == : used to check equality \n",
    "- & : represents and (we'll talk more about this soon)\n",
    "\n",
    "Just a quick note, the equality operator is two equal signs in a row because it is different than the **assignment** `=` operator that we'll show you shortly.\n",
    "\n",
    "When you want to see if two things are equal to each other, you use the equality operator. This tells you if two values are the same. Let's check these out in action!"
   ]
  },
  {
   "cell_type": "code",
   "execution_count": 7,
   "metadata": {},
   "outputs": [
    {
     "data": {
      "text/plain": [
       "True"
      ]
     },
     "execution_count": 7,
     "metadata": {},
     "output_type": "execute_result"
    }
   ],
   "source": [
    "'Hello' == 'Hello'"
   ]
  },
  {
   "cell_type": "code",
   "execution_count": 8,
   "metadata": {},
   "outputs": [
    {
     "data": {
      "text/plain": [
       "True"
      ]
     },
     "execution_count": 8,
     "metadata": {},
     "output_type": "execute_result"
    }
   ],
   "source": [
    "6 == 6"
   ]
  },
  {
   "cell_type": "code",
   "execution_count": 9,
   "metadata": {},
   "outputs": [
    {
     "data": {
      "text/plain": [
       "False"
      ]
     },
     "execution_count": 9,
     "metadata": {},
     "output_type": "execute_result"
    }
   ],
   "source": [
    "'Good Morning' == 'Good Night'"
   ]
  },
  {
   "cell_type": "markdown",
   "metadata": {},
   "source": [
    "Simple enough! Now, let's look at the and operator. This operator only works with boolean values and is thus a **logical operator**. Recall that a boolean is a primitive type representing True or False. You can think of the and operator to function like a middleman, who only cooperates when both sides are willing to cooperate. If both sides cooperate (if both sides stay *True* to their word), then the and operator returns a True value. In any other case, the and operator returns a False. Let's check out how it works for all cases: "
   ]
  },
  {
   "cell_type": "code",
   "execution_count": 10,
   "metadata": {},
   "outputs": [
    {
     "data": {
      "text/plain": [
       "True"
      ]
     },
     "execution_count": 10,
     "metadata": {},
     "output_type": "execute_result"
    }
   ],
   "source": [
    "True & True"
   ]
  },
  {
   "cell_type": "code",
   "execution_count": 11,
   "metadata": {},
   "outputs": [
    {
     "data": {
      "text/plain": [
       "False"
      ]
     },
     "execution_count": 11,
     "metadata": {},
     "output_type": "execute_result"
    }
   ],
   "source": [
    "False & True"
   ]
  },
  {
   "cell_type": "code",
   "execution_count": 12,
   "metadata": {},
   "outputs": [
    {
     "data": {
      "text/plain": [
       "False"
      ]
     },
     "execution_count": 12,
     "metadata": {},
     "output_type": "execute_result"
    }
   ],
   "source": [
    "True & False"
   ]
  },
  {
   "cell_type": "code",
   "execution_count": 13,
   "metadata": {},
   "outputs": [
    {
     "data": {
      "text/plain": [
       "False"
      ]
     },
     "execution_count": 13,
     "metadata": {},
     "output_type": "execute_result"
    }
   ],
   "source": [
    "False & False"
   ]
  },
  {
   "cell_type": "markdown",
   "metadata": {},
   "source": [
    "As we can see, the only time the and operator results in True is when both values are True. We'll work with this more when it comes time to process and examine our data. Oh, and just so you know, there are more logical operators out there besides the and operator. We won't cover them so that you don't feel so overwhelmed with information, but if you want to check them out alongside other Python operators, be sure to check out [this tutorial](https://www.w3schools.com/python/python_operators.asp)"
   ]
  },
  {
   "cell_type": "markdown",
   "metadata": {},
   "source": [
    "## Section Two: Variables\n",
    "Operators weren't all that shabby! Next, let's try creating a **variable**. A variable stores a value in a way which we can access it later. For example, if I set the variable *Name* to \"Brandon\", we can use the **assignment** `=` operator "
   ]
  },
  {
   "cell_type": "code",
   "execution_count": 14,
   "metadata": {},
   "outputs": [],
   "source": [
    "Name = \"Brandon\""
   ]
  },
  {
   "cell_type": "markdown",
   "metadata": {},
   "source": [
    "I can then call *Name* later to access the value stored there"
   ]
  },
  {
   "cell_type": "code",
   "execution_count": 15,
   "metadata": {},
   "outputs": [
    {
     "data": {
      "text/plain": [
       "'Brandon'"
      ]
     },
     "execution_count": 15,
     "metadata": {},
     "output_type": "execute_result"
    }
   ],
   "source": [
    "Name"
   ]
  },
  {
   "cell_type": "markdown",
   "metadata": {},
   "source": [
    "Try it yourself by setting the variable *seven* to the number seven."
   ]
  },
  {
   "cell_type": "code",
   "execution_count": 16,
   "metadata": {},
   "outputs": [
    {
     "ename": "NameError",
     "evalue": "name 'seven' is not defined",
     "output_type": "error",
     "traceback": [
      "\u001b[1;31m---------------------------------------------------------------------------\u001b[0m",
      "\u001b[1;31mNameError\u001b[0m                                 Traceback (most recent call last)",
      "\u001b[1;32m<ipython-input-16-f6d127dcac75>\u001b[0m in \u001b[0;36m<module>\u001b[1;34m\u001b[0m\n\u001b[0;32m      1\u001b[0m \u001b[1;31m# TODO: Sset 'seven' to the number seven\u001b[0m\u001b[1;33m\u001b[0m\u001b[1;33m\u001b[0m\u001b[1;33m\u001b[0m\u001b[0m\n\u001b[1;32m----> 2\u001b[1;33m \u001b[0mseven\u001b[0m\u001b[1;33m\u001b[0m\u001b[1;33m\u001b[0m\u001b[0m\n\u001b[0m",
      "\u001b[1;31mNameError\u001b[0m: name 'seven' is not defined"
     ]
    }
   ],
   "source": [
    "# TODO: Sset 'seven' to the number seven\n",
    "seven "
   ]
  },
  {
   "cell_type": "markdown",
   "metadata": {},
   "source": [
    "Great work! One of the last important concepts that we'll learn about today are **lists**. Lists allow us to store multiple values at once. Think of it like a grocery list; if we want to remember to buy Bananas, Captain Crunch, and Pasta, we could write it down as\n",
    "```\n",
    "Bananas,\n",
    "Captain Crunch,\n",
    "Pasta\n",
    "```\n",
    "We can achieve the same in Python!"
   ]
  },
  {
   "cell_type": "code",
   "execution_count": 17,
   "metadata": {},
   "outputs": [],
   "source": [
    "groceries = ['Bananas', 'Captain Crunch', 'Pasta']"
   ]
  },
  {
   "cell_type": "markdown",
   "metadata": {},
   "source": [
    "Since we saved our list in a variable called *groceries*, we can check them out by running "
   ]
  },
  {
   "cell_type": "code",
   "execution_count": 18,
   "metadata": {},
   "outputs": [
    {
     "data": {
      "text/plain": [
       "['Bananas', 'Captain Crunch', 'Pasta']"
      ]
     },
     "execution_count": 18,
     "metadata": {},
     "output_type": "execute_result"
    }
   ],
   "source": [
    "groceries"
   ]
  },
  {
   "cell_type": "markdown",
   "metadata": {},
   "source": [
    "How about you try making your own shopping list similar to the one above?"
   ]
  },
  {
   "cell_type": "code",
   "execution_count": 19,
   "metadata": {},
   "outputs": [],
   "source": [
    "# TODO: Create a shopping list with at least four items\n",
    "shopping_list = []"
   ]
  },
  {
   "cell_type": "markdown",
   "metadata": {},
   "source": [
    "Now, let's check out your shopping list!"
   ]
  },
  {
   "cell_type": "code",
   "execution_count": 20,
   "metadata": {},
   "outputs": [
    {
     "data": {
      "text/plain": [
       "[]"
      ]
     },
     "execution_count": 20,
     "metadata": {},
     "output_type": "execute_result"
    }
   ],
   "source": [
    "shopping_list"
   ]
  },
  {
   "cell_type": "markdown",
   "metadata": {},
   "source": [
    "Pretty sweet! Now this isn't to say that you should keep grocery lists as python lists from now on; I doubt you want to haul your computer to the store just to buy three things. But lists are one of the most important **collections** within Python when it comes to data science. Now let's see some of the cool things we can do with lists"
   ]
  },
  {
   "cell_type": "markdown",
   "metadata": {},
   "source": [
    "## Section Three: Lists, Continued\n",
    "\n",
    "![List](https://media.giphy.com/media/F0QWePzwQRewM/giphy.gif)\n",
    "\n",
    "Since we're storing multiple values within one variable, it's important that we're able to access the individual values from the list. To get certain values, we can use **indexing**. Brace yourselves, because here comes a pretty tricky concept to remember. Python uses **Zero-based indexing**, which means that it starts counting from zero instead of from one. For example, to access the first item from the groceries list, we would use"
   ]
  },
  {
   "cell_type": "code",
   "execution_count": 21,
   "metadata": {},
   "outputs": [
    {
     "data": {
      "text/plain": [
       "'Bananas'"
      ]
     },
     "execution_count": 21,
     "metadata": {},
     "output_type": "execute_result"
    }
   ],
   "source": [
    "groceries[0]"
   ]
  },
  {
   "cell_type": "markdown",
   "metadata": {},
   "source": [
    "This is pretty weird to understand at first, but it'll make more sense as you go on and practice. Try it out yourself by grabbing the third item from the grocery list"
   ]
  },
  {
   "cell_type": "code",
   "execution_count": 22,
   "metadata": {},
   "outputs": [
    {
     "ename": "SyntaxError",
     "evalue": "invalid syntax (<ipython-input-22-0ebdb8c3904c>, line 2)",
     "output_type": "error",
     "traceback": [
      "\u001b[1;36m  File \u001b[1;32m\"<ipython-input-22-0ebdb8c3904c>\"\u001b[1;36m, line \u001b[1;32m2\u001b[0m\n\u001b[1;33m    groceries[ ]\u001b[0m\n\u001b[1;37m               ^\u001b[0m\n\u001b[1;31mSyntaxError\u001b[0m\u001b[1;31m:\u001b[0m invalid syntax\n"
     ]
    }
   ],
   "source": [
    "# TODO: Get the third item from the groceries list\n",
    "groceries[ ]"
   ]
  },
  {
   "cell_type": "markdown",
   "metadata": {},
   "source": [
    "Nice job. It's cool to be able to grab a single value from a list at a time, but what if I want to get multiple? This can be achieved using a colon when selecting a value. If we wanted to fetch the first and second value from the groceries list, we could use "
   ]
  },
  {
   "cell_type": "code",
   "execution_count": 23,
   "metadata": {},
   "outputs": [
    {
     "data": {
      "text/plain": [
       "['Bananas', 'Captain Crunch']"
      ]
     },
     "execution_count": 23,
     "metadata": {},
     "output_type": "execute_result"
    }
   ],
   "source": [
    "groceries[0:2]"
   ]
  },
  {
   "cell_type": "markdown",
   "metadata": {},
   "source": [
    "Now, that may seem off at first: why would we specify ```0:2``` if we want ther first and the second values? Python slicing with a colon will always grab the first value that you specify, up to (and not including) the last value that you specify. For example, if we wanted to get the second and third values, we could use "
   ]
  },
  {
   "cell_type": "code",
   "execution_count": 24,
   "metadata": {},
   "outputs": [
    {
     "data": {
      "text/plain": [
       "['Captain Crunch', 'Pasta']"
      ]
     },
     "execution_count": 24,
     "metadata": {},
     "output_type": "execute_result"
    }
   ],
   "source": [
    "groceries[1:3]"
   ]
  },
  {
   "cell_type": "markdown",
   "metadata": {},
   "source": [
    "Try it yourself with your own shopping list! try getting the second and third values from your list below. "
   ]
  },
  {
   "cell_type": "code",
   "execution_count": 25,
   "metadata": {},
   "outputs": [
    {
     "ename": "SyntaxError",
     "evalue": "invalid syntax (<ipython-input-25-8279085d4b72>, line 2)",
     "output_type": "error",
     "traceback": [
      "\u001b[1;36m  File \u001b[1;32m\"<ipython-input-25-8279085d4b72>\"\u001b[1;36m, line \u001b[1;32m2\u001b[0m\n\u001b[1;33m    shopping_list[]\u001b[0m\n\u001b[1;37m                  ^\u001b[0m\n\u001b[1;31mSyntaxError\u001b[0m\u001b[1;31m:\u001b[0m invalid syntax\n"
     ]
    }
   ],
   "source": [
    "# TODO: Get the second and third values from your shopping list\n",
    "shopping_list[]"
   ]
  },
  {
   "cell_type": "markdown",
   "metadata": {},
   "source": [
    "Great work! Once last thing that we'll learn is shorthand notation for list indexing. That's a whole lot of fancy words to say getting ranges of values more easily from our list. This is better shown than explained, so here's some examples of how to achieve certain tasks below. For starters, we'll select all values up to the third value in the groceries list. "
   ]
  },
  {
   "cell_type": "code",
   "execution_count": 26,
   "metadata": {},
   "outputs": [
    {
     "data": {
      "text/plain": [
       "['Bananas', 'Captain Crunch']"
      ]
     },
     "execution_count": 26,
     "metadata": {},
     "output_type": "execute_result"
    }
   ],
   "source": [
    "groceries[:2]"
   ]
  },
  {
   "cell_type": "markdown",
   "metadata": {},
   "source": [
    "Notice that we don't have to put a zero in front of the colon to achieve this; Python is smart and knows to start at zero. What if we wanted to select all values including and after the second value? "
   ]
  },
  {
   "cell_type": "code",
   "execution_count": 27,
   "metadata": {},
   "outputs": [
    {
     "data": {
      "text/plain": [
       "['Captain Crunch', 'Pasta']"
      ]
     },
     "execution_count": 27,
     "metadata": {},
     "output_type": "execute_result"
    }
   ],
   "source": [
    "groceries[1:]"
   ]
  },
  {
   "cell_type": "markdown",
   "metadata": {},
   "source": [
    "Sick! Now, try it yourself with your shopping list."
   ]
  },
  {
   "cell_type": "code",
   "execution_count": 28,
   "metadata": {},
   "outputs": [
    {
     "ename": "SyntaxError",
     "evalue": "invalid syntax (<ipython-input-28-7626cf116992>, line 2)",
     "output_type": "error",
     "traceback": [
      "\u001b[1;36m  File \u001b[1;32m\"<ipython-input-28-7626cf116992>\"\u001b[1;36m, line \u001b[1;32m2\u001b[0m\n\u001b[1;33m    shopping_list[]\u001b[0m\n\u001b[1;37m                  ^\u001b[0m\n\u001b[1;31mSyntaxError\u001b[0m\u001b[1;31m:\u001b[0m invalid syntax\n"
     ]
    }
   ],
   "source": [
    "# TODO: Select all values up to the fourth value in your shopping list \n",
    "shopping_list[]"
   ]
  },
  {
   "cell_type": "code",
   "execution_count": 29,
   "metadata": {},
   "outputs": [
    {
     "ename": "SyntaxError",
     "evalue": "invalid syntax (<ipython-input-29-28aee99514f1>, line 2)",
     "output_type": "error",
     "traceback": [
      "\u001b[1;36m  File \u001b[1;32m\"<ipython-input-29-28aee99514f1>\"\u001b[1;36m, line \u001b[1;32m2\u001b[0m\n\u001b[1;33m    shopping_list[]\u001b[0m\n\u001b[1;37m                  ^\u001b[0m\n\u001b[1;31mSyntaxError\u001b[0m\u001b[1;31m:\u001b[0m invalid syntax\n"
     ]
    }
   ],
   "source": [
    "# TODO: Select all values after the first value in your shopping list\n",
    "shopping_list[]"
   ]
  },
  {
   "cell_type": "markdown",
   "metadata": {},
   "source": [
    "## Section Four: Looping through Iterables\n",
    "\n",
    "![Loop](https://media.giphy.com/media/TabwFck9vEt44/giphy.gif)\n",
    "\n",
    "The last thing we'll learn about today are **iterables** and **loops**. Conveniently, we've already learned about one of the most common iterables in Python: a list! An iterable is simply something that can be iterated over. Wow, that was an awful definition. Here's a better one: an iterable is something that we can loop through to check out each of the values within it. We can achieve this with a **for loop**. Say we wanted to print out each item in the grocery list individually. We could do so as below"
   ]
  },
  {
   "cell_type": "code",
   "execution_count": 30,
   "metadata": {},
   "outputs": [
    {
     "name": "stdout",
     "output_type": "stream",
     "text": [
      "Bananas\n",
      "Captain Crunch\n",
      "Pasta\n"
     ]
    }
   ],
   "source": [
    "for grocery in groceries:\n",
    "    print(grocery)"
   ]
  },
  {
   "cell_type": "markdown",
   "metadata": {},
   "source": [
    "Notice how when we make the for loop, we created a new variable *grocery* that stores the value for a particular grocery within our groceries list. This variable can have any name you want it to, like this:"
   ]
  },
  {
   "cell_type": "code",
   "execution_count": 31,
   "metadata": {},
   "outputs": [
    {
     "name": "stdout",
     "output_type": "stream",
     "text": [
      "Bananas\n",
      "Captain Crunch\n",
      "Pasta\n"
     ]
    }
   ],
   "source": [
    "for pet in groceries:\n",
    "    print(pet)"
   ]
  },
  {
   "cell_type": "markdown",
   "metadata": {},
   "source": [
    "That doesn't make much sense, but it nonetheless works. Moral of the story: stick to naming your variables in ways that best describe your data. Now let's make a list of numbers from one to four"
   ]
  },
  {
   "cell_type": "code",
   "execution_count": 32,
   "metadata": {},
   "outputs": [],
   "source": [
    "numbers = [1,2,3,4]"
   ]
  },
  {
   "cell_type": "markdown",
   "metadata": {},
   "source": [
    "Let's try adding the number two to each number in the list, and then printing that sum. We can do that using the code below"
   ]
  },
  {
   "cell_type": "code",
   "execution_count": 33,
   "metadata": {},
   "outputs": [
    {
     "name": "stdout",
     "output_type": "stream",
     "text": [
      "3\n",
      "4\n",
      "5\n",
      "6\n"
     ]
    }
   ],
   "source": [
    "for number in numbers:\n",
    "    print(number + 2)"
   ]
  },
  {
   "cell_type": "markdown",
   "metadata": {},
   "source": [
    "It's lit! Try out for loops yourself with the code below"
   ]
  },
  {
   "cell_type": "code",
   "execution_count": 34,
   "metadata": {},
   "outputs": [],
   "source": [
    "## TODO: Multiply each value in the numbers list by four, and then print the number\n"
   ]
  },
  {
   "cell_type": "code",
   "execution_count": 35,
   "metadata": {},
   "outputs": [],
   "source": [
    "## TODO: Raise each number in the numbers list to the third power, and then print the number\n"
   ]
  },
  {
   "cell_type": "code",
   "execution_count": 36,
   "metadata": {},
   "outputs": [],
   "source": [
    "## CHALLENGE: Print each item in the groceries list, as well as \" is delicious\"\n"
   ]
  },
  {
   "cell_type": "markdown",
   "metadata": {},
   "source": [
    "## Practice\n",
    "That's it for this week's lesson! Now, to make sure that you understand what we learned today, be sure to complete the below notebooks. "
   ]
  },
  {
   "cell_type": "markdown",
   "metadata": {},
   "source": [
    "First thing's first, we can use order of operations within Jupyter Notebook environments. Remember PEMDAS? It works like a charm in Jupyter and Python! Say we wanted to calculate \n",
    "$$(2 * 5 + 3)^2 $$\n",
    "We could do so with"
   ]
  },
  {
   "cell_type": "code",
   "execution_count": 2,
   "metadata": {},
   "outputs": [
    {
     "data": {
      "text/plain": [
       "169"
      ]
     },
     "execution_count": 2,
     "metadata": {},
     "output_type": "execute_result"
    }
   ],
   "source": [
    "(2 * 5 + 3)**2"
   ]
  },
  {
   "cell_type": "markdown",
   "metadata": {
    "deletable": false,
    "editable": false
   },
   "source": [
    "### Question One\n",
    "Calculate $ (\\frac{1}{2} - 2 * 8)^5 $, and set it to the variable `solution_1`\n",
    "<!--\n",
    "BEGIN QUESTION\n",
    "name: q1\n",
    "points: 2\n",
    "-->"
   ]
  },
  {
   "cell_type": "code",
   "execution_count": 3,
   "metadata": {},
   "outputs": [],
   "source": [
    "solution_1 = (0.5 - 2 * 8) ** 5 # SOLUTION"
   ]
  },
  {
   "cell_type": "code",
   "execution_count": null,
   "metadata": {
    "deletable": false,
    "editable": false
   },
   "outputs": [],
   "source": [
    "grader.check(\"q1\")"
   ]
  },
  {
   "cell_type": "markdown",
   "metadata": {},
   "source": [
    "Good job. Let's move onto strings and variables now. If we want to **concatenate**, or combine two strings, we can simply add them! For example, if we were to create \"Hello World\" from \"Hello\" and \"World\", we could do"
   ]
  },
  {
   "cell_type": "code",
   "execution_count": 6,
   "metadata": {},
   "outputs": [
    {
     "name": "stdout",
     "output_type": "stream",
     "text": [
      "Hello World\n"
     ]
    }
   ],
   "source": [
    "print(\"Hello\" + \" \" + \"World\")"
   ]
  },
  {
   "cell_type": "markdown",
   "metadata": {},
   "source": [
    "Make sure to note that I added a \" \" so that we didn't end up with \"HelloWorld\". Now,try it out yourself. "
   ]
  },
  {
   "cell_type": "markdown",
   "metadata": {
    "deletable": false,
    "editable": false
   },
   "source": [
    "### Question Two\n",
    "You have four variables (I, Love, Data, and Science). Each represents a string. Combine them all into a phrase, assigning that phrase to the variable `phrase`, and then printing out that phrase. \n",
    "<!--\n",
    "BEGIN QUESTION\n",
    "name: q2\n",
    "points: 2\n",
    "-->"
   ]
  },
  {
   "cell_type": "code",
   "execution_count": 7,
   "metadata": {},
   "outputs": [],
   "source": [
    "I = \"I\"\n",
    "Love = \"Love\"\n",
    "Data = \"Data\" \n",
    "Science = \"Science\" \n",
    "phrase = I + \" \" + Love + \" \" + Data + \" \" + Science # SOLUTION"
   ]
  },
  {
   "cell_type": "code",
   "execution_count": null,
   "metadata": {
    "deletable": false,
    "editable": false
   },
   "outputs": [],
   "source": [
    "grader.check(\"q2\")"
   ]
  },
  {
   "cell_type": "markdown",
   "metadata": {
    "deletable": false,
    "editable": false
   },
   "source": [
    "### Question Three\n",
    "Create a string that says \"Hello\", repeated three times (\"HelloHelloHello\"), and assign it to the variable `hello`.  **TIP:** You can also multipy strings by numbers in Python\n",
    "<!--\n",
    "BEGIN QUESTION\n",
    "name: q3\n",
    "points: 2\n",
    "-->"
   ]
  },
  {
   "cell_type": "code",
   "execution_count": 10,
   "metadata": {},
   "outputs": [],
   "source": [
    "hello = 'Hello' * 3 # SOLUTION"
   ]
  },
  {
   "cell_type": "code",
   "execution_count": null,
   "metadata": {
    "deletable": false,
    "editable": false
   },
   "outputs": [],
   "source": [
    "grader.check(\"q3\")"
   ]
  },
  {
   "cell_type": "markdown",
   "metadata": {},
   "source": [
    "Now to practice working with lists. Below is some fancy code for creating a super long list. With this list, we'll practice indexing"
   ]
  },
  {
   "cell_type": "code",
   "execution_count": 13,
   "metadata": {},
   "outputs": [],
   "source": [
    "super_long_list = [i for i in range(123457)]"
   ]
  },
  {
   "cell_type": "markdown",
   "metadata": {
    "deletable": false,
    "editable": false
   },
   "source": [
    "### Question Four\n",
    "Get the requested values from the list\n",
    "<!--\n",
    "BEGIN QUESTION\n",
    "name: q4\n",
    "points: 4\n",
    "-->"
   ]
  },
  {
   "cell_type": "code",
   "execution_count": 14,
   "metadata": {},
   "outputs": [],
   "source": [
    "# TODO: Get the second value from the list, and set it to the variable `second`\n",
    "second = super_long_list[1] # SOLUTION\n",
    "\n",
    "# TODO: Get the first five values from the list, and set it to the variable `first_five`\n",
    "first_five = super_long_list[:5] # SOLUTION\n",
    "\n",
    "# TODO: Get the last value from the list, and set it to the variable `last`\n",
    "last = super_long_list[-1] # SOLUTION\n",
    "\n",
    "# TODO: Get the last fourteen values from the list, and set it to the variable `last_fourteen`\n",
    "last_fourteen = super_long_list[-14:] # SOLUTION"
   ]
  },
  {
   "cell_type": "code",
   "execution_count": null,
   "metadata": {
    "deletable": false,
    "editable": false
   },
   "outputs": [],
   "source": [
    "grader.check(\"q4\")"
   ]
  },
  {
   "cell_type": "markdown",
   "metadata": {},
   "source": [
    "You're going ham! Last but not least, we'll practice working with iterables and for loops. For this, we'll stick to working with the super long list we created in the last problem."
   ]
  },
  {
   "cell_type": "markdown",
   "metadata": {
    "deletable": false,
    "editable": false
   },
   "source": [
    "### Question Five\n",
    "Sum up the last twenty values from the super long list. **note** you should use a for loop when doing so. Set this value to the variable `last_twenty_sum`\n",
    "<!--\n",
    "BEGIN QUESTION\n",
    "name: q5\n",
    "points: 2\n",
    "-->"
   ]
  },
  {
   "cell_type": "code",
   "execution_count": 19,
   "metadata": {},
   "outputs": [],
   "source": [
    "last_twenty_sum = 0 \n",
    "# BEGIN SOLUTION\n",
    "last_twenty_sum = sum(super_long_list[-20:])\n",
    "# END SOLUTION"
   ]
  },
  {
   "cell_type": "code",
   "execution_count": null,
   "metadata": {
    "deletable": false,
    "editable": false
   },
   "outputs": [],
   "source": [
    "grader.check(\"q5\")"
   ]
  },
  {
   "cell_type": "markdown",
   "metadata": {
    "deletable": false,
    "editable": false
   },
   "source": [
    "### Challenge Question\n",
    "Now, time for our last question today. This one will be pretty hard, so major props to you if you can figure it out. This question is multistep, and it will prove that you've mastered the content we learned today. Just remember: it's not cheating if you Google how to achieve some of the steps in this question.\n",
    "\n",
    "First, get the values 100 through 150 from the super long list and store them in a new list.  \n",
    "\n",
    "Then, square each of these values and then divide that value by two. After you've calculated this new value, add it to the list called *cubed_over_two*. To achieve this, you'll likely have to use a for loop, as well as the list **method** `.append()` (more on methods next lesson.) `.append()` works like this: if we have a list such as \n",
    "`my_list = [1,2,3,4]`, and we run `my_list.append(5)`, *my_list* is now `[1,2,3,4,5]`\n",
    "\n",
    "Finally, set the last three numbers from this new array to the variable `last_three`. Best of luck!\n",
    "<!--\n",
    "BEGIN QUESTION\n",
    "name: challenge\n",
    "points: 4\n",
    "-->"
   ]
  },
  {
   "cell_type": "code",
   "execution_count": 21,
   "metadata": {},
   "outputs": [],
   "source": [
    "# TODO: Get values 100 through 150\n",
    "values = super_long_list[99:150] # SOLUTION\n",
    "cubed_over_two = []\n",
    "\n",
    "# TODO: Square each value and divide it by two\n",
    "# BEGIN SOLUTION\n",
    "for i in values:\n",
    "    cubed_over_two.append(i ** 2)\n",
    "# END SOLUTION\n",
    "\n",
    "# TODO: Get the last three numbers from the array\n",
    "last_three = cubed_over_two[-3:] # SOLUTION"
   ]
  },
  {
   "cell_type": "code",
   "execution_count": null,
   "metadata": {
    "deletable": false,
    "editable": false
   },
   "outputs": [],
   "source": [
    "grader.check(\"challenge\")"
   ]
  },
  {
   "cell_type": "markdown",
   "metadata": {
    "deletable": false,
    "editable": false
   },
   "source": [
    "---\n",
    "\n",
    "To double-check your work, the cell below will rerun all of the autograder tests."
   ]
  },
  {
   "cell_type": "code",
   "execution_count": null,
   "metadata": {
    "deletable": false,
    "editable": false
   },
   "outputs": [],
   "source": [
    "grader.check_all()"
   ]
  },
  {
   "cell_type": "markdown",
   "metadata": {
    "deletable": false,
    "editable": false
   },
   "source": [
    "## Submission\n",
    "\n",
    "Make sure you have run all cells in your notebook in order before running the cell below, so that all images/graphs appear in the output. The cell below will generate a zip file for you to submit. **Please save before exporting!**\n",
    "\n",
    "Please submit the resultant .zip file to the SciTeens platform"
   ]
  },
  {
   "cell_type": "code",
   "execution_count": null,
   "metadata": {
    "deletable": false,
    "editable": false
   },
   "outputs": [],
   "source": [
    "# Save your notebook first, then run this cell to export your submission.\n",
    "grader.export(pdf=False)"
   ]
  },
  {
   "cell_type": "markdown",
   "metadata": {},
   "source": [
    " "
   ]
  }
 ],
 "metadata": {
  "kernelspec": {
   "display_name": "Python 3",
   "language": "python",
   "name": "python3"
  },
  "language_info": {
   "codemirror_mode": {
    "name": "ipython",
    "version": 3
   },
   "file_extension": ".py",
   "mimetype": "text/x-python",
   "name": "python",
   "nbconvert_exporter": "python",
   "pygments_lexer": "ipython3",
   "version": "3.8.3"
  }
 },
 "nbformat": 4,
 "nbformat_minor": 4
}
