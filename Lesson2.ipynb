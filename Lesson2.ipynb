{
 "cells": [
  {
   "cell_type": "markdown",
   "id": "f808e216-096d-4048-96ba-bd5f009ac15a",
   "metadata": {},
   "source": [
    "# Lesson 2: Translating Physics into Python\n",
    "Hi everyone! Welcome to SciTeens SOLID Physics Camp. \n",
    "Today you'll complete your second assignment. Please work through the problems below as best as you can. Feel free to message us if you have any difficulties. "
   ]
  },
  {
   "cell_type": "markdown",
   "id": "99d9fc61-6be7-4e72-9478-ef05a08d8d65",
   "metadata": {},
   "source": [
    "## Section One: Functions\n",
    "Today we'll focus on the translation of physics ideas into Python. You'll easily get the hang of translating between the two, with some practice."
   ]
  },
  {
   "cell_type": "markdown",
   "id": "d88328fa-5401-4032-9ebd-529b50ae0a85",
   "metadata": {},
   "source": [
    "Mathematical operators look different in Python, you'll recall. For example, the quadratic $  x^2 - 4x + 4  $ can be written as the following cell in Python."
   ]
  },
  {
   "cell_type": "raw",
   "id": "f712daa3-9fe7-40d0-9498-0cf247141c44",
   "metadata": {},
   "source": [
    "x**2 - 4*x + 4  "
   ]
  },
  {
   "cell_type": "markdown",
   "id": "29a37a10-b484-4a1c-bf18-b720de74703a",
   "metadata": {},
   "source": [
    "Note that the $ x^2 $ has to be written as x**2 in Python."
   ]
  },
  {
   "cell_type": "markdown",
   "id": "3fc5e94e-e06d-4f4f-a701-f3cdd552898a",
   "metadata": {},
   "source": [
    "However, if we want a mathematical equation to function the same way we are used to, we have to put it in a function. Here, we've written the same quadratic as above, but in a function."
   ]
  },
  {
   "cell_type": "code",
   "execution_count": 1,
   "id": "c8ee36f7-f244-4dfe-be43-4e521eb52450",
   "metadata": {},
   "outputs": [],
   "source": [
    "def f(x):\n",
    "    return x**2 - 4*x + 4"
   ]
  },
  {
   "cell_type": "markdown",
   "id": "a2943e44-5d67-485b-b9af-197ab276386a",
   "metadata": {},
   "source": [
    "The input of the function is x, and the output is dictated by the return statement. Try running the cells below and note what they output. Is the notation similar to what you're used to seeing in math class?"
   ]
  },
  {
   "cell_type": "code",
   "execution_count": 3,
   "id": "91b1b31a-b646-4395-b3b7-98eacf7948f7",
   "metadata": {},
   "outputs": [
    {
     "data": {
      "text/plain": [
       "4"
      ]
     },
     "execution_count": 3,
     "metadata": {},
     "output_type": "execute_result"
    }
   ],
   "source": [
    "f(0)"
   ]
  },
  {
   "cell_type": "code",
   "execution_count": 4,
   "id": "d6526ef2-9627-40dc-bd30-441e3a36d39e",
   "metadata": {},
   "outputs": [
    {
     "data": {
      "text/plain": [
       "0"
      ]
     },
     "execution_count": 4,
     "metadata": {},
     "output_type": "execute_result"
    }
   ],
   "source": [
    "f(2)"
   ]
  },
  {
   "cell_type": "code",
   "execution_count": 5,
   "id": "76ecede7-ece8-4e15-b830-2aae1bb6c254",
   "metadata": {},
   "outputs": [
    {
     "data": {
      "text/plain": [
       "16"
      ]
     },
     "execution_count": 5,
     "metadata": {},
     "output_type": "execute_result"
    }
   ],
   "source": [
    "f(-2)"
   ]
  },
  {
   "cell_type": "markdown",
   "id": "c7d194a8-4188-4bc7-9513-b58bf915379f",
   "metadata": {},
   "source": [
    "<div class=\"alert alert-block alert-info\">\n",
    "<b>Practice Question 1</b>\n",
    "</div>"
   ]
  },
  {
   "cell_type": "markdown",
   "id": "f89c7b5e-4608-4a65-82b4-9a75e242499e",
   "metadata": {},
   "source": [
    "Try writing the equation of a line $ y = 4x + 9 $ in Python by yourself. Then, test some values."
   ]
  },
  {
   "cell_type": "code",
   "execution_count": 6,
   "id": "f53fd9e0-4c53-422d-9e96-cfe2bb7676f4",
   "metadata": {},
   "outputs": [],
   "source": [
    "# def y(x):\n",
    "    # equation of a line"
   ]
  },
  {
   "cell_type": "code",
   "execution_count": 7,
   "id": "a93eead0-ad30-4d36-b96a-1795902f1bef",
   "metadata": {},
   "outputs": [],
   "source": [
    "#y(72)"
   ]
  },
  {
   "cell_type": "code",
   "execution_count": 8,
   "id": "e807215e-1a01-4574-908f-e7f8f7bb4b60",
   "metadata": {},
   "outputs": [],
   "source": [
    "#y(10)"
   ]
  },
  {
   "cell_type": "markdown",
   "id": "50dcbe87-c1fe-4979-bc4e-5b38d3fe2a11",
   "metadata": {},
   "source": [
    "<div class=\"alert alert-block alert-info\">\n",
    "<b>Practice Question 2</b>\n",
    "</div>"
   ]
  },
  {
   "cell_type": "markdown",
   "id": "07ea0dd1-36fe-4154-a8fe-abf5ff1f6cab",
   "metadata": {},
   "source": [
    "Try writing the equation of the polynomial $ x^3 - 7x + 213 $. Test the following values: 0, -100, 12. "
   ]
  },
  {
   "cell_type": "code",
   "execution_count": 1,
   "id": "bab01802-95de-41f7-bad0-f5d8d4ae042b",
   "metadata": {},
   "outputs": [],
   "source": [
    "# def g(x):\n",
    "    #"
   ]
  },
  {
   "cell_type": "code",
   "execution_count": null,
   "id": "5bcdaa92-f1e1-415f-a645-5667dcb4fdad",
   "metadata": {},
   "outputs": [],
   "source": [
    "# test value"
   ]
  },
  {
   "cell_type": "code",
   "execution_count": null,
   "id": "695d9e52-308e-423c-b967-a1553dc3373a",
   "metadata": {},
   "outputs": [],
   "source": [
    "# test value"
   ]
  },
  {
   "cell_type": "code",
   "execution_count": 2,
   "id": "b94656bc-f52b-4020-b5f6-fec040d4e86a",
   "metadata": {},
   "outputs": [],
   "source": [
    "# test value"
   ]
  },
  {
   "cell_type": "markdown",
   "id": "eec44a56-9dfa-4429-aa2d-aac34bdc4b51",
   "metadata": {},
   "source": [
    "<div class=\"alert alert-block alert-info\">\n",
    "<b>Practice Question 3</b>\n",
    "</div>"
   ]
  },
  {
   "cell_type": "markdown",
   "id": "89940228-04ad-4156-a511-b9a03276c3f5",
   "metadata": {},
   "source": [
    "Write the equation of the polynomial $ 6x^8 + 12x^7 - 9x^4 + 2x + 164$. Test three values of your choice."
   ]
  },
  {
   "cell_type": "code",
   "execution_count": 4,
   "id": "e5ef5ce0-987f-47cf-9703-e71d742b493f",
   "metadata": {},
   "outputs": [],
   "source": [
    "# function"
   ]
  },
  {
   "cell_type": "code",
   "execution_count": 5,
   "id": "44300ee1-48cb-4bcc-acd9-4d518ca7ba9f",
   "metadata": {},
   "outputs": [],
   "source": [
    "# test"
   ]
  },
  {
   "cell_type": "code",
   "execution_count": 6,
   "id": "d4999cac-8155-4bbd-813d-e96fe12f9a75",
   "metadata": {},
   "outputs": [],
   "source": [
    "# test"
   ]
  },
  {
   "cell_type": "code",
   "execution_count": 7,
   "id": "9ae0b056-22a6-425c-9074-8b65ea8c124a",
   "metadata": {},
   "outputs": [],
   "source": [
    "# test"
   ]
  },
  {
   "cell_type": "markdown",
   "id": "a7f4b349-ee43-4daa-89ed-7594731c5b0b",
   "metadata": {},
   "source": [
    "Do you remember this equation from class? See what happens when you call the function."
   ]
  },
  {
   "cell_type": "code",
   "execution_count": 2,
   "id": "2c9beb42-c6c3-4ed5-bc7d-61a81ef9156c",
   "metadata": {},
   "outputs": [],
   "source": [
    "def distance(acceleration, v0, x0, time):\n",
    "    return(0.5*acceleration*(time*time) + v0*time + x0)"
   ]
  },
  {
   "cell_type": "code",
   "execution_count": 2,
   "id": "58ebbb22-a7ca-4380-8ccb-23c4863c6e23",
   "metadata": {},
   "outputs": [
    {
     "data": {
      "text/plain": [
       "2.5"
      ]
     },
     "execution_count": 2,
     "metadata": {},
     "output_type": "execute_result"
    }
   ],
   "source": [
    "distance(1, 1, 1, 1)"
   ]
  },
  {
   "cell_type": "markdown",
   "id": "606850fc-4b64-4a65-8efb-57d2e0960975",
   "metadata": {},
   "source": [
    "<div class=\"alert alert-block alert-info\">\n",
    "<b>Practice Question 4</b>\n",
    "</div>"
   ]
  },
  {
   "cell_type": "markdown",
   "id": "a41fe3ac-4edc-4173-b888-33ccbfa92eb7",
   "metadata": {},
   "source": [
    "Try calling the function using four of your own input values:"
   ]
  },
  {
   "cell_type": "code",
   "execution_count": 9,
   "id": "5be78795-8363-47fb-8ca4-7ab904abb78e",
   "metadata": {},
   "outputs": [],
   "source": [
    "# your input"
   ]
  },
  {
   "cell_type": "code",
   "execution_count": 10,
   "id": "2d37995f-4c36-4ec4-8ff0-3d2061814d31",
   "metadata": {},
   "outputs": [],
   "source": [
    "# your input"
   ]
  },
  {
   "cell_type": "code",
   "execution_count": 11,
   "id": "be0f7ae7-b4a4-4be8-9bef-c1705bfd2aa6",
   "metadata": {},
   "outputs": [],
   "source": [
    "# your input"
   ]
  },
  {
   "cell_type": "code",
   "execution_count": 12,
   "id": "34a451c7-5235-4f7c-afea-985a3a2031b2",
   "metadata": {},
   "outputs": [],
   "source": [
    "# your input"
   ]
  },
  {
   "cell_type": "markdown",
   "id": "e802babd-c27c-4494-bb53-194b96d52081",
   "metadata": {},
   "source": [
    "<div class=\"alert alert-block alert-info\">\n",
    "<b>Practice Question 5</b>\n",
    "</div>"
   ]
  },
  {
   "cell_type": "markdown",
   "id": "aeca3eac-67d6-41d9-a24b-7a3ad0592371",
   "metadata": {},
   "source": [
    "Here's another equation from class."
   ]
  },
  {
   "cell_type": "code",
   "execution_count": 3,
   "id": "800c67a8-302b-46bc-bc26-200c3d62ccb2",
   "metadata": {},
   "outputs": [],
   "source": [
    "def velocity(v0, a, t):\n",
    "    return(v0 + a*t)"
   ]
  },
  {
   "cell_type": "markdown",
   "id": "5edc4d96-8acf-46c5-a5d3-6c5a34d3c737",
   "metadata": {},
   "source": [
    "Try calling this one."
   ]
  },
  {
   "cell_type": "code",
   "execution_count": 4,
   "id": "4a6b71fe-8604-40b3-b5a4-165751892440",
   "metadata": {},
   "outputs": [],
   "source": [
    "# your input"
   ]
  },
  {
   "cell_type": "markdown",
   "id": "f5b2e438-1f8a-4fb5-97fe-0a38898690d6",
   "metadata": {},
   "source": [
    "<div class=\"alert alert-block alert-info\">\n",
    "<b>Practice Question 6</b>\n",
    "</div>"
   ]
  },
  {
   "cell_type": "markdown",
   "id": "80c55b26-001d-4362-9299-6b881d1caf50",
   "metadata": {},
   "source": [
    "Write the function 'kinematic' for our third equation from class below."
   ]
  },
  {
   "cell_type": "code",
   "execution_count": 5,
   "id": "b9de2f13-a5c1-43db-9bb3-0b33b2b1e088",
   "metadata": {},
   "outputs": [],
   "source": [
    "#def kinematic(v0, a, deltaX):\n",
    "  # replace with code"
   ]
  },
  {
   "cell_type": "markdown",
   "id": "96940454-2822-4b66-bae7-6f85c2ad3dda",
   "metadata": {},
   "source": [
    "What does your result represent? If your gut instinct is to say final velocity, you're close. Remember, this equation gives you the value of final velocity *squared*. If took the square root of our value, that'd be the value of final velocity."
   ]
  },
  {
   "cell_type": "markdown",
   "id": "80e2d248-4c15-43ae-8647-382c87beb63c",
   "metadata": {},
   "source": [
    "## Section Two: Constants and Conversions\n",
    "In physics, we also have a lot of constants, such as acceleration due to gravity. In this section, we'll focus on constants, units of measurement, and conversion."
   ]
  },
  {
   "cell_type": "markdown",
   "id": "e98e785a-1410-4c55-a5e4-1fee95619494",
   "metadata": {},
   "source": [
    "### Conversions"
   ]
  },
  {
   "cell_type": "markdown",
   "id": "eb068721-62a8-4b7a-bcc8-e22b04b507de",
   "metadata": {},
   "source": [
    "For conversions, it is customary to write the variable name in all-caps. As with any variable, you can call it anything, but it helps other people who may be looking at your code to follow custom."
   ]
  },
  {
   "cell_type": "code",
   "execution_count": 30,
   "id": "804e4b42-8d04-421f-bd60-080c6c124afe",
   "metadata": {},
   "outputs": [],
   "source": [
    "ACC_DUE_TO_GRAVITY = 9.8 # this initializes a constant"
   ]
  },
  {
   "cell_type": "markdown",
   "id": "be600040-bb6d-4804-883e-dbb78cc5a56b",
   "metadata": {},
   "source": [
    "If, for example, we wanted to use the constant in a kinematic equation, we could just replace the acceleration variable. Here's an example."
   ]
  },
  {
   "cell_type": "code",
   "execution_count": 4,
   "id": "f282118c-2242-4ad1-95fc-6f0980c2435f",
   "metadata": {},
   "outputs": [],
   "source": [
    "def kinematic_2(v0, t):\n",
    "    return(v0 + ACC_DUE_TO_GRAVITY*t)"
   ]
  },
  {
   "cell_type": "markdown",
   "id": "b0df82bc-1c0d-4bf8-ba60-b8a6c6aafeba",
   "metadata": {},
   "source": [
    "Notice that we don't need to pass ACC_DUE_TO_GRAVITY as an argument because we've previously defined it."
   ]
  },
  {
   "cell_type": "markdown",
   "id": "692a2dce-da10-4909-bef6-ab1879dc7cad",
   "metadata": {},
   "source": [
    "<div class=\"alert alert-block alert-info\">\n",
    "<b>Practice Question 7</b>\n",
    "</div>"
   ]
  },
  {
   "cell_type": "markdown",
   "id": "0bca9fe7-be7a-43c9-9272-d78c50612be3",
   "metadata": {
    "tags": []
   },
   "source": [
    "Recall from class that we can calculate the weight of an object by multiplying its mass by the acceleration due to gravity. How much does a 160 kilogram object weigh in Newtons?"
   ]
  },
  {
   "cell_type": "code",
   "execution_count": 13,
   "id": "b17313b1-eef3-41c8-a966-da829a33e942",
   "metadata": {},
   "outputs": [],
   "source": [
    "# 160 kilograms to Newtons"
   ]
  },
  {
   "cell_type": "markdown",
   "id": "336aef9f-bbe6-4777-9445-f867fd844f42",
   "metadata": {},
   "source": [
    "For conversions, the same basic rules apply. Conventionally, conversion factors will also be written in all-caps and have very straightforward names. Here are a few."
   ]
  },
  {
   "cell_type": "code",
   "execution_count": 19,
   "id": "d3b2ab65-3bbf-44c7-b89e-1062d433f106",
   "metadata": {},
   "outputs": [],
   "source": [
    "MPH_TO_KPH = 1.6\n",
    "# conversion factor for miles per hour to kilometers per hour"
   ]
  },
  {
   "cell_type": "code",
   "execution_count": 20,
   "id": "725556d8-3fb8-4d5b-af57-d0dce359a184",
   "metadata": {},
   "outputs": [],
   "source": [
    "FT_TO_M = 0.3\n",
    "# conversion factor for feet to meters"
   ]
  },
  {
   "cell_type": "code",
   "execution_count": 21,
   "id": "ba1837ad-38c2-4abe-b954-f28e08dcb1be",
   "metadata": {},
   "outputs": [],
   "source": [
    "S_TO_MIN = 1/60\n",
    "# conversion factor for seconds to minutes"
   ]
  },
  {
   "cell_type": "markdown",
   "id": "98a7f499-87e9-4858-8a47-db4de8ac30c5",
   "metadata": {},
   "source": [
    "Using the conversion factors given, complete the following:"
   ]
  },
  {
   "cell_type": "markdown",
   "id": "f67d74f2-a196-4734-ae47-e6eec211888a",
   "metadata": {},
   "source": [
    "<div class=\"alert alert-block alert-info\">\n",
    "<b>Practice Question 8</b>\n",
    "</div>"
   ]
  },
  {
   "cell_type": "markdown",
   "id": "9672d3a5-cbf6-445e-aa4d-728aaa38d5bb",
   "metadata": {},
   "source": [
    "Convert 30 mph to kph. "
   ]
  },
  {
   "cell_type": "code",
   "execution_count": null,
   "id": "fce997c0-d582-45df-9ae7-f31c1bcb8109",
   "metadata": {},
   "outputs": [],
   "source": []
  },
  {
   "cell_type": "markdown",
   "id": "dc05e977-55d3-47ff-b261-b6722389b965",
   "metadata": {},
   "source": [
    "<div class=\"alert alert-block alert-info\">\n",
    "<b>Practice Question 9</b>\n",
    "</div>"
   ]
  },
  {
   "cell_type": "markdown",
   "id": "3485821c-f80f-410d-aa1b-587a6708304b",
   "metadata": {
    "tags": []
   },
   "source": [
    "How many seconds are in 2727 minutes?"
   ]
  },
  {
   "cell_type": "code",
   "execution_count": null,
   "id": "f62be347-8c07-4a47-9cc2-fad925cef01d",
   "metadata": {},
   "outputs": [],
   "source": []
  },
  {
   "cell_type": "markdown",
   "id": "f365e75b-a55c-4ceb-b139-68a2efa7162e",
   "metadata": {},
   "source": [
    "<div class=\"alert alert-block alert-info\">\n",
    "<b>Practice Question 10</b>\n",
    "</div>"
   ]
  },
  {
   "cell_type": "markdown",
   "id": "e98ae79a-88bf-4680-a7e4-fb5b78a22a2e",
   "metadata": {},
   "source": [
    "If an object has traveled a distance of 35 feet, how many meters has it covered?"
   ]
  },
  {
   "cell_type": "code",
   "execution_count": null,
   "id": "09b89747-2016-431d-92d8-df3fa2d9a7ef",
   "metadata": {},
   "outputs": [],
   "source": []
  },
  {
   "cell_type": "markdown",
   "id": "9988cbb2-3024-4c56-9b63-4bbe4247d771",
   "metadata": {},
   "source": [
    "These problems will require you to look up a conversion factor on your own. Assign the conversion factor to a variable (just like in the previous examples) and complete the problem."
   ]
  },
  {
   "cell_type": "markdown",
   "id": "5b0e7d2c-89e2-488a-b7c8-ce7d024575ce",
   "metadata": {},
   "source": [
    "<div class=\"alert alert-block alert-info\">\n",
    "<b>Practice Question 11</b>\n",
    "</div>"
   ]
  },
  {
   "cell_type": "markdown",
   "id": "13e31d4c-dda5-4d87-9fc8-6e2258b5896e",
   "metadata": {},
   "source": [
    "If the weight of an object is 4899 metric tons, how much does it weigh in pounds?"
   ]
  },
  {
   "cell_type": "code",
   "execution_count": null,
   "id": "d8a29ba0-f1f7-41f2-8361-38180ed55f92",
   "metadata": {},
   "outputs": [],
   "source": []
  },
  {
   "cell_type": "markdown",
   "id": "9637e594-56e3-414e-b1cc-8980f2944d0c",
   "metadata": {},
   "source": [
    "<div class=\"alert alert-block alert-info\">\n",
    "<b>Practice Question 12</b>\n",
    "</div>"
   ]
  },
  {
   "cell_type": "markdown",
   "id": "2d48b801-5344-4e92-a8fb-f3ce1144a074",
   "metadata": {},
   "source": [
    "If the volume of an object is 678 cubic centimeters, how much is that in cubic decimeters?"
   ]
  },
  {
   "cell_type": "code",
   "execution_count": null,
   "id": "bf5a1d4d-13a8-4886-bbd0-4d34938b6712",
   "metadata": {},
   "outputs": [],
   "source": []
  },
  {
   "cell_type": "markdown",
   "id": "b7c84d9c-fb78-46dd-ab73-2ced3d1a2cf5",
   "metadata": {},
   "source": [
    "<div class=\"alert alert-block alert-success\"\">\n",
    "<b>Challenge Question</b>\n",
    "</div>"
   ]
  },
  {
   "cell_type": "markdown",
   "id": "e546b210-c687-4d32-b177-861011257d96",
   "metadata": {},
   "source": [
    "Calculate your weight in Newtons.\n",
    "> Hint: Start with your weight in pounds, then move to kilograms, then Newtons. \n",
    "> This is a two-step problem."
   ]
  },
  {
   "cell_type": "code",
   "execution_count": null,
   "id": "d32059ef-8a7a-442f-b567-cd160bd5fe35",
   "metadata": {},
   "outputs": [],
   "source": []
  },
  {
   "cell_type": "markdown",
   "id": "c519b95e-39a5-462d-8865-96a9ff1f1be4",
   "metadata": {},
   "source": [
    "As an extension, calculate your weight on Mars and Jupiter. The gravity on Mars is 3 m/s/s, and the gravity on Jupiter is 24.8 m/s/s."
   ]
  },
  {
   "cell_type": "code",
   "execution_count": null,
   "id": "b0eea4d8-bc45-44e0-9e51-e612857628f2",
   "metadata": {},
   "outputs": [],
   "source": []
  },
  {
   "cell_type": "code",
   "execution_count": null,
   "id": "e2be293f-eb78-4be4-bb3e-647b9d37fb51",
   "metadata": {},
   "outputs": [],
   "source": []
  }
 ],
 "metadata": {
  "kernelspec": {
   "display_name": "Python 3",
   "language": "python",
   "name": "python3"
  },
  "language_info": {
   "codemirror_mode": {
    "name": "ipython",
    "version": 3
   },
   "file_extension": ".py",
   "mimetype": "text/x-python",
   "name": "python",
   "nbconvert_exporter": "python",
   "pygments_lexer": "ipython3",
   "version": "3.7.0"
  }
 },
 "nbformat": 4,
 "nbformat_minor": 5
}
