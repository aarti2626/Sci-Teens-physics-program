{
 "cells": [
  {
   "cell_type": "markdown",
   "id": "921c1509-0ad2-4bd6-acff-81e5e09ed2b2",
   "metadata": {},
   "source": [
    "# Lesson 4: Plotting Data"
   ]
  },
  {
   "cell_type": "markdown",
   "id": "c0a51d3d-b85f-46cb-9b2a-eb968ba8b30c",
   "metadata": {},
   "source": [
    "Hey there! Today you'll work on visualizing data."
   ]
  },
  {
   "cell_type": "markdown",
   "id": "56b5a9f4-9253-4625-8963-03a0ca4e80be",
   "metadata": {},
   "source": [
    "<div class=\"alert alert-block alert-info\">\n",
    "<b>What you should learn today: </b> How to use MatPlotLib to plot data.  \n",
    "</div>"
   ]
  },
  {
   "cell_type": "markdown",
   "id": "8ac9ff60-244a-4a7e-9b70-1400f6f04af8",
   "metadata": {},
   "source": [
    "## Section One: Importing Packages"
   ]
  },
  {
   "cell_type": "markdown",
   "id": "f2b0bbe0-868f-4d36-a547-50125bfd1a9b",
   "metadata": {},
   "source": [
    "Once again, we'll be importing pandas. This time around, we'll also import matplotlib and its pyplot submodule so that we can create some stunning plots today."
   ]
  },
  {
   "cell_type": "code",
   "execution_count": 4,
   "id": "f38ea28f-1788-4f09-b209-d2aed6b176a8",
   "metadata": {},
   "outputs": [],
   "source": [
    "import matplotlib.pyplot as plt\n",
    "import pandas as pd"
   ]
  },
  {
   "cell_type": "markdown",
   "id": "8ad44625-bf6a-4619-ba3e-56a2bb360886",
   "metadata": {},
   "source": [
    "## Section Two: Velocity vs. Time"
   ]
  },
  {
   "cell_type": "markdown",
   "id": "8c95bef0-1bef-403b-9d51-5d735509875c",
   "metadata": {},
   "source": [
    "Using plotting, we can visualize many things and create many types of graphs. We encourage you to explore everything you can do with matplotlib (you can create some really pretty graphs!). With respect to physics, though, we're mostly interested in plotting data to visualize the motion of an object. "
   ]
  },
  {
   "cell_type": "markdown",
   "id": "fad7e9bd-8b36-4c1b-847e-2f15f1752984",
   "metadata": {},
   "source": [
    "Let's say we have an object in freefall. That means it's accelerating at -9.8 m/s/s. Can you initialize arrays for time and velocity in an pandas DataFrame? We'll start you off."
   ]
  },
  {
   "cell_type": "code",
   "execution_count": 5,
   "id": "97bc9de4-b31c-40b3-8f13-b3912a2b6f8d",
   "metadata": {},
   "outputs": [],
   "source": [
    "time = [10, 9, 8, 6, 5, 4, 3, 2, 1, 0]\n",
    "# this represents how far the object is from the Earth"
   ]
  },
  {
   "cell_type": "markdown",
   "id": "328e2a98-9526-4fc2-9f28-931d02ab4430",
   "metadata": {},
   "source": [
    "### Question One"
   ]
  },
  {
   "cell_type": "markdown",
   "id": "132689ee-2ab6-475c-ada7-9ba27c28cee4",
   "metadata": {},
   "source": [
    "In the next cell, initialize values for the velocity array by filling in the partially-written for-loop. Make sure to print your values so you can see the array."
   ]
  },
  {
   "cell_type": "code",
   "execution_count": 7,
   "id": "3cc2963f-a0a5-4c74-aad6-a0d55bf13eca",
   "metadata": {},
   "outputs": [],
   "source": [
    "# velocity = [-9.8 * _ for _ in _]\n",
    "# print(velocity)"
   ]
  },
  {
   "cell_type": "markdown",
   "id": "cbd04c7d-9bcf-4d49-8b37-19ebb424f02a",
   "metadata": {},
   "source": [
    "### Question Two"
   ]
  },
  {
   "cell_type": "markdown",
   "id": "bb06dad3-f20e-4f46-a083-a756052b9940",
   "metadata": {},
   "source": [
    "Now that you have both time and velocity, try putting them both in a data frame, labeling both sets of data."
   ]
  },
  {
   "cell_type": "code",
   "execution_count": 9,
   "id": "34999c66-065b-4bde-9988-264a3c00495c",
   "metadata": {},
   "outputs": [],
   "source": [
    "# df = pd.DataFrame({'___': ___, '___': ___})\n",
    "# print(df)"
   ]
  },
  {
   "cell_type": "markdown",
   "id": "eb6380b8-ab86-4aa1-a051-115181931a53",
   "metadata": {},
   "source": [
    "Now let's plot the data. The output will be a velocity-time graph."
   ]
  },
  {
   "cell_type": "markdown",
   "id": "580d2efb-fcfc-4aa2-bbcc-fffd6ba843cb",
   "metadata": {},
   "source": [
    "Notice that the plt.plot() method will take an x and y parameter. First, we feed it the time values (as the x-axis), and then we give it the velocity values (as the y-axis). The resultant plot will be a **Velocity-Time** graph. Before running the cell, think about what the plot should look like. If we have constant downward acceleration, what should the slope of the plot be? What should it look like?"
   ]
  },
  {
   "cell_type": "code",
   "execution_count": 1,
   "id": "4e3bcc2b-e14b-4903-b5b0-7267075b3c30",
   "metadata": {},
   "outputs": [
    {
     "ename": "NameError",
     "evalue": "name 'plt' is not defined",
     "output_type": "error",
     "traceback": [
      "\u001b[0;31m---------------------------------------------------------------------------\u001b[0m",
      "\u001b[0;31mNameError\u001b[0m                                 Traceback (most recent call last)",
      "\u001b[0;32m<ipython-input-1-ab2803e70735>\u001b[0m in \u001b[0;36m<module>\u001b[0;34m\u001b[0m\n\u001b[0;32m----> 1\u001b[0;31m \u001b[0mplt\u001b[0m\u001b[0;34m.\u001b[0m\u001b[0mplot\u001b[0m\u001b[0;34m(\u001b[0m\u001b[0mdf\u001b[0m\u001b[0;34m[\u001b[0m\u001b[0;34m'time'\u001b[0m\u001b[0;34m]\u001b[0m\u001b[0;34m,\u001b[0m \u001b[0mdf\u001b[0m\u001b[0;34m[\u001b[0m\u001b[0;34m'velocity'\u001b[0m\u001b[0;34m]\u001b[0m\u001b[0;34m)\u001b[0m\u001b[0;34m\u001b[0m\u001b[0m\n\u001b[0m\u001b[1;32m      2\u001b[0m \u001b[0mplt\u001b[0m\u001b[0;34m.\u001b[0m\u001b[0mshow\u001b[0m\u001b[0;34m(\u001b[0m\u001b[0;34m)\u001b[0m\u001b[0;34m\u001b[0m\u001b[0m\n",
      "\u001b[0;31mNameError\u001b[0m: name 'plt' is not defined"
     ]
    }
   ],
   "source": [
    "plt.plot(df['time'], df['velocity'])\n",
    "plt.show()"
   ]
  },
  {
   "cell_type": "markdown",
   "id": "c858ac77-f886-4ce0-b29c-ef49a8e2712b",
   "metadata": {},
   "source": [
    "Was the plot what you expected? If not, think about it again. Constant acceleration means that the velocity-time graph will be a straight line. It is changing by a steady rate. The downward acceleration will be a negative value, which will mean a negative slope."
   ]
  },
  {
   "cell_type": "markdown",
   "id": "41f45b0a-2e98-43c7-8c9d-e652f552c1ce",
   "metadata": {},
   "source": [
    "To make the graph easier to read, we can add labels and a title. "
   ]
  },
  {
   "cell_type": "code",
   "execution_count": 7,
   "id": "ed8b6748-ba4b-4fd6-957a-e5b85250d5bd",
   "metadata": {},
   "outputs": [
    {
     "data": {
      "text/plain": [
       "Text(0.5, 1.0, 'Velocity vs. Time for an Object in Free Fall')"
      ]
     },
     "execution_count": 7,
     "metadata": {},
     "output_type": "execute_result"
    },
    {
     "data": {
      "image/png": "[encoded data removed]",
      "text/plain": [
       "<Figure size 432x288 with 1 Axes>"
      ]
     },
     "metadata": {
      "needs_background": "light"
     },
     "output_type": "display_data"
    }
   ],
   "source": [
    "plt.plot(df['time'], df['velocity'])\n",
    "plt.xlabel('Time, in seconds')\n",
    "plt.ylabel('Velocity, in m/s')\n",
    "plt.title('Velocity vs. Time for an Object in Free Fall')\n",
    "plt.show()"
   ]
  },
  {
   "cell_type": "markdown",
   "id": "0788e134-39db-4fc9-9b8b-562923bcb7f4",
   "metadata": {},
   "source": [
    "## Section Three: Acceleration vs. Time"
   ]
  },
  {
   "cell_type": "markdown",
   "id": "83d7d2d2-05d6-48c9-ab54-61ef0b2033bf",
   "metadata": {},
   "source": [
    "Now that you have a velocity-time graph, let's graph acceleration vs. time. Before you plot, think to yourself about what an acceleration vs. time graph of an object in free fall would look like. "
   ]
  },
  {
   "cell_type": "markdown",
   "id": "d3bb5396-6383-443e-8da2-eb1a56b683d8",
   "metadata": {},
   "source": [
    "Let's add another column of data -- this time, acceleration values."
   ]
  },
  {
   "cell_type": "code",
   "execution_count": 8,
   "id": "e98de528-587b-4ded-a64a-3372e7f2e798",
   "metadata": {},
   "outputs": [
    {
     "data": {
      "text/plain": [
       "Text(0.5, 1.0, 'Acceleration vs. Time for an Object in Free Fall')"
      ]
     },
     "execution_count": 8,
     "metadata": {},
     "output_type": "execute_result"
    },
    {
     "data": {
      "image/png": "[encoded data removed]",
      "text/plain": [
       "<Figure size 432x288 with 1 Axes>"
      ]
     },
     "metadata": {
      "needs_background": "light"
     },
     "output_type": "display_data"
    }
   ],
   "source": [
    "acceleration = [-9.8, -9.8, -9.8, -9.8, -9.8, -9.8, -9.8, -9.8, -9.8, -9.8 ]\n",
    "df['acceleration'] = acceleration"
   ]
  },
  {
   "cell_type": "markdown",
   "id": "d96a3610-1417-45ab-93d5-144b5a10614a",
   "metadata": {},
   "source": [
    "### Question Three"
   ]
  },
  {
   "cell_type": "markdown",
   "id": "77c53cc7-f065-4f1c-9a8f-1728c7e4f69b",
   "metadata": {},
   "source": [
    "Using our previous graph as an example, call the plt.plot(), x and ylabel(), title(), and show() methods to print the acceleration-time graph."
   ]
  },
  {
   "cell_type": "code",
   "execution_count": 10,
   "id": "2819c0c0-2d68-482b-a86d-975ea7a87aaa",
   "metadata": {},
   "outputs": [],
   "source": [
    "# plot\n",
    "# x label\n",
    "# y label\n",
    "# title\n",
    "# show"
   ]
  },
  {
   "cell_type": "markdown",
   "id": "c4238b12-d8e5-46ad-846e-dc078c0c76e4",
   "metadata": {},
   "source": [
    "Hopefully, you guessed that the graph would just look like a horizontal line at y = -9.8. This is because the value for acceleration does not change. "
   ]
  },
  {
   "cell_type": "markdown",
   "id": "82c86c5f-2c9f-4549-b53b-ac43184afbe4",
   "metadata": {},
   "source": [
    "An important thing to note here is that we've chosen a **negative** value for acceleration due to gravity. Depending on the physics problem, this will not always be the case. You will definitely see both positive and negative 9.8 m/s/s used for acceleration due to gravity. "
   ]
  },
  {
   "cell_type": "markdown",
   "id": "6683dc82-2331-4e65-9ca1-a7c07bca3e3b",
   "metadata": {},
   "source": [
    "However, it is important to understand the difference between a positive and negative value for acceleration and to be **consistent**. Here, we chose the direction down (as in, towards the Earth) to be negative. That's why our value for acceleration is negative. Since we're only considering one-dimensional motion here (the object only moves down in this example), it doesn't matter too much, but in other problems, it will."
   ]
  },
  {
   "cell_type": "markdown",
   "id": "417970fb-97bc-432e-8a18-f65101f4e370",
   "metadata": {},
   "source": [
    "## Section Four: Position vs. Time"
   ]
  },
  {
   "cell_type": "markdown",
   "id": "21d40069-4a1f-4134-a81d-775cc3daef8f",
   "metadata": {},
   "source": [
    "Now that we've covered velocity and acceleration vs. time graphs, let's move on to position-time. A good way to think about physics plots is that they decrease in complexity as you go from position to velocity to acceleration. Position plots are often the most complex-looking, but they can be extremely useful in visualizing motion. "
   ]
  },
  {
   "cell_type": "markdown",
   "id": "21a8c278-d5a0-462b-86c4-9b4a5206c1d2",
   "metadata": {},
   "source": [
    "Just like before, let's start with making arrays and then plotting them. "
   ]
  },
  {
   "cell_type": "code",
   "execution_count": 9,
   "id": "d5199550-1ba2-409d-a925-3cc863aa0ad9",
   "metadata": {},
   "outputs": [],
   "source": [
    "position = [0, 0, 0, 0, 0, 0, 0, 0, 0, 0]\n",
    "# we're initializing an empty array first"
   ]
  },
  {
   "cell_type": "code",
   "execution_count": 10,
   "id": "b6e62888-b549-42f6-9913-f2b5e8c21b4f",
   "metadata": {},
   "outputs": [
    {
     "name": "stdout",
     "output_type": "stream",
     "text": [
      "[-980.0, -793.8000000000001, -627.2, -352.8, -245.0, -156.8, -88.2, -39.2, -9.8, -0.0]\n"
     ]
    }
   ],
   "source": [
    "# this for loop will help us fill it with values\n",
    "for j in range(len(time)):\n",
    "    position[j] = velocity[j] * time[j]\n",
    "print(position)"
   ]
  },
  {
   "cell_type": "markdown",
   "id": "6c148ef4-6c5d-4b6b-bed1-c0d1d8b72cad",
   "metadata": {},
   "source": [
    "### Question Four"
   ]
  },
  {
   "cell_type": "markdown",
   "id": "81eb2511-1d1a-474e-aef2-d7f38a6510e7",
   "metadata": {},
   "source": [
    "Add the position values to the existing DataFrame and print the resultant DataFrame."
   ]
  },
  {
   "cell_type": "code",
   "execution_count": null,
   "id": "6014ef46-946c-4d9a-a581-5fceaece3901",
   "metadata": {},
   "outputs": [],
   "source": []
  },
  {
   "cell_type": "markdown",
   "id": "34fcc1ed-809a-4e59-9cc6-21226620203d",
   "metadata": {},
   "source": [
    "### Question Five"
   ]
  },
  {
   "cell_type": "markdown",
   "id": "42c2becf-1f2d-49ae-a26f-34fb01810b1c",
   "metadata": {},
   "source": [
    "Now, let's plot. Again, think about what the plot should look like. Should it be a straight line? Think about how the position values are changing as time goes on. Are they changing at a constant rate?"
   ]
  },
  {
   "cell_type": "markdown",
   "id": "55923a96-6df7-4990-a4e2-dac9fedaf02d",
   "metadata": {},
   "source": [
    "Just like before, use plt methods to plot the Position vs. Time graph."
   ]
  },
  {
   "cell_type": "code",
   "execution_count": null,
   "id": "60f561bc-5125-4063-8adf-7d3ccb77a571",
   "metadata": {},
   "outputs": [],
   "source": []
  },
  {
   "cell_type": "markdown",
   "id": "b8bf7ec9-671c-49cf-915a-8214fc1416ac",
   "metadata": {},
   "source": [
    "Notice that the graph is a curve, not a straight line. This is because the position is NOT decreasing at a steady rate. If it decreased at a steady rate, it would not be accelerating. Instead, as time goes on, the particle is moving more and more rapidly. The closer it gets to Earth, the faster it moves. Therefore, with every second that passes, the particle has traveled further than it did the previous second."
   ]
  },
  {
   "cell_type": "markdown",
   "id": "3913e660-d236-4c85-bc9b-ec9bce962d17",
   "metadata": {},
   "source": [
    "## Section Five: Putting Them Together"
   ]
  },
  {
   "cell_type": "markdown",
   "id": "949f19f0-c290-46e1-ac70-33d6af7a947d",
   "metadata": {},
   "source": [
    "Now, let's try plotting all three functions on the same graph. This way, we can more easily see the relationship of position, velocity, and acceleration of an object in free fall. To do this, we'll create three different lines and use a legend to distinguish them."
   ]
  },
  {
   "cell_type": "markdown",
   "id": "18559a6a-dfa5-4e60-a35e-80422ebdc729",
   "metadata": {},
   "source": [
    "### Question Six"
   ]
  },
  {
   "cell_type": "markdown",
   "id": "46d50bba-b256-46bc-96e1-44d593c06e18",
   "metadata": {},
   "source": [
    "Most of the code has already been written for you, but see if you can fill in the blanks."
   ]
  },
  {
   "cell_type": "code",
   "execution_count": 13,
   "id": "8c60c740-ba6b-445f-98f2-4ba621c50352",
   "metadata": {},
   "outputs": [
    {
     "data": {
      "text/plain": [
       "<matplotlib.legend.Legend at 0x7f8bb4541d68>"
      ]
     },
     "execution_count": 13,
     "metadata": {},
     "output_type": "execute_result"
    },
    {
     "data": {
      "image/png": "[encoded data removed]",
      "text/plain": [
       "<Figure size 432x288 with 1 Axes>"
      ]
     },
     "metadata": {
      "needs_background": "light"
     },
     "output_type": "display_data"
    }
   ],
   "source": [
    "plt.plot(df['___'], df['___'], label = \"____\")\n",
    "plt.plot(df['___'], df['___'], label = \"___\")\n",
    "plt.plot(df['___'], df['___'], label = \"___\")\n",
    "plt.xlabel('Time, in seconds')\n",
    "plt.title('Position, Velocity, and Acceleration vs. Time')\n",
    "plt.legend() # this invokes the legend\n",
    "plt.show()"
   ]
  },
  {
   "cell_type": "markdown",
   "id": "1e0c1666-3450-48f5-a575-b1a90aec9a9b",
   "metadata": {},
   "source": [
    "Notice the use of labels to distinguish each line. "
   ]
  },
  {
   "cell_type": "markdown",
   "id": "8334833d-d645-48df-aa0a-89216de19dec",
   "metadata": {},
   "source": [
    "## Section Six: Built-in Pandas Methods"
   ]
  },
  {
   "cell_type": "markdown",
   "id": "dffd1c9b-be76-4c84-a074-454acd06df3a",
   "metadata": {},
   "source": [
    "We can also utilize built-in Pandas methods to analyze our graphs. For example, you've learned that \n",
    "\n",
    "$ acceleration_{average} = \\frac{{\\Delta} velocity}{{\\Delta} time} $"
   ]
  },
  {
   "cell_type": "markdown",
   "id": "a570456a-526d-41c3-b5d8-9bf33bc11e70",
   "metadata": {},
   "source": [
    "And that, similarly, $ velocity_{average} = \\frac{{\\Delta} position}{{\\Delta} time} $"
   ]
  },
  {
   "cell_type": "markdown",
   "id": "0c321dd8-c2bb-4e30-95df-1e7d15310b67",
   "metadata": {},
   "source": [
    "But, as we learned in the previous lesson, Pandas has a built-in method called mean() which finds the average of a DataFrame column."
   ]
  },
  {
   "cell_type": "markdown",
   "id": "95efe179-7323-4ee8-9a92-07a5724342cf",
   "metadata": {},
   "source": [
    "Let's find average acceleration together. You'll do velocity on your own. First, let's find it using the formula we learned in class. "
   ]
  },
  {
   "cell_type": "markdown",
   "id": "749d8f49-7c36-4657-948a-067ea9c11d38",
   "metadata": {},
   "source": [
    "Recall that $ {\\Delta} v = v_{final} - v_{initial} $"
   ]
  },
  {
   "cell_type": "code",
   "execution_count": 12,
   "id": "4c2934f4-77ad-4389-83d4-efb9e7d40679",
   "metadata": {},
   "outputs": [
    {
     "ename": "NameError",
     "evalue": "name 'velocity' is not defined",
     "output_type": "error",
     "traceback": [
      "\u001b[0;31m---------------------------------------------------------------------------\u001b[0m",
      "\u001b[0;31mNameError\u001b[0m                                 Traceback (most recent call last)",
      "\u001b[0;32m<ipython-input-12-c794a236bd1c>\u001b[0m in \u001b[0;36m<module>\u001b[0;34m\u001b[0m\n\u001b[0;32m----> 1\u001b[0;31m \u001b[0mdeltaV\u001b[0m \u001b[0;34m=\u001b[0m \u001b[0mvelocity\u001b[0m\u001b[0;34m[\u001b[0m\u001b[0;36m9\u001b[0m\u001b[0;34m]\u001b[0m \u001b[0;34m-\u001b[0m \u001b[0mvelocity\u001b[0m\u001b[0;34m[\u001b[0m\u001b[0;36m0\u001b[0m\u001b[0;34m]\u001b[0m \u001b[0;31m# ASSIGNING DELTA V\u001b[0m\u001b[0;34m\u001b[0m\u001b[0m\n\u001b[0m\u001b[1;32m      2\u001b[0m \u001b[0mdeltaT\u001b[0m \u001b[0;34m=\u001b[0m \u001b[0mtime\u001b[0m\u001b[0;34m[\u001b[0m\u001b[0;36m9\u001b[0m\u001b[0;34m]\u001b[0m \u001b[0;34m-\u001b[0m \u001b[0mtime\u001b[0m\u001b[0;34m[\u001b[0m\u001b[0;36m0\u001b[0m\u001b[0;34m]\u001b[0m \u001b[0;31m# ASSIGNING DELTA T\u001b[0m\u001b[0;34m\u001b[0m\u001b[0m\n\u001b[1;32m      3\u001b[0m \u001b[0mavg_acceleration\u001b[0m \u001b[0;34m=\u001b[0m \u001b[0mdeltaV\u001b[0m \u001b[0;34m/\u001b[0m \u001b[0mdeltaT\u001b[0m\u001b[0;34m\u001b[0m\u001b[0m\n\u001b[1;32m      4\u001b[0m \u001b[0mprint\u001b[0m\u001b[0;34m(\u001b[0m\u001b[0mavg_acceleration\u001b[0m\u001b[0;34m)\u001b[0m\u001b[0;34m\u001b[0m\u001b[0m\n",
      "\u001b[0;31mNameError\u001b[0m: name 'velocity' is not defined"
     ]
    }
   ],
   "source": [
    "deltaV = velocity[9] - velocity[0] # ASSIGNING DELTA V\n",
    "deltaT = time[9] - time[0] # ASSIGNING DELTA T\n",
    "avg_acceleration = deltaV / deltaT\n",
    "print(avg_acceleration)"
   ]
  },
  {
   "cell_type": "markdown",
   "id": "80acbbb7-06fc-404b-b6ee-18774a212682",
   "metadata": {},
   "source": [
    "Are you surprised by the output of the cell? It should make sense, since acceleration in this problem is constant. The following cell uses the built-in method."
   ]
  },
  {
   "cell_type": "code",
   "execution_count": 21,
   "id": "ef38c6bf-0a2d-46c3-a375-c8ff3c00042e",
   "metadata": {},
   "outputs": [
    {
     "data": {
      "text/plain": [
       "-9.8"
      ]
     },
     "execution_count": 21,
     "metadata": {},
     "output_type": "execute_result"
    }
   ],
   "source": [
    "avg_acceleration_2 = df['acceleration'].mean()\n",
    "print(avg_acceleration_2)"
   ]
  },
  {
   "cell_type": "markdown",
   "id": "5066c26b-e8d0-4a4f-a701-4773d7e62258",
   "metadata": {},
   "source": [
    "Note that you cannot call acceleration.mean(), since the mean() method only applies to DataFrame objects."
   ]
  },
  {
   "cell_type": "markdown",
   "id": "e64285c2-5678-4050-b2e5-3ee13f33e511",
   "metadata": {},
   "source": [
    "### Question Seven"
   ]
  },
  {
   "cell_type": "markdown",
   "id": "87d468ce-e801-4700-aab3-4ca1ecfe419d",
   "metadata": {},
   "source": [
    "Acceleration was pretty straightforward --- what about velocity? Find the average using the formula and the built-in method. "
   ]
  },
  {
   "cell_type": "code",
   "execution_count": 31,
   "id": "62046662-acc0-4f5f-a9d0-32798b56a76b",
   "metadata": {},
   "outputs": [],
   "source": [
    "# avg_velocity ="
   ]
  },
  {
   "cell_type": "code",
   "execution_count": 32,
   "id": "abf3b61a-148e-4729-912b-30fd299d9de3",
   "metadata": {},
   "outputs": [],
   "source": [
    "# calculate using built-in method"
   ]
  },
  {
   "cell_type": "markdown",
   "id": "281c87f0-b72f-4dd0-a303-afb8bdcddc64",
   "metadata": {},
   "source": [
    "Are the two values the same? Why or why not?"
   ]
  },
  {
   "cell_type": "markdown",
   "id": "5db3c487-91d1-4de4-b9a3-8c2825ea5179",
   "metadata": {},
   "source": [
    "### Question Eight"
   ]
  },
  {
   "cell_type": "markdown",
   "id": "c5a99174-cb3d-4563-a1e0-c0714ef37e64",
   "metadata": {},
   "source": [
    "Using either value of average velocity, can you plot a graph with the velocity values and the average? Use the commented instructions below as a guide."
   ]
  },
  {
   "cell_type": "code",
   "execution_count": 33,
   "id": "34737dd9-aa46-4a5f-866d-12031cd9f9b1",
   "metadata": {},
   "outputs": [],
   "source": [
    "# create a list of the average velocity value \n",
    "# add it to the DataFrame \n",
    "# plot the two lines \n",
    "# invoke a legend"
   ]
  },
  {
   "cell_type": "markdown",
   "id": "58d157b7-a1aa-468b-ae44-7f2e5717513c",
   "metadata": {},
   "source": [
    "## Challenge Question"
   ]
  },
  {
   "cell_type": "markdown",
   "id": "7e76a3c1-4666-4545-9d65-3f0a7dbe4103",
   "metadata": {},
   "source": [
    "Here's a challenge problem for you. Can you plot the upward motion of the same object?"
   ]
  },
  {
   "cell_type": "markdown",
   "id": "45b47f92-75ce-4845-a9ae-b96ab6dca953",
   "metadata": {},
   "source": [
    "- The object was thrown up at an initial velocity of 2 m/s\n",
    "- Assume the all the previous data you've been given/calculated for the downward motion is correct \n",
    "- **Hint**: The acceleration (although the particle is changing direction) will still be a constant -9.8 m/s/s. You are welcome to use a positive value if you'd like, but remember that this will change values you've previously calculated."
   ]
  },
  {
   "cell_type": "markdown",
   "id": "08f3ffde-f0a0-4bbf-b1f4-1445211bd7de",
   "metadata": {},
   "source": [
    "Create bigger lists for position, velocity, time, and acceleration, and plot every style of graph covered today. "
   ]
  },
  {
   "cell_type": "code",
   "execution_count": 14,
   "id": "79a970cc-9fe9-4e81-91bd-5f7aae37d566",
   "metadata": {},
   "outputs": [],
   "source": [
    "# create bigger lists"
   ]
  },
  {
   "cell_type": "code",
   "execution_count": 15,
   "id": "90f45c3c-5802-4fcb-8484-d38738ea4228",
   "metadata": {},
   "outputs": [],
   "source": [
    "# plot graph 1"
   ]
  },
  {
   "cell_type": "code",
   "execution_count": 16,
   "id": "78448bc1-ea1d-46c7-9fea-7ed0e59db931",
   "metadata": {},
   "outputs": [],
   "source": [
    "# plot graph 2 "
   ]
  },
  {
   "cell_type": "code",
   "execution_count": 17,
   "id": "4809f66b-67e2-4b52-a6d3-9c7d2ef7822f",
   "metadata": {},
   "outputs": [],
   "source": [
    "# plot graph 3"
   ]
  },
  {
   "cell_type": "markdown",
   "id": "0fe5e497-8773-43af-aad4-c4ee265d9f44",
   "metadata": {},
   "source": [
    "What are the average values for velocity, position, and acceleration?"
   ]
  },
  {
   "cell_type": "code",
   "execution_count": 18,
   "id": "bd9d5654-9f09-489a-b126-2f7f74e3087d",
   "metadata": {},
   "outputs": [],
   "source": [
    "# find and print average velocity"
   ]
  },
  {
   "cell_type": "code",
   "execution_count": 19,
   "id": "427aaf07-6d5b-40f6-9c39-936277c0b59c",
   "metadata": {},
   "outputs": [],
   "source": [
    "# find and print average position "
   ]
  },
  {
   "cell_type": "code",
   "execution_count": 20,
   "id": "400bc9a3-69f1-4fc8-b55b-52c4b4069b86",
   "metadata": {},
   "outputs": [],
   "source": [
    "# find and pring average acceleration"
   ]
  }
 ],
 "metadata": {
  "kernelspec": {
   "display_name": "Python 3",
   "language": "python",
   "name": "python3"
  },
  "language_info": {
   "codemirror_mode": {
    "name": "ipython",
    "version": 3
   },
   "file_extension": ".py",
   "mimetype": "text/x-python",
   "name": "python",
   "nbconvert_exporter": "python",
   "pygments_lexer": "ipython3",
   "version": "3.7.0"
  }
 },
 "nbformat": 4,
 "nbformat_minor": 5
}
