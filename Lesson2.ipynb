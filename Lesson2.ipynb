{
 "cells": [
  {
   "cell_type": "markdown",
   "id": "f808e216-096d-4048-96ba-bd5f009ac15a",
   "metadata": {},
   "source": [
    "Hi everyone! Welcome to SciTeens SOLID Physics Camp. \n",
    "Today you'll complete your second assignment. Please work through the problems below as best as you can. Feel free to message us if you have any difficulties. "
   ]
  },
  {
   "cell_type": "code",
   "execution_count": 1,
   "id": "d5d4a229-2b38-483a-ae1f-7e5747690b76",
   "metadata": {},
   "outputs": [],
   "source": [
    "import otter\n",
    "grader = otter.Notebook()"
   ]
  },
  {
   "cell_type": "markdown",
   "id": "99d9fc61-6be7-4e72-9478-ef05a08d8d65",
   "metadata": {},
   "source": [
    "Today we'll focus on the translation of physics ideas into Python. You'll easily get the hang of translating between the two, with some practice."
   ]
  },
  {
   "cell_type": "markdown",
   "id": "d88328fa-5401-4032-9ebd-529b50ae0a85",
   "metadata": {},
   "source": [
    "Mathematical operators look different in Python, you'll recall. For example, the quadratic $$  x^2 - 4x + 4  $$ can be written as the following cell in Python."
   ]
  },
  {
   "cell_type": "raw",
   "id": "f712daa3-9fe7-40d0-9498-0cf247141c44",
   "metadata": {},
   "source": [
    "x**2 - 4*x + 4  "
   ]
  },
  {
   "cell_type": "markdown",
   "id": "29a37a10-b484-4a1c-bf18-b720de74703a",
   "metadata": {},
   "source": [
    "Note that the $$ x^2 $$ has to be written as x**2 in Python."
   ]
  },
  {
   "cell_type": "markdown",
   "id": "3fc5e94e-e06d-4f4f-a701-f3cdd552898a",
   "metadata": {},
   "source": [
    "However, if we want a mathematical equation to function the same way we are used to, we have to put it in a function. Here, we've written the same quadratic as above, but in a function."
   ]
  },
  {
   "cell_type": "code",
   "execution_count": 2,
   "id": "c8ee36f7-f244-4dfe-be43-4e521eb52450",
   "metadata": {},
   "outputs": [],
   "source": [
    "def f(x):\n",
    "    return x**2 - 4*x + 4"
   ]
  },
  {
   "cell_type": "markdown",
   "id": "a2943e44-5d67-485b-b9af-197ab276386a",
   "metadata": {},
   "source": [
    "The input of the function is x, and the output is dictated by the return statement. Try running the cells below and note what they output. Is the notation similar to what you're used to seeing in math class?"
   ]
  },
  {
   "cell_type": "code",
   "execution_count": 3,
   "id": "91b1b31a-b646-4395-b3b7-98eacf7948f7",
   "metadata": {},
   "outputs": [
    {
     "data": {
      "text/plain": [
       "4"
      ]
     },
     "execution_count": 3,
     "metadata": {},
     "output_type": "execute_result"
    }
   ],
   "source": [
    "f(0)"
   ]
  },
  {
   "cell_type": "code",
   "execution_count": 4,
   "id": "d6526ef2-9627-40dc-bd30-441e3a36d39e",
   "metadata": {},
   "outputs": [
    {
     "data": {
      "text/plain": [
       "0"
      ]
     },
     "execution_count": 4,
     "metadata": {},
     "output_type": "execute_result"
    }
   ],
   "source": [
    "f(2)"
   ]
  },
  {
   "cell_type": "code",
   "execution_count": 5,
   "id": "76ecede7-ece8-4e15-b830-2aae1bb6c254",
   "metadata": {},
   "outputs": [
    {
     "data": {
      "text/plain": [
       "16"
      ]
     },
     "execution_count": 5,
     "metadata": {},
     "output_type": "execute_result"
    }
   ],
   "source": [
    "f(-2)"
   ]
  },
  {
   "cell_type": "markdown",
   "id": "c7d194a8-4188-4bc7-9513-b58bf915379f",
   "metadata": {},
   "source": [
    "Try writing the equation of a line $$ y = mx + b $$ in Python by yourself. Then, test some values."
   ]
  },
  {
   "cell_type": "code",
   "execution_count": 6,
   "id": "f53fd9e0-4c53-422d-9e96-cfe2bb7676f4",
   "metadata": {},
   "outputs": [],
   "source": [
    "#def y(x):\n",
    "    # equation of a line"
   ]
  },
  {
   "cell_type": "code",
   "execution_count": 7,
   "id": "a93eead0-ad30-4d36-b96a-1795902f1bef",
   "metadata": {},
   "outputs": [],
   "source": [
    "#y(72)"
   ]
  },
  {
   "cell_type": "code",
   "execution_count": 8,
   "id": "e807215e-1a01-4574-908f-e7f8f7bb4b60",
   "metadata": {},
   "outputs": [],
   "source": [
    "#y(10)"
   ]
  },
  {
   "cell_type": "markdown",
   "id": "a7f4b349-ee43-4daa-89ed-7594731c5b0b",
   "metadata": {},
   "source": [
    "Do you remember this equation from class? See what happens when you call the function."
   ]
  },
  {
   "cell_type": "code",
   "execution_count": 9,
   "id": "2c9beb42-c6c3-4ed5-bc7d-61a81ef9156c",
   "metadata": {},
   "outputs": [],
   "source": [
    "def kinematic(acceleration, v0, x0, time):\n",
    "    return(0.5*acceleration*(time*time) + v0*time + x0)"
   ]
  },
  {
   "cell_type": "code",
   "execution_count": 10,
   "id": "58ebbb22-a7ca-4380-8ccb-23c4863c6e23",
   "metadata": {},
   "outputs": [
    {
     "data": {
      "text/plain": [
       "2.5"
      ]
     },
     "execution_count": 10,
     "metadata": {},
     "output_type": "execute_result"
    }
   ],
   "source": [
    "kinematic(1, 1, 1, 1)"
   ]
  },
  {
   "cell_type": "markdown",
   "id": "a41fe3ac-4edc-4173-b888-33ccbfa92eb7",
   "metadata": {},
   "source": [
    "Try calling the function using your own input:"
   ]
  },
  {
   "cell_type": "code",
   "execution_count": 11,
   "id": "5be78795-8363-47fb-8ca4-7ab904abb78e",
   "metadata": {},
   "outputs": [],
   "source": [
    "# your input"
   ]
  },
  {
   "cell_type": "markdown",
   "id": "aeca3eac-67d6-41d9-a24b-7a3ad0592371",
   "metadata": {},
   "source": [
    "Here's another equation from class."
   ]
  },
  {
   "cell_type": "code",
   "execution_count": 12,
   "id": "800c67a8-302b-46bc-bc26-200c3d62ccb2",
   "metadata": {},
   "outputs": [],
   "source": [
    "def kinematic2(v0, a, t):\n",
    "    return(v0 + a*t)"
   ]
  },
  {
   "cell_type": "code",
   "execution_count": 13,
   "id": "dce82799-838a-4561-bfdd-df46454a1279",
   "metadata": {},
   "outputs": [],
   "source": [
    "# Try calling it again. What does your result represent?"
   ]
  },
  {
   "cell_type": "markdown",
   "id": "80c55b26-001d-4362-9299-6b881d1caf50",
   "metadata": {},
   "source": [
    "Write the function 'kinematic3' for our third equation from class below."
   ]
  },
  {
   "cell_type": "code",
   "execution_count": 1,
   "id": "b9de2f13-a5c1-43db-9bb3-0b33b2b1e088",
   "metadata": {},
   "outputs": [],
   "source": [
    "#def kinematic3(v0, a, deltaX):\n",
    "  # replace with code"
   ]
  },
  {
   "cell_type": "markdown",
   "id": "80e2d248-4c15-43ae-8647-382c87beb63c",
   "metadata": {},
   "source": [
    "In physics, we also have a lot of constants, such as acceleration due to gravity. In this section, we'll focus on constants, units of measurement, and conversion."
   ]
  },
  {
   "cell_type": "markdown",
   "id": "eb068721-62a8-4b7a-bcc8-e22b04b507de",
   "metadata": {},
   "source": [
    "For conversions, it is customary to write the variable name in all-caps. As with any variable, you can call it anything, but it helps other people who may be looking at your code to follow custom."
   ]
  },
  {
   "cell_type": "code",
   "execution_count": 3,
   "id": "804e4b42-8d04-421f-bd60-080c6c124afe",
   "metadata": {},
   "outputs": [],
   "source": [
    "ACC_DUE_TO_GRAVITY = -9.8 # this initializes a constant"
   ]
  },
  {
   "cell_type": "markdown",
   "id": "be600040-bb6d-4804-883e-dbb78cc5a56b",
   "metadata": {},
   "source": [
    "If, for example, we wanted to use the constant in a kinematic equation, we could just replace the acceleration variable. Here's an example."
   ]
  },
  {
   "cell_type": "code",
   "execution_count": 4,
   "id": "f282118c-2242-4ad1-95fc-6f0980c2435f",
   "metadata": {},
   "outputs": [],
   "source": [
    "def kinematic_2(v0, t):\n",
    "    return(v0 + ACC_DUE_TO_GRAVITY*t)"
   ]
  },
  {
   "cell_type": "markdown",
   "id": "b0df82bc-1c0d-4bf8-ba60-b8a6c6aafeba",
   "metadata": {},
   "source": [
    "Notice that we don't need to pass ACC_DUE_TO_GRAVITY as an argument because we've previously defined it."
   ]
  },
  {
   "cell_type": "markdown",
   "id": "0bca9fe7-be7a-43c9-9272-d78c50612be3",
   "metadata": {
    "tags": []
   },
   "source": [
    "Recall from class that we can calculate the weight of an object by multiplying its mass by the acceleration due to gravity. How much does a 160 kilogram object weigh in Newtons?"
   ]
  },
  {
   "cell_type": "code",
   "execution_count": 13,
   "id": "b17313b1-eef3-41c8-a966-da829a33e942",
   "metadata": {},
   "outputs": [],
   "source": [
    "# 160 kilograms to Newtons"
   ]
  },
  {
   "cell_type": "markdown",
   "id": "336aef9f-bbe6-4777-9445-f867fd844f42",
   "metadata": {},
   "source": [
    "For conversions, the same basic rules apply. Conventionally, conversion factors will also be written in all-caps and have very straightforward names. Here are a few."
   ]
  },
  {
   "cell_type": "code",
   "execution_count": 6,
   "id": "d3b2ab65-3bbf-44c7-b89e-1062d433f106",
   "metadata": {},
   "outputs": [],
   "source": [
    "MPH_TO_KPH = 1.609344\n",
    "# conversion factor for miles per hour to kilometers per hour"
   ]
  },
  {
   "cell_type": "code",
   "execution_count": 7,
   "id": "725556d8-3fb8-4d5b-af57-d0dce359a184",
   "metadata": {},
   "outputs": [],
   "source": [
    "FT_TO_M = 0.3048\n",
    "# conversion factor for feet to meters"
   ]
  },
  {
   "cell_type": "code",
   "execution_count": 8,
   "id": "ba1837ad-38c2-4abe-b954-f28e08dcb1be",
   "metadata": {},
   "outputs": [],
   "source": [
    "S_TO_MIN = 1/60\n",
    "# conversion factor for seconds to minutes"
   ]
  },
  {
   "cell_type": "markdown",
   "id": "98a7f499-87e9-4858-8a47-db4de8ac30c5",
   "metadata": {},
   "source": [
    "Using the conversion factors given, complete the following:"
   ]
  },
  {
   "cell_type": "code",
   "execution_count": 9,
   "id": "e5fa2417-e865-4b57-85c3-59a6c08dc7a6",
   "metadata": {},
   "outputs": [],
   "source": [
    "# Convert 30 mph to kph. "
   ]
  },
  {
   "cell_type": "code",
   "execution_count": 10,
   "id": "f4ef7740-0877-4176-b435-b5efa5186e7d",
   "metadata": {},
   "outputs": [],
   "source": [
    "# How many seconds are in 2727 minutes?"
   ]
  },
  {
   "cell_type": "code",
   "execution_count": 11,
   "id": "01de290e-40a6-428f-8cf4-e6f3e1e26e09",
   "metadata": {},
   "outputs": [],
   "source": [
    "# If an object has traveled a distance of 35 feet, how many meters has it covered?"
   ]
  },
  {
   "cell_type": "markdown",
   "id": "9988cbb2-3024-4c56-9b63-4bbe4247d771",
   "metadata": {},
   "source": [
    "The following problem will require you to look up a conversion factor on your own. Assign the conversion factor to a variable (just like in the previous examples) and complete the problem."
   ]
  },
  {
   "cell_type": "code",
   "execution_count": 12,
   "id": "7b5d40fd-371e-4c2a-8c49-91dd1fcd2b42",
   "metadata": {},
   "outputs": [],
   "source": [
    "# If the weight of an object is 4899 metric tons, how much does it weigh in pounds?"
   ]
  },
  {
   "cell_type": "code",
   "execution_count": 14,
   "id": "47dd2175-eb3b-4eab-ad34-22afeb27adc2",
   "metadata": {},
   "outputs": [],
   "source": [
    "# If the volume of an object is 678 cubic centimeters, \n",
    "# how much is that in cubic decimeters?"
   ]
  },
  {
   "cell_type": "code",
   "execution_count": 15,
   "id": "c3687f42-e439-4c1d-a287-e59557acca66",
   "metadata": {},
   "outputs": [],
   "source": [
    "# Calculate your weight in Newtons.\n",
    "# Hint: Start with your weight in pounds, then move to kilograms, then Newtons. \n",
    "# This is a two-step problem."
   ]
  }
 ],
 "metadata": {
  "kernelspec": {
   "display_name": "Python 3",
   "language": "python",
   "name": "python3"
  },
  "language_info": {
   "codemirror_mode": {
    "name": "ipython",
    "version": 3
   },
   "file_extension": ".py",
   "mimetype": "text/x-python",
   "name": "python",
   "nbconvert_exporter": "python",
   "pygments_lexer": "ipython3",
   "version": "3.7.0"
  }
 },
 "nbformat": 4,
 "nbformat_minor": 5
}
