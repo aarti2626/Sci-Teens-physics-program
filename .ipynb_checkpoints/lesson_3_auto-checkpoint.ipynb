{
 "cells": [
  {
   "cell_type": "markdown",
   "metadata": {},
   "source": [
    "```\n",
    "BEGIN ASSIGNMENT\n",
    "requirements: requirements.txt\n",
    "solutions_pdf: true\n",
    "export_cell:\n",
    "    instructions: \"These are some submission instructions.\"\n",
    "generate: \n",
    "    pdf: true\n",
    "    zips: false\n",
    "export_cell:\n",
    "    pdf: false\n",
    "    instructions: \"Please submit the resultant .zip file to the SciTeens platform\"\n",
    "```"
   ]
  },
  {
   "cell_type": "markdown",
   "metadata": {},
   "source": [
    "# Lesson Three: Introduction to DataFrames\n",
    "Hi everyone! Hope you had a good second assignment.\n",
    "Today we'll start working with data tables using Python's pandas library.\n",
    "As per usual, let us know if you have any questions."
   ]
  },
  {
   "cell_type": "markdown",
   "metadata": {},
   "source": [
    "## Section One: Importing Pandas\n",
    "Before we can get started with writing our notebook and diving into some data, we have to import a **package**. Packages are pre-built bundles of code that allow us to achieve common tasks that we wouldn't be able to achieve in plain Python.\n",
    "\n",
    "Pandas is a package that comes with many built in tools for examining and manipulating data. We'll use this package a lot throughout this course to help us read in and access our data. \n",
    "![Pandas](https://camo.githubusercontent.com/4625c5e344a46d938ff6316a49831ee304e7cf7c/68747470733a2f2f6d656469612e67697068792e636f6d2f6d656469612f456174774a5a525549763431472f67697068792e676966)"
   ]
  },
  {
   "cell_type": "code",
   "execution_count": null,
   "metadata": {},
   "outputs": [],
   "source": [
    "import pandas as pd"
   ]
  },
  {
   "cell_type": "markdown",
   "metadata": {},
   "source": [
    "## Section Two: Using Lists"
   ]
  },
  {
   "cell_type": "markdown",
   "metadata": {},
   "source": [
    "Today we'll be learning about a data structure called a DataFrame. A DataFrame is a two-dimensional data structure, meaning that it has tables and columns. "
   ]
  },
  {
   "cell_type": "markdown",
   "metadata": {},
   "source": [
    "Though you can initialize a DataFrame with many different types of data, we will be looking specifically at lists. How can we pass in lists to a DataFrame?"
   ]
  },
  {
   "cell_type": "markdown",
   "metadata": {},
   "source": [
    "Let's say I have the following array of x-values."
   ]
  },
  {
   "cell_type": "code",
   "execution_count": null,
   "metadata": {},
   "outputs": [],
   "source": [
    "x_values = [0, 1, 2, 3, 4]"
   ]
  },
  {
   "cell_type": "markdown",
   "metadata": {},
   "source": [
    "Pretty easy, right? Well, what if I wanted an array of y-values based on the x-values? Let's say that I wanted every y-value to be the corresponding x-value times 2. \n",
    "\n",
    "This would mean that the y-value array would be [0, 2, 4, 6 8].\n",
    "\n",
    "I could write the following loop to assign values to the array:"
   ]
  },
  {
   "cell_type": "code",
   "execution_count": null,
   "metadata": {},
   "outputs": [],
   "source": [
    "y_values = [0, 0, 0, 0, 0]\n",
    "\n",
    "for i in range(len(x_values)):\n",
    "    y_values[i] = x_values[i] * 2"
   ]
  },
  {
   "cell_type": "markdown",
   "metadata": {},
   "source": [
    "Let's print the values to make sure we got what we wanted."
   ]
  },
  {
   "cell_type": "code",
   "execution_count": null,
   "metadata": {},
   "outputs": [],
   "source": [
    "print(y_values)"
   ]
  },
  {
   "cell_type": "markdown",
   "metadata": {},
   "source": [
    "Though we got the correct output, there's actually a much easier way to initialize this list in Python. We can actually do it in a single line."
   ]
  },
  {
   "cell_type": "markdown",
   "metadata": {},
   "source": [
    "Look at the following cell and try to absorb the syntax. It is the same for-loop we've been seeing, but it's just in one line. It's saying that **for each value in x-values, add double that value to y-values**. "
   ]
  },
  {
   "cell_type": "code",
   "execution_count": null,
   "metadata": {},
   "outputs": [],
   "source": [
    "y_values = [i*2 for i in x_values] # results in [0, 2, 4, 6, 8]"
   ]
  },
  {
   "cell_type": "markdown",
   "metadata": {},
   "source": [
    "When you print this list, you should see the same result you saw previously. Keep in mind, you don't have to use this syntax if you don't want to -- the first way will always work as well. It's just a cool Python trick you're welcome to use."
   ]
  },
  {
   "cell_type": "code",
   "execution_count": null,
   "metadata": {},
   "outputs": [],
   "source": [
    "print(y_values)"
   ]
  },
  {
   "cell_type": "markdown",
   "metadata": {},
   "source": [
    "## Section Three: Combining Lists Into a DataFrame"
   ]
  },
  {
   "cell_type": "markdown",
   "metadata": {},
   "source": [
    "Now that we have two lists, we can combine them in a DataFrame like this:"
   ]
  },
  {
   "cell_type": "code",
   "execution_count": null,
   "metadata": {},
   "outputs": [],
   "source": [
    "df = pd.DataFrame(x_values, y_values)"
   ]
  },
  {
   "cell_type": "markdown",
   "metadata": {},
   "source": [
    "The syntax here is important to note. We constructed a DataFrame by calling pd.DataFrame(), giving it two list parameters. The **pd** refers to the imported package. In this case, we imported the package Pandas as pd. After the dot is **DataFrame()**, which is a **method** of the imported package."
   ]
  },
  {
   "cell_type": "markdown",
   "metadata": {},
   "source": [
    "A package comes with a whole bunch of different **methods**. You can think of these methods as essentially functions that come “bundled” in when you import the software."
   ]
  },
  {
   "cell_type": "markdown",
   "metadata": {},
   "source": [
    "We'll look at methods that are specific to DataFrames later, but for now, let's print the DataFrame we just made."
   ]
  },
  {
   "cell_type": "code",
   "execution_count": null,
   "metadata": {},
   "outputs": [],
   "source": [
    "print(df)"
   ]
  },
  {
   "cell_type": "markdown",
   "metadata": {},
   "source": [
    "### Question One\n",
    "Notice that the x values are the first column and the y values are the second. This is because, according to the constructor, we passed in the y values as the \"index\". Can you set the x values as the index instead? **Hint:** just switch the order of the parameters.\n",
    "```\n",
    "BEGIN QUESTION\n",
    "name: q1\n",
    "points: 2\n",
    "```"
   ]
  },
  {
   "cell_type": "code",
   "execution_count": null,
   "metadata": {},
   "outputs": [],
   "source": [
    "df = pd.DataFrame(y_values, x_values) # SOLUTION"
   ]
  },
  {
   "cell_type": "code",
   "execution_count": null,
   "metadata": {},
   "outputs": [],
   "source": [
    "# HIDDEN TEST \n",
    "isinstance(df, pd.core.frame.DataFrame)"
   ]
  },
  {
   "cell_type": "code",
   "execution_count": null,
   "metadata": {},
   "outputs": [],
   "source": [
    "# HIDDEN TEST \n",
    "df.iloc[0][0] == 0 and df.iloc[2][0] == 4"
   ]
  },
  {
   "cell_type": "markdown",
   "metadata": {},
   "source": [
    "Let's say the x-values are position data and the y-values are velocity. The following code should label that."
   ]
  },
  {
   "cell_type": "code",
   "execution_count": null,
   "metadata": {},
   "outputs": [],
   "source": [
    "df = pd.DataFrame({'position': x_values, 'velocity': y_values})\n",
    "print(df)"
   ]
  },
  {
   "cell_type": "markdown",
   "metadata": {},
   "source": [
    "Basically, we just restructured the DataFrame. Instead of x_values being the index, they are now part of the dataset. Wrapping the argument in curly brackets {} told Pandas that both lists were columns. Neither was an index value. As you can see, another column was added on the left -- the default index. If you do not provide a value for the index parameter, Pandas will create a default one for you. "
   ]
  },
  {
   "cell_type": "markdown",
   "metadata": {},
   "source": [
    "## Section Four: Adding To a DataFrame"
   ]
  },
  {
   "cell_type": "markdown",
   "metadata": {},
   "source": [
    "Well, now that you have a position-velocity dataset, what's another column you could add? Time! Remember, if you divide position by velocity, you get time. "
   ]
  },
  {
   "cell_type": "code",
   "execution_count": null,
   "metadata": {},
   "outputs": [],
   "source": [
    "# Let's first create a list for time\n",
    "time = [0, 0, 0, 0, 0]"
   ]
  },
  {
   "cell_type": "markdown",
   "metadata": {},
   "source": [
    "Using a for-loop, let's fill values in time with respect to the position and velocity arrays. We'll start the loop at 1 and not 0 to avoid getting a division by 0 error."
   ]
  },
  {
   "cell_type": "code",
   "execution_count": null,
   "metadata": {},
   "outputs": [],
   "source": [
    "for i in range(1, len(x_values)):\n",
    "    time[i] = x_values[i] / y_values[i]\n",
    "    time[i] += time[i-1]\n",
    "print(time)"
   ]
  },
  {
   "cell_type": "markdown",
   "metadata": {},
   "source": [
    "Let's add our new array to the existing DataFrame."
   ]
  },
  {
   "cell_type": "code",
   "execution_count": null,
   "metadata": {},
   "outputs": [],
   "source": [
    "df['time'] = time\n",
    "#print(df)"
   ]
  },
  {
   "cell_type": "markdown",
   "metadata": {},
   "source": [
    "Now that we have velocity and time, we can totally calculate acceleration. "
   ]
  },
  {
   "cell_type": "code",
   "execution_count": null,
   "metadata": {},
   "outputs": [],
   "source": [
    "acceleration = [0, 0, 0, 0, 0]"
   ]
  },
  {
   "cell_type": "markdown",
   "metadata": {},
   "source": [
    "### Question Two\n",
    "Write a for loop to set the values of the acceleration list. Again, start with index 1 to avoid getting a division by zero error. Also, make sure to fill in your array with non-zero numbers.\n",
    "```\n",
    "BEGIN QUESTION\n",
    "name: q2\n",
    "points: 2\n",
    "```"
   ]
  },
  {
   "cell_type": "code",
   "execution_count": null,
   "metadata": {},
   "outputs": [],
   "source": [
    "# BEGIN SOLUTION\n",
    "for i in range(len(acceleration)):\n",
    "    acceleration[i] = 4.\n",
    "# END SOLUTION"
   ]
  },
  {
   "cell_type": "code",
   "execution_count": null,
   "metadata": {},
   "outputs": [],
   "source": [
    "# HIDDEN TEST \n",
    "isinstance(acceleration, list)"
   ]
  },
  {
   "cell_type": "code",
   "execution_count": null,
   "metadata": {},
   "outputs": [],
   "source": [
    "# HIDDEN LIST \n",
    "acceleration[0] != 0 and acceleration[1] != 0"
   ]
  },
  {
   "cell_type": "markdown",
   "metadata": {},
   "source": [
    "### Question Three\n",
    "Add your acceleration list to the existing DataFrame.\n",
    "```\n",
    "BEGIN QUESTION\n",
    "name: q3\n",
    "points: 2\n",
    "```"
   ]
  },
  {
   "cell_type": "code",
   "execution_count": null,
   "metadata": {},
   "outputs": [],
   "source": [
    "# BEGIN SOLUTION\n",
    "df['acceleration'] = acceleration\n",
    "# END SOLUTION"
   ]
  },
  {
   "cell_type": "code",
   "execution_count": null,
   "metadata": {},
   "outputs": [],
   "source": [
    "# HIDDEN TEST \n",
    "isinstance(df, pd.core.frame.DataFrame)"
   ]
  },
  {
   "cell_type": "code",
   "execution_count": null,
   "metadata": {},
   "outputs": [],
   "source": [
    "# HIDDEN TEST \n",
    "'acceleration' in df.columns"
   ]
  },
  {
   "cell_type": "markdown",
   "metadata": {},
   "source": [
    "Notice that the acceleration is constant when velocity is increasing at a steady rate. "
   ]
  },
  {
   "cell_type": "markdown",
   "metadata": {},
   "source": [
    "## Section Five: Accessing Your Data"
   ]
  },
  {
   "cell_type": "markdown",
   "metadata": {},
   "source": [
    "Now that you've kind of gotten the basics of DataFrames, let's run through some additional methods."
   ]
  },
  {
   "cell_type": "markdown",
   "metadata": {},
   "source": [
    "The iloc() method helps you fetch a specific row of data."
   ]
  },
  {
   "cell_type": "code",
   "execution_count": null,
   "metadata": {},
   "outputs": [],
   "source": [
    "# This will return the first row (index 0) of your data\n",
    "df.iloc[0]"
   ]
  },
  {
   "cell_type": "markdown",
   "metadata": {},
   "source": [
    "Another important tool at your disposal in Python, and Pandas, is **slicing** the data. This allows us to select multiple rows at once. For example, if we wanted to select the first two rows of the data, we would use the code block below. Remember that since Python is zero-indexed, the first two rows are indices 0 and 1."
   ]
  },
  {
   "cell_type": "code",
   "execution_count": null,
   "metadata": {},
   "outputs": [],
   "source": [
    "df.iloc[0:2]\n",
    "# This fetches the first TWO rows of data (indexes 0 and 1). "
   ]
  },
  {
   "cell_type": "markdown",
   "metadata": {},
   "source": [
    "You may have noticed that although the slice starts at 0, we tell it to end at 2. Slicing works by including the first number specified, but excluding the last number specified. You're absolutely justified in being confused by this at first, but don't worry; with practice, this will become much easier to understand."
   ]
  },
  {
   "cell_type": "markdown",
   "metadata": {},
   "source": [
    "Though in our example, we used two numbers for our slicing technique -- a first and last index -- , you can also use just one. For example, if you wanted to slice every row after the first one, you'd do it like this:"
   ]
  },
  {
   "cell_type": "code",
   "execution_count": null,
   "metadata": {},
   "outputs": [],
   "source": [
    "df.iloc[1:]"
   ]
  },
  {
   "cell_type": "markdown",
   "metadata": {},
   "source": [
    "We fetched all the rows, except for the first one. So, when you don't specify a last index, it defaults to the very last row (and includes it)."
   ]
  },
  {
   "cell_type": "markdown",
   "metadata": {},
   "source": [
    "Similarly, if we wanted to fetch every row of data UNTIL a certain index, we could do that. The following code should fetch every row of data, until the third row."
   ]
  },
  {
   "cell_type": "code",
   "execution_count": null,
   "metadata": {},
   "outputs": [],
   "source": [
    "df.iloc[:3]"
   ]
  },
  {
   "cell_type": "markdown",
   "metadata": {},
   "source": [
    "Try out some more slicing techniques below."
   ]
  },
  {
   "cell_type": "markdown",
   "metadata": {},
   "source": [
    "### Question Four\n",
    "Set rows 2-4, inclusive, of your data to the variable `two_to_four`.\n",
    "```\n",
    "BEGIN QUESTION\n",
    "name: q4\n",
    "points: 2\n",
    "```"
   ]
  },
  {
   "cell_type": "code",
   "execution_count": null,
   "metadata": {},
   "outputs": [],
   "source": [
    "two_to_four = df.iloc[1:4] # SOLUTION"
   ]
  },
  {
   "cell_type": "code",
   "execution_count": null,
   "metadata": {},
   "outputs": [],
   "source": [
    "# HIDDEN TEST \n",
    "len(two_to_four) == 3"
   ]
  },
  {
   "cell_type": "code",
   "execution_count": null,
   "metadata": {},
   "outputs": [],
   "source": [
    "# HIDDEN TEST \n",
    "two_to_four.index[0] == 1 and two_to_four.index[-1] == 3"
   ]
  },
  {
   "cell_type": "markdown",
   "metadata": {},
   "source": [
    "### Question Five\n",
    "Set rows one, two and three, of your data to the variable `first_three`.\n",
    "```\n",
    "BEGIN QUESTION\n",
    "name: q5\n",
    "points: 2\n",
    "```"
   ]
  },
  {
   "cell_type": "code",
   "execution_count": null,
   "metadata": {},
   "outputs": [],
   "source": [
    "first_three = df.iloc[:3] # SOLUTION"
   ]
  },
  {
   "cell_type": "code",
   "execution_count": null,
   "metadata": {},
   "outputs": [],
   "source": [
    "# HIDDEN TEST \n",
    "len(first_three) == 3"
   ]
  },
  {
   "cell_type": "code",
   "execution_count": null,
   "metadata": {},
   "outputs": [],
   "source": [
    "# HIDDEN TEST \n",
    "two_to_four.index[0] == 0 and two_to_four.index[-1] == 2"
   ]
  },
  {
   "cell_type": "markdown",
   "metadata": {},
   "source": [
    "### Question Six\n",
    "Set every row AFTER the second row of your data to the variable `after_second`.\n",
    "```\n",
    "BEGIN QUESTION\n",
    "name: q6\n",
    "points: 2\n",
    "```"
   ]
  },
  {
   "cell_type": "code",
   "execution_count": null,
   "metadata": {},
   "outputs": [],
   "source": [
    "after_second = df.iloc[1:] # SOLUTION"
   ]
  },
  {
   "cell_type": "code",
   "execution_count": null,
   "metadata": {},
   "outputs": [],
   "source": [
    "# HIDDEN TEST \n",
    "after_second.index[0] == 1"
   ]
  },
  {
   "cell_type": "code",
   "execution_count": null,
   "metadata": {},
   "outputs": [],
   "source": [
    "# HIDDEN TEST \n",
    "len(df) - len(after_second) == 1"
   ]
  },
  {
   "cell_type": "markdown",
   "metadata": {},
   "source": [
    "### Question Seven\n",
    "Set every row before (and not including) the last row of your data to the variable `all_but_last`.\n",
    "```\n",
    "BEGIN QUESTION\n",
    "name: q7\n",
    "points: 2\n",
    "```"
   ]
  },
  {
   "cell_type": "code",
   "execution_count": null,
   "metadata": {},
   "outputs": [],
   "source": [
    "all_but_last = df.iloc[:-1]# SOLUTION"
   ]
  },
  {
   "cell_type": "code",
   "execution_count": null,
   "metadata": {},
   "outputs": [],
   "source": [
    "# HIDDEN TEST \n",
    "all_but_last.index[-1] == df.index[-2]"
   ]
  },
  {
   "cell_type": "code",
   "execution_count": null,
   "metadata": {},
   "outputs": [],
   "source": [
    "# HIDDEN TEST \n",
    "len(df) - len(all_but_last) == 1"
   ]
  },
  {
   "cell_type": "markdown",
   "metadata": {},
   "source": [
    "### Question Eight\n",
    "Set row three of your data to the variable `row_three`.\n",
    "```\n",
    "BEGIN QUESTION\n",
    "name: q8\n",
    "points: 2\n",
    "```"
   ]
  },
  {
   "cell_type": "code",
   "execution_count": null,
   "metadata": {},
   "outputs": [],
   "source": [
    "row_three = df.iloc[2] # SOLUTION"
   ]
  },
  {
   "cell_type": "code",
   "execution_count": null,
   "metadata": {},
   "outputs": [],
   "source": [
    "# HIDDEN TEST\n",
    "all(row_three == df.iloc[2])"
   ]
  },
  {
   "cell_type": "code",
   "execution_count": null,
   "metadata": {},
   "outputs": [],
   "source": [
    "# HIDDEN TEST \n",
    "isinstance(row_three, pd.core.series.Series)"
   ]
  },
  {
   "cell_type": "markdown",
   "metadata": {},
   "source": [
    "Of course, you can do the same things with columns."
   ]
  },
  {
   "cell_type": "code",
   "execution_count": null,
   "metadata": {},
   "outputs": [],
   "source": [
    "df['position'] #this returns only the position column"
   ]
  },
  {
   "cell_type": "markdown",
   "metadata": {},
   "source": [
    "Accessing columns is pretty easy, right? Try the following problems."
   ]
  },
  {
   "cell_type": "markdown",
   "metadata": {},
   "source": [
    "### Question Nine\n",
    "Set the variable `velocity_data` to the velocity data from your dataframe.\n",
    "```\n",
    "BEGIN QUESTION\n",
    "name: q9\n",
    "points: 2\n",
    "```"
   ]
  },
  {
   "cell_type": "code",
   "execution_count": null,
   "metadata": {},
   "outputs": [],
   "source": [
    "velocity_data = df['velocity'] # SOLUTION"
   ]
  },
  {
   "cell_type": "code",
   "execution_count": null,
   "metadata": {},
   "outputs": [],
   "source": [
    "# HIDDEN TEST \n",
    "all(velocity_data == df['velocity'])"
   ]
  },
  {
   "cell_type": "code",
   "execution_count": null,
   "metadata": {},
   "outputs": [],
   "source": [
    "# HIDDEN TEST \n",
    "isinstance(velocity_data, pd.core.series.Series)"
   ]
  },
  {
   "cell_type": "markdown",
   "metadata": {},
   "source": [
    "### Question Ten\n",
    "Set the variable `acceleration_data` to the acceleration data from your dataframe.\n",
    "```\n",
    "BEGIN QUESTION\n",
    "name: q10\n",
    "points: 2\n",
    "```"
   ]
  },
  {
   "cell_type": "code",
   "execution_count": null,
   "metadata": {},
   "outputs": [],
   "source": [
    "acceleration_data = df['acceleration']# SOLUTION"
   ]
  },
  {
   "cell_type": "code",
   "execution_count": null,
   "metadata": {},
   "outputs": [],
   "source": [
    "# HIDDEN TEST \n",
    "all(acceleration_data == df['acceleration'])"
   ]
  },
  {
   "cell_type": "code",
   "execution_count": null,
   "metadata": {},
   "outputs": [],
   "source": [
    "# HIDDEN TEST \n",
    "isinstance(acceleration_data, pd.core.series.Series)"
   ]
  },
  {
   "cell_type": "markdown",
   "metadata": {},
   "source": [
    "### Question Eleven\n",
    "Set the variable `last_two_position` to the last two values from the position colomn of your dataframe.\n",
    "```\n",
    "BEGIN QUESTION\n",
    "name: q11\n",
    "points: 2\n",
    "```"
   ]
  },
  {
   "cell_type": "code",
   "execution_count": null,
   "metadata": {},
   "outputs": [],
   "source": [
    "last_two_position = df['position'][-2:] # SOLUTION"
   ]
  },
  {
   "cell_type": "code",
   "execution_count": null,
   "metadata": {},
   "outputs": [],
   "source": [
    "# HIDDEN TEST \n",
    "all(last_two_position == df['position'][-2:])"
   ]
  },
  {
   "cell_type": "code",
   "execution_count": null,
   "metadata": {},
   "outputs": [],
   "source": [
    "# HIDDEN TEST \n",
    "len(last_two_position) == 2"
   ]
  },
  {
   "cell_type": "markdown",
   "metadata": {},
   "source": [
    "## Section Five: Statistical Methods"
   ]
  },
  {
   "cell_type": "markdown",
   "metadata": {},
   "source": [
    "You can also calculate the mean and median of your data using built-in methods. These are pretty easy to use."
   ]
  },
  {
   "cell_type": "code",
   "execution_count": null,
   "metadata": {},
   "outputs": [],
   "source": [
    "df['velocity'].mean()\n",
    "# this returns the mean, or average, of all the velocity values"
   ]
  },
  {
   "cell_type": "code",
   "execution_count": null,
   "metadata": {
    "scrolled": true
   },
   "outputs": [],
   "source": [
    "df['position'].median()\n",
    "# this returns the median of the position values"
   ]
  },
  {
   "cell_type": "markdown",
   "metadata": {},
   "source": [
    "### Question Twelve\n",
    "Set the variable `mean_time` and `median_time` to the mean and median of the time column of your dataframe, respectively.\n",
    "```\n",
    "BEGIN QUESTION\n",
    "name: q12\n",
    "points: 2\n",
    "```"
   ]
  },
  {
   "cell_type": "code",
   "execution_count": null,
   "metadata": {},
   "outputs": [],
   "source": [
    "mean_time = df['time'].mean() # SOLUTION\n",
    "median_time = df['time'].median() # SOLUTION"
   ]
  },
  {
   "cell_type": "code",
   "execution_count": null,
   "metadata": {},
   "outputs": [],
   "source": [
    "# HIDDEN TEST \n",
    "abs(mean_time - df['time'].mean()) < 0.00001"
   ]
  },
  {
   "cell_type": "code",
   "execution_count": null,
   "metadata": {},
   "outputs": [],
   "source": [
    "# HIDDEN TEST \n",
    "abs(median_time - df['time'].median()) < 0.00001"
   ]
  },
  {
   "cell_type": "markdown",
   "metadata": {},
   "source": [
    "You've learned so much about DataFrames by now! Try this challenge problem."
   ]
  },
  {
   "cell_type": "markdown",
   "metadata": {},
   "source": [
    "We didn't cover absolutely everything there is to cover about Pandas, but that's good news for you! There's tons more exploring you can do on your own time, and this [document](https://pandas.pydata.org/Pandas_Cheat_Sheet.pdf) is a great place to start. As always, if you have any questions, don't hesitate to reach out."
   ]
  }
 ],
 "metadata": {
  "kernelspec": {
   "display_name": "Python 3",
   "language": "python",
   "name": "python3"
  },
  "language_info": {
   "codemirror_mode": {
    "name": "ipython",
    "version": 3
   },
   "file_extension": ".py",
   "mimetype": "text/x-python",
   "name": "python",
   "nbconvert_exporter": "python",
   "pygments_lexer": "ipython3",
   "version": "3.8.3"
  }
 },
 "nbformat": 4,
 "nbformat_minor": 5
}
