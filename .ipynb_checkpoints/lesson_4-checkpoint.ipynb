{
 "cells": [
  {
   "cell_type": "markdown",
   "metadata": {},
   "source": [
    "# Lesson Four: Plotting Data"
   ]
  },
  {
   "cell_type": "markdown",
   "metadata": {},
   "source": [
    "Hey there! Today you'll work on visualizing data."
   ]
  },
  {
   "cell_type": "markdown",
   "metadata": {},
   "source": [
    "<div class=\"alert alert-block alert-info\">\n",
    "<b>What you should learn today: </b> How to use MatPlotLib to plot data.  \n",
    "</div>"
   ]
  },
  {
   "cell_type": "markdown",
   "metadata": {},
   "source": [
    "## Section One: Importing Packages"
   ]
  },
  {
   "cell_type": "markdown",
   "metadata": {},
   "source": [
    "Once again, we'll be importing pandas. This time around, we'll also import matplotlib and its pyplot submodule so that we can create some stunning plots today."
   ]
  },
  {
   "cell_type": "code",
   "execution_count": null,
   "metadata": {},
   "outputs": [],
   "source": [
    "import matplotlib.pyplot as plt\n",
    "import pandas as pd"
   ]
  },
  {
   "cell_type": "markdown",
   "metadata": {},
   "source": [
    "## Section Two: Velocity vs. Time"
   ]
  },
  {
   "cell_type": "markdown",
   "metadata": {},
   "source": [
    "Using plotting, we can visualize many things and create many types of graphs. We encourage you to explore everything you can do with matplotlib (you can create some really pretty graphs!). With respect to physics, though, we're mostly interested in plotting data to visualize the motion of an object. "
   ]
  },
  {
   "cell_type": "markdown",
   "metadata": {},
   "source": [
    "Let's say we have an object in freefall. That means it's accelerating at -9.8 m/s/s. Can you initialize arrays for time and velocity in an pandas DataFrame? We'll start you off."
   ]
  },
  {
   "cell_type": "code",
   "execution_count": null,
   "metadata": {},
   "outputs": [],
   "source": [
    "time = [10, 9, 8, 6, 5, 4, 3, 2, 1, 0]\n",
    "# this represents how far the object is from the Earth"
   ]
  },
  {
   "cell_type": "markdown",
   "metadata": {},
   "source": [
    "### Question One\n",
    "In the next cell, initialize values for the velocity array by filling in the partially-written for-loop. Make sure to print your values so you can see the array."
   ]
  },
  {
   "cell_type": "code",
   "execution_count": null,
   "metadata": {},
   "outputs": [],
   "source": [
    "velocity = ..."
   ]
  },
  {
   "cell_type": "markdown",
   "metadata": {},
   "source": [
    "### Question Two"
   ]
  },
  {
   "cell_type": "markdown",
   "metadata": {},
   "source": [
    "Now that you have both time and velocity, try putting them both in a data frame, labeling both sets of data. Put the time values in the column `time`, and the velocity values in the column `velocity`. Assign your new dataframe to the variable `df`. "
   ]
  },
  {
   "cell_type": "code",
   "execution_count": null,
   "metadata": {},
   "outputs": [],
   "source": [
    "df = ..."
   ]
  },
  {
   "cell_type": "markdown",
   "metadata": {},
   "source": [
    "Now let's plot the data. The output will be a velocity-time graph."
   ]
  },
  {
   "cell_type": "markdown",
   "metadata": {},
   "source": [
    "Notice that the plt.plot() method will take an x and y parameter. First, we feed it the time values (as the x-axis), and then we give it the velocity values (as the y-axis). The resultant plot will be a **Velocity-Time** graph. Before running the cell, think about what the plot should look like. If we have constant downward acceleration, what should the slope of the plot be? What should it look like?"
   ]
  },
  {
   "cell_type": "code",
   "execution_count": null,
   "metadata": {},
   "outputs": [],
   "source": [
    "plt.plot(df['time'], df['velocity'])\n",
    "plt.show()"
   ]
  },
  {
   "cell_type": "markdown",
   "metadata": {},
   "source": [
    "Was the plot what you expected? If not, think about it again. Constant acceleration means that the velocity-time graph will be a straight line. It is changing by a steady rate. The downward acceleration will be a negative value, which will mean a negative slope."
   ]
  },
  {
   "cell_type": "markdown",
   "metadata": {},
   "source": [
    "To make the graph easier to read, we can add labels and a title. "
   ]
  },
  {
   "cell_type": "code",
   "execution_count": null,
   "metadata": {},
   "outputs": [],
   "source": [
    "plt.plot(df['time'], df['velocity'])\n",
    "plt.xlabel('Time, in seconds')\n",
    "plt.ylabel('Velocity, in m/s')\n",
    "plt.title('Velocity vs. Time for an Object in Free Fall')\n",
    "plt.show()"
   ]
  },
  {
   "cell_type": "markdown",
   "metadata": {},
   "source": [
    "## Section Three: Acceleration vs. Time"
   ]
  },
  {
   "cell_type": "markdown",
   "metadata": {},
   "source": [
    "Now that you have a velocity-time graph, let's graph acceleration vs. time. Before you plot, think to yourself about what an acceleration vs. time graph of an object in free fall would look like. "
   ]
  },
  {
   "cell_type": "markdown",
   "metadata": {},
   "source": [
    "Let's add another column of data -- this time, acceleration values."
   ]
  },
  {
   "cell_type": "code",
   "execution_count": null,
   "metadata": {},
   "outputs": [],
   "source": [
    "acceleration = [-9.8, -9.8, -9.8, -9.8, -9.8, -9.8, -9.8, -9.8, -9.8, -9.8 ]\n",
    "df['acceleration'] = acceleration"
   ]
  },
  {
   "cell_type": "markdown",
   "metadata": {},
   "source": [
    "### Question Three"
   ]
  },
  {
   "cell_type": "markdown",
   "metadata": {},
   "source": [
    "Using our previous graph as an example, call the plt.plot(), x and ylabel(), title(), and show() methods to print the acceleration-time graph. Set the title to be \"Acceleration vs Time for an object in Free Fall\", the x-axis label to be \"Time in seconds\", the y-axis label to be \"Acceleration in m/s^2\"."
   ]
  },
  {
   "cell_type": "code",
   "execution_count": null,
   "metadata": {},
   "outputs": [],
   "source": [
    "plt.plot(df['time'], df['acceleration'])\n",
    "plt.xlabel('Time, in seconds')\n",
    "plt.ylabel('Acceleration in m/s^2')\n",
    "plt.title('Acceleration vs Time for an object in Free Fall')\n",
    "plt.show()"
   ]
  },
  {
   "cell_type": "markdown",
   "metadata": {},
   "source": [
    "Hopefully, you guessed that the graph would just look like a horizontal line at y = -9.8. This is because the value for acceleration does not change. "
   ]
  },
  {
   "cell_type": "markdown",
   "metadata": {},
   "source": [
    "An important thing to note here is that we've chosen a **negative** value for acceleration due to gravity. Depending on the physics problem, this will not always be the case. You will definitely see both positive and negative 9.8 m/s/s used for acceleration due to gravity. "
   ]
  },
  {
   "cell_type": "markdown",
   "metadata": {},
   "source": [
    "However, it is important to understand the difference between a positive and negative value for acceleration and to be **consistent**. Here, we chose the direction down (as in, towards the Earth) to be negative. That's why our value for acceleration is negative. Since we're only considering one-dimensional motion here (the object only moves down in this example), it doesn't matter too much, but in other problems, it will."
   ]
  },
  {
   "cell_type": "markdown",
   "metadata": {},
   "source": [
    "## Section Four: Position vs. Time"
   ]
  },
  {
   "cell_type": "markdown",
   "metadata": {},
   "source": [
    "Now that we've covered velocity and acceleration vs. time graphs, let's move on to position-time. A good way to think about physics plots is that they decrease in complexity as you go from position to velocity to acceleration. Position plots are often the most complex-looking, but they can be extremely useful in visualizing motion. "
   ]
  },
  {
   "cell_type": "markdown",
   "metadata": {},
   "source": [
    "Just like before, let's start with making arrays and then plotting them. "
   ]
  },
  {
   "cell_type": "code",
   "execution_count": null,
   "metadata": {},
   "outputs": [],
   "source": [
    "position = [0, 0, 0, 0, 0, 0, 0, 0, 0, 0]\n",
    "# we're initializing an empty array first"
   ]
  },
  {
   "cell_type": "code",
   "execution_count": null,
   "metadata": {},
   "outputs": [],
   "source": [
    "# this for loop will help us fill it with values\n",
    "for j in range(len(time)):\n",
    "    position[j] = velocity[j] * time[j]\n",
    "print(position)"
   ]
  },
  {
   "cell_type": "markdown",
   "metadata": {},
   "source": [
    "### Question Four"
   ]
  },
  {
   "cell_type": "markdown",
   "metadata": {},
   "source": [
    "Add the position values to the existing DataFrame and print the resultant DataFrame."
   ]
  },
  {
   "cell_type": "code",
   "execution_count": null,
   "metadata": {},
   "outputs": [],
   "source": []
  },
  {
   "cell_type": "markdown",
   "metadata": {},
   "source": [
    "### Question Five"
   ]
  },
  {
   "cell_type": "markdown",
   "metadata": {},
   "source": [
    "Now, let's plot. Again, think about what the plot should look like. Should it be a straight line? Think about how the position values are changing as time goes on. Are they changing at a constant rate?"
   ]
  },
  {
   "cell_type": "markdown",
   "metadata": {},
   "source": [
    "Just like before, use plt methods to plot the Position vs. Time graph."
   ]
  },
  {
   "cell_type": "code",
   "execution_count": null,
   "metadata": {},
   "outputs": [],
   "source": []
  },
  {
   "cell_type": "markdown",
   "metadata": {},
   "source": [
    "Notice that the graph is a curve, not a straight line. This is because the position is NOT decreasing at a steady rate. If it decreased at a steady rate, it would not be accelerating. Instead, as time goes on, the particle is moving more and more rapidly. The closer it gets to Earth, the faster it moves. Therefore, with every second that passes, the particle has traveled further than it did the previous second."
   ]
  },
  {
   "cell_type": "markdown",
   "metadata": {},
   "source": [
    "## Section Five: Putting Them Together"
   ]
  },
  {
   "cell_type": "markdown",
   "metadata": {},
   "source": [
    "Now, let's try plotting all three functions on the same graph. This way, we can more easily see the relationship of position, velocity, and acceleration of an object in free fall. To do this, we'll create three different lines and use a legend to distinguish them."
   ]
  },
  {
   "cell_type": "markdown",
   "metadata": {},
   "source": [
    "### Question Six"
   ]
  },
  {
   "cell_type": "markdown",
   "metadata": {},
   "source": [
    "Most of the code has already been written for you, but see if you can fill in the blanks."
   ]
  },
  {
   "cell_type": "code",
   "execution_count": null,
   "metadata": {},
   "outputs": [],
   "source": [
    "plt.plot(df['___'], df['___'], label = \"____\")\n",
    "plt.plot(df['___'], df['___'], label = \"___\")\n",
    "plt.plot(df['___'], df['___'], label = \"___\")\n",
    "plt.xlabel('Time, in seconds')\n",
    "plt.title('Position, Velocity, and Acceleration vs. Time')\n",
    "plt.legend() # this invokes the legend\n",
    "plt.show()"
   ]
  },
  {
   "cell_type": "markdown",
   "metadata": {},
   "source": [
    "Notice the use of labels to distinguish each line. "
   ]
  },
  {
   "cell_type": "markdown",
   "metadata": {},
   "source": [
    "## Section Six: Built-in Pandas Methods"
   ]
  },
  {
   "cell_type": "markdown",
   "metadata": {},
   "source": [
    "We can also utilize built-in Pandas methods to analyze our graphs. For example, you've learned that \n",
    "\n",
    "$ acceleration_{average} = \\frac{{\\Delta} velocity}{{\\Delta} time} $"
   ]
  },
  {
   "cell_type": "markdown",
   "metadata": {},
   "source": [
    "And that, similarly, $ velocity_{average} = \\frac{{\\Delta} position}{{\\Delta} time} $"
   ]
  },
  {
   "cell_type": "markdown",
   "metadata": {},
   "source": [
    "But, as we learned in the previous lesson, Pandas has a built-in method called mean() which finds the average of a DataFrame column."
   ]
  },
  {
   "cell_type": "markdown",
   "metadata": {},
   "source": [
    "Let's find average acceleration together. You'll do velocity on your own. First, let's find it using the formula we learned in class. "
   ]
  },
  {
   "cell_type": "markdown",
   "metadata": {},
   "source": [
    "Recall that $ {\\Delta} v = v_{final} - v_{initial} $"
   ]
  },
  {
   "cell_type": "code",
   "execution_count": null,
   "metadata": {},
   "outputs": [],
   "source": [
    "deltaV = velocity[9] - velocity[0] # ASSIGNING DELTA V\n",
    "deltaT = time[9] - time[0] # ASSIGNING DELTA T\n",
    "avg_acceleration = deltaV / deltaT\n",
    "print(avg_acceleration)"
   ]
  },
  {
   "cell_type": "markdown",
   "metadata": {},
   "source": [
    "Are you surprised by the output of the cell? It should make sense, since acceleration in this problem is constant. The following cell uses the built-in method."
   ]
  },
  {
   "cell_type": "code",
   "execution_count": null,
   "metadata": {},
   "outputs": [],
   "source": [
    "avg_acceleration_2 = df['acceleration'].mean()\n",
    "print(avg_acceleration_2)"
   ]
  },
  {
   "cell_type": "markdown",
   "metadata": {},
   "source": [
    "Note that you cannot call acceleration.mean(), since the mean() method only applies to DataFrame objects."
   ]
  },
  {
   "cell_type": "markdown",
   "metadata": {},
   "source": [
    "### Question Seven"
   ]
  },
  {
   "cell_type": "markdown",
   "metadata": {},
   "source": [
    "Acceleration was pretty straightforward --- what about velocity? Find the average using the formula and the built-in method. "
   ]
  },
  {
   "cell_type": "code",
   "execution_count": null,
   "metadata": {},
   "outputs": [],
   "source": [
    "# avg_velocity ="
   ]
  },
  {
   "cell_type": "code",
   "execution_count": null,
   "metadata": {},
   "outputs": [],
   "source": [
    "# calculate using built-in method"
   ]
  },
  {
   "cell_type": "markdown",
   "metadata": {},
   "source": [
    "Are the two values the same? Why or why not?"
   ]
  },
  {
   "cell_type": "markdown",
   "metadata": {},
   "source": [
    "### Question Eight"
   ]
  },
  {
   "cell_type": "markdown",
   "metadata": {},
   "source": [
    "Using either value of average velocity, can you plot a graph with the velocity values and the average? Use the commented instructions below as a guide."
   ]
  },
  {
   "cell_type": "code",
   "execution_count": null,
   "metadata": {},
   "outputs": [],
   "source": [
    "# create a list of the average velocity value \n",
    "# add it to the DataFrame \n",
    "# plot the two lines \n",
    "# invoke a legend"
   ]
  },
  {
   "cell_type": "markdown",
   "metadata": {},
   "source": [
    "## Challenge Question"
   ]
  },
  {
   "cell_type": "markdown",
   "metadata": {},
   "source": [
    "Here's a challenge problem for you. Can you plot the upward motion of the same object?"
   ]
  },
  {
   "cell_type": "markdown",
   "metadata": {},
   "source": [
    "- The object was thrown up at an initial velocity of 2 m/s\n",
    "- Assume the all the previous data you've been given/calculated for the downward motion is correct \n",
    "- **Hint**: The acceleration (although the particle is changing direction) will still be a constant -9.8 m/s/s. You are welcome to use a positive value if you'd like, but remember that this will change values you've previously calculated."
   ]
  },
  {
   "cell_type": "markdown",
   "metadata": {},
   "source": [
    "Create bigger lists for position, velocity, time, and acceleration, and plot every style of graph covered today. "
   ]
  },
  {
   "cell_type": "code",
   "execution_count": null,
   "metadata": {},
   "outputs": [],
   "source": [
    "# create bigger lists"
   ]
  },
  {
   "cell_type": "code",
   "execution_count": null,
   "metadata": {},
   "outputs": [],
   "source": [
    "# plot graph 1"
   ]
  },
  {
   "cell_type": "code",
   "execution_count": null,
   "metadata": {},
   "outputs": [],
   "source": [
    "# plot graph 2 "
   ]
  },
  {
   "cell_type": "code",
   "execution_count": null,
   "metadata": {},
   "outputs": [],
   "source": [
    "# plot graph 3"
   ]
  },
  {
   "cell_type": "markdown",
   "metadata": {},
   "source": [
    "What are the average values for velocity, position, and acceleration?"
   ]
  },
  {
   "cell_type": "code",
   "execution_count": null,
   "metadata": {},
   "outputs": [],
   "source": [
    "# find and print average velocity"
   ]
  },
  {
   "cell_type": "code",
   "execution_count": null,
   "metadata": {},
   "outputs": [],
   "source": [
    "# find and print average position "
   ]
  },
  {
   "cell_type": "code",
   "execution_count": null,
   "metadata": {},
   "outputs": [],
   "source": [
    "# find and pring average acceleration"
   ]
  },
  {
   "cell_type": "markdown",
   "metadata": {},
   "source": [
    "<div class=\"alert alert-block alert-warning\">\n",
    "<b>EXTRA MATPLOTLIB HELP: </b> In case you're desperately craving more Matplotlib knowledge, here's a cheat sheet to check out.\n",
    "</div>"
   ]
  },
  {
   "cell_type": "markdown",
   "metadata": {},
   "source": [
    "Just like with our Pandas notebook, we didn't cover absolutely everything there is to cover about Matplotlib. There's tons more exploring you can do on your own time, and this document is a great place to start. As always, if you have any questions, don't hesitate to reach out."
   ]
  },
  {
   "cell_type": "code",
   "execution_count": null,
   "metadata": {},
   "outputs": [],
   "source": [
    "%%html\n",
    "<iframe id=\"fred\" style=\"border:1px solid #666CCC\" title=\"PDF in an i-Frame\" src=\"https://s3.amazonaws.com/assets.datacamp.com/blog_assets/Python_Matplotlib_Cheat_Sheet.pdf\" frameborder=\"1\" scrolling=\"auto\" height=\"1100\" width=\"850\" ></iframe>"
   ]
  },
  {
   "cell_type": "markdown",
   "metadata": {},
   "source": [
    "Also, here's a nice summary of different kinds of plots you can make and how you can make them. Feel free to explore!"
   ]
  },
  {
   "cell_type": "code",
   "execution_count": null,
   "metadata": {},
   "outputs": [],
   "source": [
    "%%html\n",
    "<iframe id=\"fred\" style=\"border:1px solid #666CCC\" title=\"PDF in an i-Frame\" src=\"hhttps://matplotlib.org/stable/tutorials/introductory/sample_plots.html\" frameborder=\"1\" scrolling=\"auto\" height=\"1100\" width=\"850\" ></iframe>"
   ]
  },
  {
   "cell_type": "code",
   "execution_count": null,
   "metadata": {},
   "outputs": [],
   "source": []
  }
 ],
 "metadata": {
  "kernelspec": {
   "display_name": "Python 3",
   "language": "python",
   "name": "python3"
  },
  "language_info": {
   "codemirror_mode": {
    "name": "ipython",
    "version": 3
   },
   "file_extension": ".py",
   "mimetype": "text/x-python",
   "name": "python",
   "nbconvert_exporter": "python",
   "pygments_lexer": "ipython3",
   "version": "3.8.3"
  }
 },
 "nbformat": 4,
 "nbformat_minor": 5
}
