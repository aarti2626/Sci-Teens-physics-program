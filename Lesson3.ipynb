{
 "cells": [
  {
   "cell_type": "markdown",
   "id": "df2baf4c-a8a5-4fe0-9ab9-bbcd1d345e66",
   "metadata": {},
   "source": [
    "Hi everyone! Hope you had a good first assignment.\n",
    "Today we'll start working with data tables using Python's pandas library.\n",
    "As per usual, let us know if you have any questions."
   ]
  },
  {
   "cell_type": "markdown",
   "id": "95534e9a-c30e-489b-b9bc-177ffd97fa5b",
   "metadata": {},
   "source": [
    "Pandas is a package that comes with many built in tools for examining and manipulating data. We'll use this package a lot throughout this course to help us read in and access our data."
   ]
  },
  {
   "cell_type": "code",
   "execution_count": 5,
   "id": "461c098e-7976-40b4-b0e5-0ae6a3a2c4e8",
   "metadata": {},
   "outputs": [],
   "source": [
    "import pandas as pd"
   ]
  },
  {
   "cell_type": "markdown",
   "id": "d3394b5f-45f3-49c9-b351-4279a4cbd73d",
   "metadata": {},
   "source": [
    "Today we'll be learning about a data structure called a DataFrame. A DataFrame is a two-dimensional data structure, meaning that it has tables and columns. "
   ]
  },
  {
   "cell_type": "markdown",
   "id": "1830c420-9a71-4b5c-8498-54b47d8b4fe7",
   "metadata": {},
   "source": [
    "Written generally, a pandas DataFrame constructor looks like this:"
   ]
  },
  {
   "cell_type": "code",
   "execution_count": 2,
   "id": "1fcae881-d194-4f3a-9ff7-f99772f61726",
   "metadata": {},
   "outputs": [],
   "source": [
    "#pandas.DataFrame( data, index, columns, dtype, copy)"
   ]
  },
  {
   "cell_type": "markdown",
   "id": "8170829a-b6c9-492e-a1aa-9ae3b2faec00",
   "metadata": {},
   "source": [
    "Though you can initialize a DataFrame with many different types of data, we will be looking specifically at lists. How can we pass in lists to a DataFrame?"
   ]
  },
  {
   "cell_type": "code",
   "execution_count": 3,
   "id": "26cf613d-42ee-498b-b409-ee23adf864e3",
   "metadata": {},
   "outputs": [],
   "source": [
    "# Here are two arrays of data to work with\n",
    "x_values = [0, 1, 2, 3, 4]\n",
    "y_values = [i*2 for i in x_values] # results in [0, 2, 4, 6, 8]"
   ]
  },
  {
   "cell_type": "markdown",
   "id": "d59fdb2d-0612-4cb6-a0c2-442b0dc18687",
   "metadata": {},
   "source": [
    "Now that we have two lists, we can combine them in a DataFrame like this:"
   ]
  },
  {
   "cell_type": "code",
   "execution_count": 6,
   "id": "35becdc2-3ca0-409b-945c-0004c5cd3493",
   "metadata": {},
   "outputs": [],
   "source": [
    "df = pd.DataFrame(x_values, y_values)"
   ]
  },
  {
   "cell_type": "code",
   "execution_count": 7,
   "id": "ca60895e-42ae-43d5-94a0-379ef1ab6fba",
   "metadata": {},
   "outputs": [
    {
     "name": "stdout",
     "output_type": "stream",
     "text": [
      "   0\n",
      "0  0\n",
      "2  1\n",
      "4  2\n",
      "6  3\n",
      "8  4\n"
     ]
    }
   ],
   "source": [
    "# Let's print it!\n",
    "print(df)"
   ]
  },
  {
   "cell_type": "markdown",
   "id": "5c9714f4-7cdf-452d-8d41-4b6e5e2164c3",
   "metadata": {},
   "source": [
    "Notice that the x-values are the first column and the y-values are the second. This is because, according to the constructor, we passed in the y-values as the \"index\". Can you set the x-values as the index instead?"
   ]
  },
  {
   "cell_type": "code",
   "execution_count": 19,
   "id": "7bb69adf-c465-4124-ba6f-835840f8c27f",
   "metadata": {},
   "outputs": [
    {
     "name": "stdout",
     "output_type": "stream",
     "text": [
      "   0\n",
      "0  0\n",
      "1  2\n",
      "2  4\n",
      "3  6\n",
      "4  8\n"
     ]
    }
   ],
   "source": [
    "# set x-values as index\n",
    "#df = pd.DataFrame()\n",
    "#print(df)"
   ]
  },
  {
   "cell_type": "markdown",
   "id": "ce675956-0123-4a59-8f4a-dfd6bbbe373f",
   "metadata": {},
   "source": [
    "Let's say the x-values are position data and the y-values are velocity. The following code should label that."
   ]
  },
  {
   "cell_type": "code",
   "execution_count": 20,
   "id": "ec85eb8a-14bb-4b84-88fb-d13bf7e6bdae",
   "metadata": {},
   "outputs": [
    {
     "name": "stdout",
     "output_type": "stream",
     "text": [
      "   velocity\n",
      "0         0\n",
      "1         2\n",
      "2         4\n",
      "3         6\n",
      "4         8\n"
     ]
    }
   ],
   "source": [
    "df.columns = ['velocity']\n",
    "print(df)"
   ]
  },
  {
   "cell_type": "markdown",
   "id": "f80fd350-8eeb-4d31-92ab-fa91956d6853",
   "metadata": {},
   "source": [
    "We can also label the index (position values) similarly. Since the x_values are an index and not another data set, we'll have to use slightly different syntax."
   ]
  },
  {
   "cell_type": "code",
   "execution_count": 30,
   "id": "4e0193fa-fad9-4f5a-ab16-51a210cdfa36",
   "metadata": {},
   "outputs": [
    {
     "name": "stdout",
     "output_type": "stream",
     "text": [
      "   position  velocity\n",
      "0         0         0\n",
      "1         1         2\n",
      "2         2         4\n",
      "3         3         6\n",
      "4         4         8\n"
     ]
    }
   ],
   "source": [
    "df = pd.DataFrame({'position': x_values, 'velocity': y_values})\n",
    "#print(df)"
   ]
  },
  {
   "cell_type": "markdown",
   "id": "d39b1266-4d3a-4710-aa59-f7d8b4583635",
   "metadata": {},
   "source": [
    "Basically, we just restructured the DataFrame. Instead of x_values being the index, they are now part of the dataset. Wrapping the argument in curly brackets {} told pandas that both lists were columns. Neither was an index value. As you can see, another column was added on the left -- the default index. If you do not provide a value for the index parameter, pandas will create a default one for you. "
   ]
  },
  {
   "cell_type": "markdown",
   "id": "9e113479-0cda-492b-a317-f94d1166529e",
   "metadata": {},
   "source": [
    "Well, now that you have a position-velocity dataset, what's another column you could add? Time! Remember, if you divide position by velocity, you get time. "
   ]
  },
  {
   "cell_type": "code",
   "execution_count": 38,
   "id": "757b3126-470e-4628-884d-f83fc45b062f",
   "metadata": {},
   "outputs": [],
   "source": [
    "# Let's first create a list for time\n",
    "time = [0, 0, 0, 0, 0]"
   ]
  },
  {
   "cell_type": "markdown",
   "id": "e17d3461-0e32-4504-80e7-80302a7110a1",
   "metadata": {},
   "source": [
    "Using a for-loop, let's fill values in time with respect to the position and velocity arrays. We'll start the loop at 1 and not 0 to avoid getting a division by 0 error."
   ]
  },
  {
   "cell_type": "code",
   "execution_count": 52,
   "id": "9147fabe-25aa-46a5-916e-9e60d28bcfb8",
   "metadata": {},
   "outputs": [
    {
     "name": "stdout",
     "output_type": "stream",
     "text": [
      "[0, 0.5, 1.0, 1.5, 2.0]\n"
     ]
    }
   ],
   "source": [
    "for i in range(1, len(x_values)):\n",
    "    time[i] = x_values[i] / y_values[i]\n",
    "    time[i] += time[i-1]\n",
    "print(time)"
   ]
  },
  {
   "cell_type": "markdown",
   "id": "53645070-db04-4c6a-aa11-5ed1b1c4ca91",
   "metadata": {},
   "source": [
    "Let's add our new array to the existing DataFrame."
   ]
  },
  {
   "cell_type": "code",
   "execution_count": 53,
   "id": "b51897bd-d136-40ff-bf58-efb4398e70dd",
   "metadata": {},
   "outputs": [
    {
     "name": "stdout",
     "output_type": "stream",
     "text": [
      "   position  velocity  time  acceleration\n",
      "0         0         0   0.0           0.0\n",
      "1         1         2   0.5           4.0\n",
      "2         2         4   1.0           8.0\n",
      "3         3         6   1.5          12.0\n",
      "4         4         8   2.0          16.0\n"
     ]
    }
   ],
   "source": [
    "df['time'] = time\n",
    "#print(df)"
   ]
  },
  {
   "cell_type": "markdown",
   "id": "ef01aa1b-267a-40c2-b645-b155df9214ae",
   "metadata": {},
   "source": [
    "Now that we have velocity and time, we can totally calculate acceleration. "
   ]
  },
  {
   "cell_type": "code",
   "execution_count": 54,
   "id": "9fb08fb3-ffeb-4fa6-822c-c5e041aa894e",
   "metadata": {},
   "outputs": [
    {
     "name": "stdout",
     "output_type": "stream",
     "text": [
      "[0, 4.0, 4.0, 4.0, 4.0]\n"
     ]
    }
   ],
   "source": [
    "acceleration = [0, 0, 0, 0, 0]"
   ]
  },
  {
   "cell_type": "markdown",
   "id": "905d546f-d1eb-4a8b-a335-edfa945b5271",
   "metadata": {},
   "source": [
    "Write a for-loop to give values to the acceleration list. Again, start with index 1 to avoid getting a division-by-0 error."
   ]
  },
  {
   "cell_type": "code",
   "execution_count": 56,
   "id": "9787c392-dab1-4143-b4e1-b33be3021f1f",
   "metadata": {},
   "outputs": [],
   "source": [
    "# for i in range(1, len(time)):\n",
    "    # acceleration[i] = \n",
    "#print(acceleration)"
   ]
  },
  {
   "cell_type": "markdown",
   "id": "9748856c-ee33-44a7-a2a3-259e28d55a5d",
   "metadata": {},
   "source": [
    "Add your acceleration list to the existing DataFrame."
   ]
  },
  {
   "cell_type": "code",
   "execution_count": 57,
   "id": "d3860a39-2b79-4f58-a34c-8d0d36c07fcb",
   "metadata": {},
   "outputs": [],
   "source": [
    "# add acceleration\n",
    "#print(df)"
   ]
  },
  {
   "cell_type": "markdown",
   "id": "9cd0e048-38b7-4808-a7f6-18b7732ea82c",
   "metadata": {},
   "source": [
    "Notice that the acceleration is constant when velocity is increasing at a steady rate. "
   ]
  },
  {
   "cell_type": "markdown",
   "id": "2826a960-aa0d-4ffd-bde8-82e808749774",
   "metadata": {},
   "source": [
    "Now that you've kind of gotten the basics of DataFrames, let's run through some additional methods."
   ]
  },
  {
   "cell_type": "markdown",
   "id": "d3df330d-e830-420a-91d6-2c094f592870",
   "metadata": {},
   "source": [
    "The iloc() method helps you fetch a specific row of data."
   ]
  },
  {
   "cell_type": "code",
   "execution_count": 58,
   "id": "2060ecf0-818f-4abd-b4c1-a80baaf15f57",
   "metadata": {},
   "outputs": [
    {
     "data": {
      "text/plain": [
       "position        0.0\n",
       "velocity        0.0\n",
       "time            0.0\n",
       "acceleration    0.0\n",
       "Name: 0, dtype: float64"
      ]
     },
     "execution_count": 58,
     "metadata": {},
     "output_type": "execute_result"
    }
   ],
   "source": [
    "# This will return the first row (index 0) of your data\n",
    "df.iloc[0]"
   ]
  },
  {
   "cell_type": "markdown",
   "id": "aaba233f-4853-4c13-8f50-3b52b38ce4de",
   "metadata": {},
   "source": [
    "If you want to fetch multiple rows, you can do this using slightly different notation."
   ]
  },
  {
   "cell_type": "code",
   "execution_count": 59,
   "id": "fbf63f2e-aa57-4946-a465-1629e4f0692a",
   "metadata": {},
   "outputs": [
    {
     "data": {
      "text/html": [
       "<div>\n",
       "<style scoped>\n",
       "    .dataframe tbody tr th:only-of-type {\n",
       "        vertical-align: middle;\n",
       "    }\n",
       "\n",
       "    .dataframe tbody tr th {\n",
       "        vertical-align: top;\n",
       "    }\n",
       "\n",
       "    .dataframe thead th {\n",
       "        text-align: right;\n",
       "    }\n",
       "</style>\n",
       "<table border=\"1\" class=\"dataframe\">\n",
       "  <thead>\n",
       "    <tr style=\"text-align: right;\">\n",
       "      <th></th>\n",
       "      <th>position</th>\n",
       "      <th>velocity</th>\n",
       "      <th>time</th>\n",
       "      <th>acceleration</th>\n",
       "    </tr>\n",
       "  </thead>\n",
       "  <tbody>\n",
       "    <tr>\n",
       "      <th>0</th>\n",
       "      <td>0</td>\n",
       "      <td>0</td>\n",
       "      <td>0.0</td>\n",
       "      <td>0.0</td>\n",
       "    </tr>\n",
       "    <tr>\n",
       "      <th>1</th>\n",
       "      <td>1</td>\n",
       "      <td>2</td>\n",
       "      <td>0.5</td>\n",
       "      <td>4.0</td>\n",
       "    </tr>\n",
       "  </tbody>\n",
       "</table>\n",
       "</div>"
      ],
      "text/plain": [
       "   position  velocity  time  acceleration\n",
       "0         0         0   0.0           0.0\n",
       "1         1         2   0.5           4.0"
      ]
     },
     "execution_count": 59,
     "metadata": {},
     "output_type": "execute_result"
    }
   ],
   "source": [
    "df.iloc[0:2]\n",
    "# This fetches the first TWO rows of data (indexes 0 and 1). \n",
    "# Notice that although the upper bound is 2, row 2 is not included. \n",
    "# More generally, this can be written as df.iloc[first: last (exclueded)]"
   ]
  },
  {
   "cell_type": "markdown",
   "id": "4d9692d3-a10d-42f3-9cc9-fe39b9ef99ca",
   "metadata": {},
   "source": [
    "Of course, you can do the same things with columns."
   ]
  },
  {
   "cell_type": "code",
   "execution_count": 60,
   "id": "07e50a35-76cf-4468-94a3-d742921c65ae",
   "metadata": {},
   "outputs": [
    {
     "data": {
      "text/plain": [
       "0    0\n",
       "1    1\n",
       "2    2\n",
       "3    3\n",
       "4    4\n",
       "Name: position, dtype: int64"
      ]
     },
     "execution_count": 60,
     "metadata": {},
     "output_type": "execute_result"
    }
   ],
   "source": [
    "df['position'] #this returns only the position column"
   ]
  },
  {
   "cell_type": "markdown",
   "id": "192e2e81-fbfc-4e74-a566-fecc15a07b18",
   "metadata": {},
   "source": [
    "You can also calculate the mean and median of your data using built-in methods. These are pretty easy to use."
   ]
  },
  {
   "cell_type": "code",
   "execution_count": 61,
   "id": "510dd93d-4a78-48ed-8ed8-98660c2c124b",
   "metadata": {},
   "outputs": [
    {
     "data": {
      "text/plain": [
       "4.0"
      ]
     },
     "execution_count": 61,
     "metadata": {},
     "output_type": "execute_result"
    }
   ],
   "source": [
    "df['velocity'].mean()\n",
    "# this returns the mean, or average, of all the velocity values"
   ]
  },
  {
   "cell_type": "code",
   "execution_count": 62,
   "id": "76e49c5b-6f3a-44f5-b367-2c10f01aaa7d",
   "metadata": {},
   "outputs": [
    {
     "data": {
      "text/plain": [
       "2.0"
      ]
     },
     "execution_count": 62,
     "metadata": {},
     "output_type": "execute_result"
    }
   ],
   "source": [
    "df['position'].median()\n",
    "# this returns the median of the position values"
   ]
  },
  {
   "cell_type": "markdown",
   "id": "700c695e-bb1e-43f7-a187-c70c8a33aa68",
   "metadata": {},
   "source": [
    "On your own, complete the following:"
   ]
  },
  {
   "cell_type": "code",
   "execution_count": 63,
   "id": "de26ff6f-21d4-47f9-bf21-81c3fdc3364e",
   "metadata": {},
   "outputs": [],
   "source": [
    "# print out three columns of data separately"
   ]
  },
  {
   "cell_type": "code",
   "execution_count": 64,
   "id": "f0754193-a6d8-4560-96a7-a1337cb5d636",
   "metadata": {},
   "outputs": [],
   "source": [
    "# add a column of values of your choice, label it, and print that out by itself"
   ]
  },
  {
   "cell_type": "code",
   "execution_count": 65,
   "id": "cbfce425-cca2-4474-aea2-0ce5427b1268",
   "metadata": {},
   "outputs": [],
   "source": [
    "# print out rows 2-4 of your data, inclusive"
   ]
  },
  {
   "cell_type": "code",
   "execution_count": 66,
   "id": "bc81f5c7-cce9-4764-a609-3ffdeb3963f5",
   "metadata": {},
   "outputs": [],
   "source": [
    "# find the median and average of the data column that you added"
   ]
  },
  {
   "cell_type": "code",
   "execution_count": null,
   "id": "6504f5d1-c517-4b1b-9d69-b00bf6b0e220",
   "metadata": {},
   "outputs": [],
   "source": []
  }
 ],
 "metadata": {
  "kernelspec": {
   "display_name": "Python 3",
   "language": "python",
   "name": "python3"
  },
  "language_info": {
   "codemirror_mode": {
    "name": "ipython",
    "version": 3
   },
   "file_extension": ".py",
   "mimetype": "text/x-python",
   "name": "python",
   "nbconvert_exporter": "python",
   "pygments_lexer": "ipython3",
   "version": "3.7.0"
  }
 },
 "nbformat": 4,
 "nbformat_minor": 5
}
